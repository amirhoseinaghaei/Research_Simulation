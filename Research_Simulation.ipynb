{
  "nbformat": 4,
  "nbformat_minor": 0,
  "metadata": {
    "colab": {
      "provenance": [],
      "authorship_tag": "ABX9TyP9RM6DVjaQgZSZUdNojHyA",
      "include_colab_link": true
    },
    "kernelspec": {
      "name": "python3",
      "display_name": "Python 3"
    },
    "language_info": {
      "name": "python"
    },
    "accelerator": "GPU",
    "gpuClass": "standard"
  },
  "cells": [
    {
      "cell_type": "markdown",
      "metadata": {
        "id": "view-in-github",
        "colab_type": "text"
      },
      "source": [
        "<a href=\"https://colab.research.google.com/github/amirhoseinaghaei/Research_Simulation/blob/main/Research_Simulation.ipynb\" target=\"_parent\"><img src=\"https://colab.research.google.com/assets/colab-badge.svg\" alt=\"Open In Colab\"/></a>"
      ]
    },
    {
      "cell_type": "code",
      "source": [
        "!fusermount -u drive\n",
        "!google-drive-ocamlfuse drive"
      ],
      "metadata": {
        "colab": {
          "base_uri": "https://localhost:8080/"
        },
        "id": "t5Dxqj3aTbb0",
        "outputId": "bbce1ae1-964c-403c-f14e-4e165520cf3c"
      },
      "execution_count": 1,
      "outputs": [
        {
          "output_type": "stream",
          "name": "stdout",
          "text": [
            "fusermount: failed to unmount /content/drive: No such file or directory\n",
            "/bin/bash: google-drive-ocamlfuse: command not found\n"
          ]
        }
      ]
    },
    {
      "cell_type": "code",
      "source": [
        "from google.colab import drive \n",
        "drive.mount('/content/gdrive/') "
      ],
      "metadata": {
        "colab": {
          "base_uri": "https://localhost:8080/"
        },
        "id": "0q4f9sUQQiyL",
        "outputId": "76ab87e5-f807-49db-880a-5a1e5d444dde"
      },
      "execution_count": 2,
      "outputs": [
        {
          "output_type": "stream",
          "name": "stdout",
          "text": [
            "Drive already mounted at /content/gdrive/; to attempt to forcibly remount, call drive.mount(\"/content/gdrive/\", force_remount=True).\n"
          ]
        }
      ]
    },
    {
      "cell_type": "code",
      "source": [
        "%cd gdrive/MyDrive/Research_Simmulation/\n"
      ],
      "metadata": {
        "colab": {
          "base_uri": "https://localhost:8080/"
        },
        "id": "8JJOOU4FRFDl",
        "outputId": "2fafd358-e06a-4dc9-f803-89a75ff4594d"
      },
      "execution_count": 3,
      "outputs": [
        {
          "output_type": "stream",
          "name": "stdout",
          "text": [
            "/content/gdrive/MyDrive/Research_Simmulation\n"
          ]
        }
      ]
    },
    {
      "cell_type": "code",
      "source": [
        "\n",
        "import numpy as np\n",
        "# from Environment import Actor\n",
        "from Rudder import LessonBuffer\n",
        "from Environment import Environment\n",
        "from Rudder import RRLSTM as LSTM\n",
        "import torch\n",
        "import time as Time\n",
        "import random\n",
        "from PolicyUpdater import PolicyUpdater\n",
        "from tqdm import tqdm\n",
        "\n",
        "lb_size = 2048\n",
        "n_lstm = 16\n",
        "max_time = 50\n",
        "policy_lr = 0.5\n",
        "lstm_lr = 1e-2\n",
        "l2_regularization = 1e-6\n",
        "avg_window = 750\n",
        "deadline = 40\n",
        "Lesson_buffer_a0 = LessonBuffer(1000, deadline, 5)\n",
        "episode = 0\n",
        "rudder_lstm_a0 = LSTM(state_input_size=5, n_actions= 2, buffer=Lesson_buffer_a0, n_units=n_lstm,\n",
        "                        lstm_lr=lstm_lr, l2_regularization=l2_regularization, return_scaling=10,\n",
        "                        lstm_batch_size=8, continuous_pred_factor=0.5)\n",
        "# rudder_lstm_a0.load_state_dict(torch.load('rudder_lstm_120_send_0.1.pt.pt'))\n",
        "environment = Environment(250,50)\n",
        "environment.CreateStates()\n",
        "policy_updator  = PolicyUpdater(environment= environment, lr = policy_lr)\n",
        "episode = 0\n",
        "for i in tqdm(range(5000)):\n",
        "    episode += 1\n",
        "    environment.reset_paramter()\n",
        "    state, _ = environment.reset_state()\n",
        "    environment.generate_channel_state_list_for_whole_sequence(state[1])\n",
        "    rewards = []\n",
        "    states = [state]\n",
        "    actions = []\n",
        "    done = False\n",
        "    name = f'({state[0]}, {state[1]}, {state[2]}, {state[3]}, {state[4]})'\n",
        "# if policy_updator.Quality[name,0] > policy_updator.Quality[name,1] else 1\n",
        "    while not done:\n",
        "        action = 1\n",
        "        if environment.state.Ra == 0 and environment.state.U == 0:\n",
        "            action = 0\n",
        "        if environment.state.U > 0:\n",
        "            action = 0\n",
        "        # if environment.sendbackaction == True:\n",
        "        #     action = 1\n",
        "\n",
        "        state, reward, done = environment.step(action)\n",
        "        actions.append(action)\n",
        "        states.append(state)\n",
        "        rewards.append(reward) \n",
        "        if done: \n",
        "\n",
        "            res = np.nonzero(rewards)[0]\n",
        "            if rewards[-1] == 0 and len(res) > 0 :\n",
        "              rewards[-1] = sum(rewards)\n",
        "              rewards[-1] = rewards[-1]/20\n",
        "              rewards[res[0]] = 0\n",
        "            else:\n",
        "              rewards[-1] = rewards[-1]/20\n",
        "               \n",
        "            for i in states: \n",
        "                if i[1] == \"Ch1\":\n",
        "                    i[1] = 1\n",
        "                else:\n",
        "                    i[1] = 0\n",
        "            states = np.stack(states)\n",
        "            states = states.astype(int)\n",
        "            rewards = np.array(rewards, dtype = np.float32)\n",
        "            actions = np.array(actions)\n",
        "            # print(states)\n",
        "            # print(actions)\n",
        "            # print(rewards)\n",
        "            Lesson_buffer_a0.add(states = states, actions = actions, rewards = rewards)\n",
        "            if  episode < 2500 and Lesson_buffer_a0.full_enough() and Lesson_buffer_a0.different_returns_encountered()  :\n",
        "                    if episode % 25 == 0:\n",
        "\n",
        "                        print(episode)\n",
        "                        rudder_lstm_a0.train(episode=episode)\n",
        "                    if episode >= 1800: \n",
        "                        torch.save(rudder_lstm_a0.state_dict(), 'rudder_lstm_150_send_0.4.pt')\n",
        "\n",
        "            rewards = rudder_lstm_a0.redistribute_reward(states=np.expand_dims(states, 0),actions=np.expand_dims(actions, 0))[0, :]\n",
        "            policy_updator.Q_learning(actions= actions , states = states, rewards= rewards)\n",
        "\n",
        "Optimal_Policy_Dict = {}\n",
        "for keys, value in policy_updator.Quality.items():\n",
        "         initial_StateName = []\n",
        "         for i in environment.initial_State:\n",
        "            initial_StateName.append(i.Name) \n",
        "          \n",
        "         if keys[0] in initial_StateName: \n",
        "            print('{:15} {:15} {:15}'.format( keys[0] , keys[1] , policy_updator.Quality[keys[0] ,keys[1]]))\n",
        "            if policy_updator.Quality[keys[0],0] > policy_updator.Quality[keys[0],1]:  \n",
        "              Optimal_Policy_Dict[keys[0]] = \"wait\"\n",
        "              print('{:15} {:15} {:15}'.format( keys[0] , \"Wait\" , policy_updator.Quality[keys[0] ,0]))\n",
        "            else:\n",
        "              Optimal_Policy_Dict[keys[0]] = \"send\"\n",
        "              print('{:15} {:15} {:15}'.format( keys[0] , \"Send Back\" , policy_updator.Quality[keys[0] ,1]))\n",
        "print(Optimal_Policy_Dict)"
      ],
      "metadata": {
        "id": "oI543CL8ZfeZ",
        "outputId": "34931d49-a56c-4e10-cde6-a1ac4d62b637",
        "colab": {
          "base_uri": "https://localhost:8080/"
        }
      },
      "execution_count": 5,
      "outputs": [
        {
          "output_type": "stream",
          "name": "stdout",
          "text": [
            "[[0.4, 0.6], [0.5, 0.5]]\n",
            "[[0.4, 0.6], [0.5, 0.5]]\n",
            "402108\n"
          ]
        },
        {
          "output_type": "stream",
          "name": "stderr",
          "text": [
            "  5%|▌         | 272/5000 [00:05<01:38, 48.01it/s]"
          ]
        },
        {
          "output_type": "stream",
          "name": "stdout",
          "text": [
            "275\n"
          ]
        },
        {
          "output_type": "stream",
          "name": "stderr",
          "text": [
            "  6%|▌         | 299/5000 [03:15<4:20:40,  3.33s/it]"
          ]
        },
        {
          "output_type": "stream",
          "name": "stdout",
          "text": [
            "300\n"
          ]
        },
        {
          "output_type": "stream",
          "name": "stderr",
          "text": [
            "  6%|▋         | 321/5000 [03:21<1:57:59,  1.51s/it]"
          ]
        },
        {
          "output_type": "stream",
          "name": "stdout",
          "text": [
            "325\n"
          ]
        },
        {
          "output_type": "stream",
          "name": "stderr",
          "text": [
            "  7%|▋         | 341/5000 [03:22<58:38,  1.32it/s]  "
          ]
        },
        {
          "output_type": "stream",
          "name": "stdout",
          "text": [
            "350\n"
          ]
        },
        {
          "output_type": "stream",
          "name": "stderr",
          "text": [
            "  7%|▋         | 373/5000 [03:37<33:59,  2.27it/s]"
          ]
        },
        {
          "output_type": "stream",
          "name": "stdout",
          "text": [
            "375\n"
          ]
        },
        {
          "output_type": "stream",
          "name": "stderr",
          "text": [
            "  8%|▊         | 399/5000 [04:35<1:18:10,  1.02s/it]"
          ]
        },
        {
          "output_type": "stream",
          "name": "stdout",
          "text": [
            "400\n"
          ]
        },
        {
          "output_type": "stream",
          "name": "stderr",
          "text": [
            "  8%|▊         | 413/5000 [05:18<1:58:48,  1.55s/it]"
          ]
        },
        {
          "output_type": "stream",
          "name": "stdout",
          "text": [
            "425\n"
          ]
        },
        {
          "output_type": "stream",
          "name": "stderr",
          "text": [
            "  9%|▉         | 443/5000 [05:19<40:14,  1.89it/s]"
          ]
        },
        {
          "output_type": "stream",
          "name": "stdout",
          "text": [
            "450\n"
          ]
        },
        {
          "output_type": "stream",
          "name": "stderr",
          "text": [
            "  9%|▉         | 474/5000 [05:36<30:37,  2.46it/s]"
          ]
        },
        {
          "output_type": "stream",
          "name": "stdout",
          "text": [
            "475\n"
          ]
        },
        {
          "output_type": "stream",
          "name": "stderr",
          "text": [
            " 10%|▉         | 493/5000 [05:37<17:34,  4.28it/s]"
          ]
        },
        {
          "output_type": "stream",
          "name": "stdout",
          "text": [
            "500\n"
          ]
        },
        {
          "output_type": "stream",
          "name": "stderr",
          "text": [
            " 10%|█         | 523/5000 [06:44<1:17:06,  1.03s/it]"
          ]
        },
        {
          "output_type": "stream",
          "name": "stdout",
          "text": [
            "525\n"
          ]
        },
        {
          "output_type": "stream",
          "name": "stderr",
          "text": [
            " 11%|█         | 542/5000 [06:45<40:57,  1.81it/s]"
          ]
        },
        {
          "output_type": "stream",
          "name": "stdout",
          "text": [
            "550\n"
          ]
        },
        {
          "output_type": "stream",
          "name": "stderr",
          "text": [
            " 11%|█▏        | 569/5000 [07:10<42:54,  1.72it/s]  "
          ]
        },
        {
          "output_type": "stream",
          "name": "stdout",
          "text": [
            "575\n"
          ]
        },
        {
          "output_type": "stream",
          "name": "stderr",
          "text": [
            " 12%|█▏        | 591/5000 [07:11<20:32,  3.58it/s]"
          ]
        },
        {
          "output_type": "stream",
          "name": "stdout",
          "text": [
            "600\n"
          ]
        },
        {
          "output_type": "stream",
          "name": "stderr",
          "text": [
            " 12%|█▏        | 624/5000 [07:16<11:41,  6.24it/s]"
          ]
        },
        {
          "output_type": "stream",
          "name": "stdout",
          "text": [
            "625\n"
          ]
        },
        {
          "output_type": "stream",
          "name": "stderr",
          "text": [
            " 13%|█▎        | 649/5000 [07:30<19:33,  3.71it/s]"
          ]
        },
        {
          "output_type": "stream",
          "name": "stdout",
          "text": [
            "650\n"
          ]
        },
        {
          "output_type": "stream",
          "name": "stderr",
          "text": [
            " 13%|█▎        | 668/5000 [07:31<11:57,  6.04it/s]"
          ]
        },
        {
          "output_type": "stream",
          "name": "stdout",
          "text": [
            "675\n"
          ]
        },
        {
          "output_type": "stream",
          "name": "stderr",
          "text": [
            " 14%|█▍        | 698/5000 [07:32<05:03, 14.17it/s]"
          ]
        },
        {
          "output_type": "stream",
          "name": "stdout",
          "text": [
            "700\n"
          ]
        },
        {
          "output_type": "stream",
          "name": "stderr",
          "text": [
            " 14%|█▍        | 724/5000 [19:11<12:18:53, 10.37s/it]"
          ]
        },
        {
          "output_type": "stream",
          "name": "stdout",
          "text": [
            "725\n"
          ]
        },
        {
          "output_type": "stream",
          "name": "stderr",
          "text": [
            " 15%|█▍        | 749/5000 [22:16<7:38:50,  6.48s/it] "
          ]
        },
        {
          "output_type": "stream",
          "name": "stdout",
          "text": [
            "750\n"
          ]
        },
        {
          "output_type": "stream",
          "name": "stderr",
          "text": [
            " 15%|█▌        | 763/5000 [22:49<4:59:01,  4.23s/it]"
          ]
        },
        {
          "output_type": "stream",
          "name": "stdout",
          "text": [
            "775\n"
          ]
        },
        {
          "output_type": "stream",
          "name": "stderr",
          "text": [
            " 16%|█▌        | 793/5000 [22:50<1:37:11,  1.39s/it]"
          ]
        },
        {
          "output_type": "stream",
          "name": "stdout",
          "text": [
            "800\n"
          ]
        },
        {
          "output_type": "stream",
          "name": "stderr",
          "text": [
            " 16%|█▋        | 819/5000 [22:51<36:38,  1.90it/s]"
          ]
        },
        {
          "output_type": "stream",
          "name": "stdout",
          "text": [
            "825\n"
          ]
        },
        {
          "output_type": "stream",
          "name": "stderr",
          "text": [
            " 17%|█▋        | 848/5000 [22:58<19:11,  3.61it/s]"
          ]
        },
        {
          "output_type": "stream",
          "name": "stdout",
          "text": [
            "850\n"
          ]
        },
        {
          "output_type": "stream",
          "name": "stderr",
          "text": [
            " 17%|█▋        | 868/5000 [23:08<23:22,  2.95it/s]"
          ]
        },
        {
          "output_type": "stream",
          "name": "stdout",
          "text": [
            "875\n"
          ]
        },
        {
          "output_type": "stream",
          "name": "stderr",
          "text": [
            " 18%|█▊        | 896/5000 [23:09<09:29,  7.20it/s]"
          ]
        },
        {
          "output_type": "stream",
          "name": "stdout",
          "text": [
            "900\n"
          ]
        },
        {
          "output_type": "stream",
          "name": "stderr",
          "text": [
            " 18%|█▊        | 924/5000 [23:13<08:15,  8.23it/s]"
          ]
        },
        {
          "output_type": "stream",
          "name": "stdout",
          "text": [
            "925\n"
          ]
        },
        {
          "output_type": "stream",
          "name": "stderr",
          "text": [
            " 19%|█▉        | 942/5000 [23:14<05:21, 12.63it/s]"
          ]
        },
        {
          "output_type": "stream",
          "name": "stdout",
          "text": [
            "950\n"
          ]
        },
        {
          "output_type": "stream",
          "name": "stderr",
          "text": [
            " 19%|█▉        | 970/5000 [23:15<02:54, 23.09it/s]"
          ]
        },
        {
          "output_type": "stream",
          "name": "stdout",
          "text": [
            "975\n"
          ]
        },
        {
          "output_type": "stream",
          "name": "stderr",
          "text": [
            " 20%|█▉        | 998/5000 [23:16<02:11, 30.54it/s]"
          ]
        },
        {
          "output_type": "stream",
          "name": "stdout",
          "text": [
            "1000\n"
          ]
        },
        {
          "output_type": "stream",
          "name": "stderr",
          "text": [
            " 20%|██        | 1022/5000 [23:17<02:11, 30.36it/s]"
          ]
        },
        {
          "output_type": "stream",
          "name": "stdout",
          "text": [
            "1025\n"
          ]
        },
        {
          "output_type": "stream",
          "name": "stderr",
          "text": [
            " 21%|██        | 1045/5000 [23:18<02:22, 27.74it/s]"
          ]
        },
        {
          "output_type": "stream",
          "name": "stdout",
          "text": [
            "1050\n"
          ]
        },
        {
          "output_type": "stream",
          "name": "stderr",
          "text": [
            " 21%|██▏       | 1068/5000 [23:19<02:23, 27.35it/s]"
          ]
        },
        {
          "output_type": "stream",
          "name": "stdout",
          "text": [
            "1075\n"
          ]
        },
        {
          "output_type": "stream",
          "name": "stderr",
          "text": [
            " 22%|██▏       | 1095/5000 [23:24<05:46, 11.28it/s]"
          ]
        },
        {
          "output_type": "stream",
          "name": "stdout",
          "text": [
            "1100\n"
          ]
        },
        {
          "output_type": "stream",
          "name": "stderr",
          "text": [
            " 22%|██▏       | 1123/5000 [23:31<08:51,  7.29it/s]"
          ]
        },
        {
          "output_type": "stream",
          "name": "stdout",
          "text": [
            "1125\n"
          ]
        },
        {
          "output_type": "stream",
          "name": "stderr",
          "text": [
            " 23%|██▎       | 1149/5000 [23:32<04:46, 13.46it/s]"
          ]
        },
        {
          "output_type": "stream",
          "name": "stdout",
          "text": [
            "1150\n"
          ]
        },
        {
          "output_type": "stream",
          "name": "stderr",
          "text": [
            " 23%|██▎       | 1174/5000 [23:33<03:15, 19.58it/s]"
          ]
        },
        {
          "output_type": "stream",
          "name": "stdout",
          "text": [
            "1175\n"
          ]
        },
        {
          "output_type": "stream",
          "name": "stderr",
          "text": [
            " 24%|██▍       | 1193/5000 [23:34<03:04, 20.66it/s]"
          ]
        },
        {
          "output_type": "stream",
          "name": "stdout",
          "text": [
            "1200\n"
          ]
        },
        {
          "output_type": "stream",
          "name": "stderr",
          "text": [
            " 24%|██▍       | 1213/5000 [23:35<02:31, 24.98it/s]"
          ]
        },
        {
          "output_type": "stream",
          "name": "stdout",
          "text": [
            "1225\n"
          ]
        },
        {
          "output_type": "stream",
          "name": "stderr",
          "text": [
            " 25%|██▍       | 1246/5000 [23:36<01:44, 36.05it/s]"
          ]
        },
        {
          "output_type": "stream",
          "name": "stdout",
          "text": [
            "1250\n"
          ]
        },
        {
          "output_type": "stream",
          "name": "stderr",
          "text": [
            " 25%|██▌       | 1274/5000 [23:37<01:41, 36.69it/s]"
          ]
        },
        {
          "output_type": "stream",
          "name": "stdout",
          "text": [
            "1275\n"
          ]
        },
        {
          "output_type": "stream",
          "name": "stderr",
          "text": [
            " 26%|██▌       | 1292/5000 [23:41<05:49, 10.61it/s]"
          ]
        },
        {
          "output_type": "stream",
          "name": "stdout",
          "text": [
            "1300\n"
          ]
        },
        {
          "output_type": "stream",
          "name": "stderr",
          "text": [
            " 26%|██▋       | 1319/5000 [23:42<03:02, 20.18it/s]"
          ]
        },
        {
          "output_type": "stream",
          "name": "stdout",
          "text": [
            "1325\n"
          ]
        },
        {
          "output_type": "stream",
          "name": "stderr",
          "text": [
            " 27%|██▋       | 1347/5000 [23:43<02:24, 25.32it/s]"
          ]
        },
        {
          "output_type": "stream",
          "name": "stdout",
          "text": [
            "1350\n"
          ]
        },
        {
          "output_type": "stream",
          "name": "stderr",
          "text": [
            " 27%|██▋       | 1373/5000 [23:44<02:01, 29.91it/s]"
          ]
        },
        {
          "output_type": "stream",
          "name": "stdout",
          "text": [
            "1375\n"
          ]
        },
        {
          "output_type": "stream",
          "name": "stderr",
          "text": [
            " 28%|██▊       | 1399/5000 [23:45<02:14, 26.68it/s]"
          ]
        },
        {
          "output_type": "stream",
          "name": "stdout",
          "text": [
            "1400\n"
          ]
        },
        {
          "output_type": "stream",
          "name": "stderr",
          "text": [
            " 28%|██▊       | 1422/5000 [23:47<02:30, 23.75it/s]"
          ]
        },
        {
          "output_type": "stream",
          "name": "stdout",
          "text": [
            "1425\n"
          ]
        },
        {
          "output_type": "stream",
          "name": "stderr",
          "text": [
            " 29%|██▉       | 1448/5000 [24:00<13:52,  4.27it/s]"
          ]
        },
        {
          "output_type": "stream",
          "name": "stdout",
          "text": [
            "1450\n"
          ]
        },
        {
          "output_type": "stream",
          "name": "stderr",
          "text": [
            " 29%|██▉       | 1466/5000 [24:01<08:11,  7.18it/s]"
          ]
        },
        {
          "output_type": "stream",
          "name": "stdout",
          "text": [
            "1475\n"
          ]
        },
        {
          "output_type": "stream",
          "name": "stderr",
          "text": [
            " 30%|██▉       | 1495/5000 [24:02<03:35, 16.25it/s]"
          ]
        },
        {
          "output_type": "stream",
          "name": "stdout",
          "text": [
            "1500\n"
          ]
        },
        {
          "output_type": "stream",
          "name": "stderr",
          "text": [
            " 30%|███       | 1522/5000 [24:03<02:11, 26.42it/s]"
          ]
        },
        {
          "output_type": "stream",
          "name": "stdout",
          "text": [
            "1525\n"
          ]
        },
        {
          "output_type": "stream",
          "name": "stderr",
          "text": [
            " 31%|███       | 1549/5000 [24:03<01:41, 33.97it/s]"
          ]
        },
        {
          "output_type": "stream",
          "name": "stdout",
          "text": [
            "1550\n"
          ]
        },
        {
          "output_type": "stream",
          "name": "stderr",
          "text": [
            " 31%|███▏      | 1567/5000 [24:04<01:49, 31.41it/s]"
          ]
        },
        {
          "output_type": "stream",
          "name": "stdout",
          "text": [
            "1575\n"
          ]
        },
        {
          "output_type": "stream",
          "name": "stderr",
          "text": [
            " 32%|███▏      | 1594/5000 [24:08<04:00, 14.14it/s]"
          ]
        },
        {
          "output_type": "stream",
          "name": "stdout",
          "text": [
            "1600\n"
          ]
        },
        {
          "output_type": "stream",
          "name": "stderr",
          "text": [
            " 32%|███▏      | 1619/5000 [24:12<05:53,  9.58it/s]"
          ]
        },
        {
          "output_type": "stream",
          "name": "stdout",
          "text": [
            "1625\n"
          ]
        },
        {
          "output_type": "stream",
          "name": "stderr",
          "text": [
            " 33%|███▎      | 1643/5000 [24:13<03:17, 16.98it/s]"
          ]
        },
        {
          "output_type": "stream",
          "name": "stdout",
          "text": [
            "1650\n"
          ]
        },
        {
          "output_type": "stream",
          "name": "stderr",
          "text": [
            " 33%|███▎      | 1670/5000 [24:14<02:09, 25.62it/s]"
          ]
        },
        {
          "output_type": "stream",
          "name": "stdout",
          "text": [
            "1675\n"
          ]
        },
        {
          "output_type": "stream",
          "name": "stderr",
          "text": [
            " 34%|███▍      | 1698/5000 [24:15<01:33, 35.32it/s]"
          ]
        },
        {
          "output_type": "stream",
          "name": "stdout",
          "text": [
            "1700\n"
          ]
        },
        {
          "output_type": "stream",
          "name": "stderr",
          "text": [
            " 34%|███▍      | 1716/5000 [24:16<01:56, 28.26it/s]"
          ]
        },
        {
          "output_type": "stream",
          "name": "stdout",
          "text": [
            "1725\n"
          ]
        },
        {
          "output_type": "stream",
          "name": "stderr",
          "text": [
            " 35%|███▍      | 1745/5000 [24:17<01:29, 36.32it/s]"
          ]
        },
        {
          "output_type": "stream",
          "name": "stdout",
          "text": [
            "1750\n"
          ]
        },
        {
          "output_type": "stream",
          "name": "stderr",
          "text": [
            " 35%|███▌      | 1774/5000 [24:18<01:17, 41.62it/s]"
          ]
        },
        {
          "output_type": "stream",
          "name": "stdout",
          "text": [
            "1775\n"
          ]
        },
        {
          "output_type": "stream",
          "name": "stderr",
          "text": [
            " 36%|███▌      | 1793/5000 [24:19<01:43, 31.02it/s]"
          ]
        },
        {
          "output_type": "stream",
          "name": "stdout",
          "text": [
            "1800\n"
          ]
        },
        {
          "output_type": "stream",
          "name": "stderr",
          "text": [
            " 36%|███▋      | 1821/5000 [24:20<01:38, 32.25it/s]"
          ]
        },
        {
          "output_type": "stream",
          "name": "stdout",
          "text": [
            "1825\n"
          ]
        },
        {
          "output_type": "stream",
          "name": "stderr",
          "text": [
            " 37%|███▋      | 1846/5000 [24:21<01:38, 32.10it/s]"
          ]
        },
        {
          "output_type": "stream",
          "name": "stdout",
          "text": [
            "1850\n"
          ]
        },
        {
          "output_type": "stream",
          "name": "stderr",
          "text": [
            " 37%|███▋      | 1873/5000 [24:33<09:57,  5.24it/s]"
          ]
        },
        {
          "output_type": "stream",
          "name": "stdout",
          "text": [
            "1875\n"
          ]
        },
        {
          "output_type": "stream",
          "name": "stderr",
          "text": [
            " 38%|███▊      | 1898/5000 [24:34<03:45, 13.78it/s]"
          ]
        },
        {
          "output_type": "stream",
          "name": "stdout",
          "text": [
            "1900\n"
          ]
        },
        {
          "output_type": "stream",
          "name": "stderr",
          "text": [
            " 38%|███▊      | 1922/5000 [24:35<02:12, 23.20it/s]"
          ]
        },
        {
          "output_type": "stream",
          "name": "stdout",
          "text": [
            "1925\n"
          ]
        },
        {
          "output_type": "stream",
          "name": "stderr",
          "text": [
            " 39%|███▉      | 1947/5000 [24:36<01:43, 29.44it/s]"
          ]
        },
        {
          "output_type": "stream",
          "name": "stdout",
          "text": [
            "1950\n"
          ]
        },
        {
          "output_type": "stream",
          "name": "stderr",
          "text": [
            " 39%|███▉      | 1973/5000 [24:37<01:38, 30.62it/s]"
          ]
        },
        {
          "output_type": "stream",
          "name": "stdout",
          "text": [
            "1975\n"
          ]
        },
        {
          "output_type": "stream",
          "name": "stderr",
          "text": [
            " 40%|███▉      | 1994/5000 [24:38<01:42, 29.28it/s]"
          ]
        },
        {
          "output_type": "stream",
          "name": "stdout",
          "text": [
            "2000\n"
          ]
        },
        {
          "output_type": "stream",
          "name": "stderr",
          "text": [
            " 40%|████      | 2022/5000 [24:39<01:41, 29.31it/s]"
          ]
        },
        {
          "output_type": "stream",
          "name": "stdout",
          "text": [
            "2025\n"
          ]
        },
        {
          "output_type": "stream",
          "name": "stderr",
          "text": [
            " 41%|████      | 2045/5000 [24:40<01:38, 30.09it/s]"
          ]
        },
        {
          "output_type": "stream",
          "name": "stdout",
          "text": [
            "2050\n"
          ]
        },
        {
          "output_type": "stream",
          "name": "stderr",
          "text": [
            " 41%|████▏     | 2070/5000 [24:42<01:34, 30.92it/s]"
          ]
        },
        {
          "output_type": "stream",
          "name": "stdout",
          "text": [
            "2075\n"
          ]
        },
        {
          "output_type": "stream",
          "name": "stderr",
          "text": [
            " 42%|████▏     | 2096/5000 [24:43<01:24, 34.19it/s]"
          ]
        },
        {
          "output_type": "stream",
          "name": "stdout",
          "text": [
            "2100\n"
          ]
        },
        {
          "output_type": "stream",
          "name": "stderr",
          "text": [
            " 42%|████▏     | 2120/5000 [24:44<01:25, 33.65it/s]"
          ]
        },
        {
          "output_type": "stream",
          "name": "stdout",
          "text": [
            "2125\n"
          ]
        },
        {
          "output_type": "stream",
          "name": "stderr",
          "text": [
            " 43%|████▎     | 2144/5000 [24:45<01:25, 33.50it/s]"
          ]
        },
        {
          "output_type": "stream",
          "name": "stdout",
          "text": [
            "2150\n"
          ]
        },
        {
          "output_type": "stream",
          "name": "stderr",
          "text": [
            " 43%|████▎     | 2174/5000 [24:46<01:13, 38.48it/s]"
          ]
        },
        {
          "output_type": "stream",
          "name": "stdout",
          "text": [
            "2175\n"
          ]
        },
        {
          "output_type": "stream",
          "name": "stderr",
          "text": [
            " 44%|████▍     | 2199/5000 [24:47<01:17, 36.15it/s]"
          ]
        },
        {
          "output_type": "stream",
          "name": "stdout",
          "text": [
            "2200\n"
          ]
        },
        {
          "output_type": "stream",
          "name": "stderr",
          "text": [
            " 44%|████▍     | 2221/5000 [24:48<01:29, 31.00it/s]"
          ]
        },
        {
          "output_type": "stream",
          "name": "stdout",
          "text": [
            "2225\n"
          ]
        },
        {
          "output_type": "stream",
          "name": "stderr",
          "text": [
            " 45%|████▍     | 2244/5000 [24:49<01:28, 30.99it/s]"
          ]
        },
        {
          "output_type": "stream",
          "name": "stdout",
          "text": [
            "2250\n"
          ]
        },
        {
          "output_type": "stream",
          "name": "stderr",
          "text": [
            " 45%|████▌     | 2269/5000 [24:50<01:21, 33.51it/s]"
          ]
        },
        {
          "output_type": "stream",
          "name": "stdout",
          "text": [
            "2275\n"
          ]
        },
        {
          "output_type": "stream",
          "name": "stderr",
          "text": [
            " 46%|████▌     | 2296/5000 [24:51<01:20, 33.76it/s]"
          ]
        },
        {
          "output_type": "stream",
          "name": "stdout",
          "text": [
            "2300\n"
          ]
        },
        {
          "output_type": "stream",
          "name": "stderr",
          "text": [
            " 46%|████▋     | 2320/5000 [24:52<01:31, 29.23it/s]"
          ]
        },
        {
          "output_type": "stream",
          "name": "stdout",
          "text": [
            "2325\n"
          ]
        },
        {
          "output_type": "stream",
          "name": "stderr",
          "text": [
            " 47%|████▋     | 2348/5000 [24:53<01:25, 30.99it/s]"
          ]
        },
        {
          "output_type": "stream",
          "name": "stdout",
          "text": [
            "2350\n"
          ]
        },
        {
          "output_type": "stream",
          "name": "stderr",
          "text": [
            " 47%|████▋     | 2370/5000 [24:54<01:33, 28.00it/s]"
          ]
        },
        {
          "output_type": "stream",
          "name": "stdout",
          "text": [
            "2375\n"
          ]
        },
        {
          "output_type": "stream",
          "name": "stderr",
          "text": [
            " 48%|████▊     | 2398/5000 [24:56<01:27, 29.76it/s]"
          ]
        },
        {
          "output_type": "stream",
          "name": "stdout",
          "text": [
            "2400\n"
          ]
        },
        {
          "output_type": "stream",
          "name": "stderr",
          "text": [
            " 48%|████▊     | 2423/5000 [24:57<01:17, 33.18it/s]"
          ]
        },
        {
          "output_type": "stream",
          "name": "stdout",
          "text": [
            "2425\n"
          ]
        },
        {
          "output_type": "stream",
          "name": "stderr",
          "text": [
            " 49%|████▉     | 2447/5000 [24:58<01:14, 34.30it/s]"
          ]
        },
        {
          "output_type": "stream",
          "name": "stdout",
          "text": [
            "2450\n"
          ]
        },
        {
          "output_type": "stream",
          "name": "stderr",
          "text": [
            " 49%|████▉     | 2471/5000 [24:59<01:19, 31.68it/s]"
          ]
        },
        {
          "output_type": "stream",
          "name": "stdout",
          "text": [
            "2475\n"
          ]
        },
        {
          "output_type": "stream",
          "name": "stderr",
          "text": [
            "100%|██████████| 5000/5000 [25:27<00:00,  3.27it/s] \n"
          ]
        },
        {
          "output_type": "stream",
          "name": "stdout",
          "text": [
            "(80, Ch1, 150, 1, 0)               0               0\n",
            "(80, Ch1, 150, 1, 0) Wait                          0\n",
            "(80, Ch1, 150, 1, 0)               1 -35.64038848876953\n",
            "(80, Ch1, 150, 1, 0) Wait                          0\n",
            "(80, Ch2, 150, 1, 0)               0               0\n",
            "(80, Ch2, 150, 1, 0) Wait                          0\n",
            "(80, Ch2, 150, 1, 0)               1 -56.415679931640625\n",
            "(80, Ch2, 150, 1, 0) Wait                          0\n",
            "(81, Ch1, 150, 1, 0)               0               0\n",
            "(81, Ch1, 150, 1, 0) Wait                          0\n",
            "(81, Ch1, 150, 1, 0)               1 -31.650983810424805\n",
            "(81, Ch1, 150, 1, 0) Wait                          0\n",
            "(81, Ch2, 150, 1, 0)               0               0\n",
            "(81, Ch2, 150, 1, 0) Wait                          0\n",
            "(81, Ch2, 150, 1, 0)               1 -55.107330322265625\n",
            "(81, Ch2, 150, 1, 0) Wait                          0\n",
            "(82, Ch1, 150, 1, 0)               0               0\n",
            "(82, Ch1, 150, 1, 0) Wait                          0\n",
            "(82, Ch1, 150, 1, 0)               1 -56.394020080566406\n",
            "(82, Ch1, 150, 1, 0) Wait                          0\n",
            "(82, Ch2, 150, 1, 0)               0               0\n",
            "(82, Ch2, 150, 1, 0) Wait                          0\n",
            "(82, Ch2, 150, 1, 0)               1 -40.94621658325195\n",
            "(82, Ch2, 150, 1, 0) Wait                          0\n",
            "(83, Ch1, 150, 1, 0)               0               0\n",
            "(83, Ch1, 150, 1, 0) Wait                          0\n",
            "(83, Ch1, 150, 1, 0)               1 -56.39198303222656\n",
            "(83, Ch1, 150, 1, 0) Wait                          0\n",
            "(83, Ch2, 150, 1, 0)               0               0\n",
            "(83, Ch2, 150, 1, 0) Wait                          0\n",
            "(83, Ch2, 150, 1, 0)               1 -56.200599670410156\n",
            "(83, Ch2, 150, 1, 0) Wait                          0\n",
            "(84, Ch1, 150, 1, 0)               0               0\n",
            "(84, Ch1, 150, 1, 0) Wait                          0\n",
            "(84, Ch1, 150, 1, 0)               1 -52.539634704589844\n",
            "(84, Ch1, 150, 1, 0) Wait                          0\n",
            "(84, Ch2, 150, 1, 0)               0               0\n",
            "(84, Ch2, 150, 1, 0) Wait                          0\n",
            "(84, Ch2, 150, 1, 0)               1 -42.52431106567383\n",
            "(84, Ch2, 150, 1, 0) Wait                          0\n",
            "(85, Ch1, 150, 1, 0)               0               0\n",
            "(85, Ch1, 150, 1, 0) Wait                          0\n",
            "(85, Ch1, 150, 1, 0)               1 -46.1292724609375\n",
            "(85, Ch1, 150, 1, 0) Wait                          0\n",
            "(85, Ch2, 150, 1, 0)               0               0\n",
            "(85, Ch2, 150, 1, 0) Wait                          0\n",
            "(85, Ch2, 150, 1, 0)               1 -48.641719818115234\n",
            "(85, Ch2, 150, 1, 0) Wait                          0\n",
            "(86, Ch1, 150, 1, 0)               0               0\n",
            "(86, Ch1, 150, 1, 0) Wait                          0\n",
            "(86, Ch1, 150, 1, 0)               1 -56.10912322998047\n",
            "(86, Ch1, 150, 1, 0) Wait                          0\n",
            "(86, Ch2, 150, 1, 0)               0               0\n",
            "(86, Ch2, 150, 1, 0) Wait                          0\n",
            "(86, Ch2, 150, 1, 0)               1 -52.13079071044922\n",
            "(86, Ch2, 150, 1, 0) Wait                          0\n",
            "(87, Ch1, 150, 1, 0)               0               0\n",
            "(87, Ch1, 150, 1, 0) Wait                          0\n",
            "(87, Ch1, 150, 1, 0)               1 -32.11276626586914\n",
            "(87, Ch1, 150, 1, 0) Wait                          0\n",
            "(87, Ch2, 150, 1, 0)               0               0\n",
            "(87, Ch2, 150, 1, 0) Wait                          0\n",
            "(87, Ch2, 150, 1, 0)               1 -54.36247253417969\n",
            "(87, Ch2, 150, 1, 0) Wait                          0\n",
            "(88, Ch1, 150, 1, 0)               0               0\n",
            "(88, Ch1, 150, 1, 0) Wait                          0\n",
            "(88, Ch1, 150, 1, 0)               1 -41.127418518066406\n",
            "(88, Ch1, 150, 1, 0) Wait                          0\n",
            "(88, Ch2, 150, 1, 0)               0               0\n",
            "(88, Ch2, 150, 1, 0) Wait                          0\n",
            "(88, Ch2, 150, 1, 0)               1 -50.744850158691406\n",
            "(88, Ch2, 150, 1, 0) Wait                          0\n",
            "(89, Ch1, 150, 1, 0)               0               0\n",
            "(89, Ch1, 150, 1, 0) Wait                          0\n",
            "(89, Ch1, 150, 1, 0)               1 -48.62746047973633\n",
            "(89, Ch1, 150, 1, 0) Wait                          0\n",
            "(89, Ch2, 150, 1, 0)               0               0\n",
            "(89, Ch2, 150, 1, 0) Wait                          0\n",
            "(89, Ch2, 150, 1, 0)               1 -47.21669006347656\n",
            "(89, Ch2, 150, 1, 0) Wait                          0\n",
            "(90, Ch1, 150, 1, 0)               0               0\n",
            "(90, Ch1, 150, 1, 0) Wait                          0\n",
            "(90, Ch1, 150, 1, 0)               1 -54.457786560058594\n",
            "(90, Ch1, 150, 1, 0) Wait                          0\n",
            "(90, Ch2, 150, 1, 0)               0               0\n",
            "(90, Ch2, 150, 1, 0) Wait                          0\n",
            "(90, Ch2, 150, 1, 0)               1 -45.006195068359375\n",
            "(90, Ch2, 150, 1, 0) Wait                          0\n",
            "(91, Ch1, 150, 1, 0)               0               0\n",
            "(91, Ch1, 150, 1, 0) Wait                          0\n",
            "(91, Ch1, 150, 1, 0)               1 -44.436363220214844\n",
            "(91, Ch1, 150, 1, 0) Wait                          0\n",
            "(91, Ch2, 150, 1, 0)               0               0\n",
            "(91, Ch2, 150, 1, 0) Wait                          0\n",
            "(91, Ch2, 150, 1, 0)               1 -53.512332916259766\n",
            "(91, Ch2, 150, 1, 0) Wait                          0\n",
            "(92, Ch1, 150, 1, 0)               0               0\n",
            "(92, Ch1, 150, 1, 0) Wait                          0\n",
            "(92, Ch1, 150, 1, 0)               1 -47.38380432128906\n",
            "(92, Ch1, 150, 1, 0) Wait                          0\n",
            "(92, Ch2, 150, 1, 0)               0               0\n",
            "(92, Ch2, 150, 1, 0) Wait                          0\n",
            "(92, Ch2, 150, 1, 0)               1 -52.58498001098633\n",
            "(92, Ch2, 150, 1, 0) Wait                          0\n",
            "(93, Ch1, 150, 1, 0)               0               0\n",
            "(93, Ch1, 150, 1, 0) Wait                          0\n",
            "(93, Ch1, 150, 1, 0)               1 -56.13740539550781\n",
            "(93, Ch1, 150, 1, 0) Wait                          0\n",
            "(93, Ch2, 150, 1, 0)               0               0\n",
            "(93, Ch2, 150, 1, 0) Wait                          0\n",
            "(93, Ch2, 150, 1, 0)               1 -55.010887145996094\n",
            "(93, Ch2, 150, 1, 0) Wait                          0\n",
            "(94, Ch1, 150, 1, 0)               0               0\n",
            "(94, Ch1, 150, 1, 0) Wait                          0\n",
            "(94, Ch1, 150, 1, 0)               1 -54.382484436035156\n",
            "(94, Ch1, 150, 1, 0) Wait                          0\n",
            "(94, Ch2, 150, 1, 0)               0               0\n",
            "(94, Ch2, 150, 1, 0) Wait                          0\n",
            "(94, Ch2, 150, 1, 0)               1 -48.01056671142578\n",
            "(94, Ch2, 150, 1, 0) Wait                          0\n",
            "(95, Ch1, 150, 1, 0)               0               0\n",
            "(95, Ch1, 150, 1, 0) Wait                          0\n",
            "(95, Ch1, 150, 1, 0)               1 -27.38829231262207\n",
            "(95, Ch1, 150, 1, 0) Wait                          0\n",
            "(95, Ch2, 150, 1, 0)               0               0\n",
            "(95, Ch2, 150, 1, 0) Wait                          0\n",
            "(95, Ch2, 150, 1, 0)               1 -46.855377197265625\n",
            "(95, Ch2, 150, 1, 0) Wait                          0\n",
            "(145, Ch1, 150, 1, 0)               0               0\n",
            "(145, Ch1, 150, 1, 0) Send Back       84.36776733398438\n",
            "(145, Ch1, 150, 1, 0)               1 84.36776733398438\n",
            "(145, Ch1, 150, 1, 0) Send Back       84.36776733398438\n",
            "(145, Ch2, 150, 1, 0)               0               0\n",
            "(145, Ch2, 150, 1, 0) Send Back       91.66934967041016\n",
            "(145, Ch2, 150, 1, 0)               1 91.66934967041016\n",
            "(145, Ch2, 150, 1, 0) Send Back       91.66934967041016\n",
            "(146, Ch1, 150, 1, 0)               0               0\n",
            "(146, Ch1, 150, 1, 0) Send Back       84.28633880615234\n",
            "(146, Ch1, 150, 1, 0)               1 84.28633880615234\n",
            "(146, Ch1, 150, 1, 0) Send Back       84.28633880615234\n",
            "(146, Ch2, 150, 1, 0)               0               0\n",
            "(146, Ch2, 150, 1, 0) Send Back       92.12867736816406\n",
            "(146, Ch2, 150, 1, 0)               1 92.12867736816406\n",
            "(146, Ch2, 150, 1, 0) Send Back       92.12867736816406\n",
            "(147, Ch1, 150, 1, 0)               0               0\n",
            "(147, Ch1, 150, 1, 0) Send Back       84.39771270751953\n",
            "(147, Ch1, 150, 1, 0)               1 84.39771270751953\n",
            "(147, Ch1, 150, 1, 0) Send Back       84.39771270751953\n",
            "(147, Ch2, 150, 1, 0)               0               0\n",
            "(147, Ch2, 150, 1, 0) Send Back       88.75215911865234\n",
            "(147, Ch2, 150, 1, 0)               1 88.75215911865234\n",
            "(147, Ch2, 150, 1, 0) Send Back       88.75215911865234\n",
            "(148, Ch1, 150, 1, 0)               0               0\n",
            "(148, Ch1, 150, 1, 0) Send Back       87.64559936523438\n",
            "(148, Ch1, 150, 1, 0)               1 87.64559936523438\n",
            "(148, Ch1, 150, 1, 0) Send Back       87.64559936523438\n",
            "(148, Ch2, 150, 1, 0)               0               0\n",
            "(148, Ch2, 150, 1, 0) Send Back       89.21734619140625\n",
            "(148, Ch2, 150, 1, 0)               1 89.21734619140625\n",
            "(148, Ch2, 150, 1, 0) Send Back       89.21734619140625\n",
            "(149, Ch1, 150, 1, 0)               0               0\n",
            "(149, Ch1, 150, 1, 0) Send Back           87.71484375\n",
            "(149, Ch1, 150, 1, 0)               1     87.71484375\n",
            "(149, Ch1, 150, 1, 0) Send Back           87.71484375\n",
            "(149, Ch2, 150, 1, 0)               0               0\n",
            "(149, Ch2, 150, 1, 0) Send Back       84.32172393798828\n",
            "(149, Ch2, 150, 1, 0)               1 84.32172393798828\n",
            "(149, Ch2, 150, 1, 0) Send Back       84.32172393798828\n",
            "(150, Ch1, 150, 1, 0)               0               0\n",
            "(150, Ch1, 150, 1, 0) Send Back       84.30076599121094\n",
            "(150, Ch1, 150, 1, 0)               1 84.30076599121094\n",
            "(150, Ch1, 150, 1, 0) Send Back       84.30076599121094\n",
            "(150, Ch2, 150, 1, 0)               0               0\n",
            "(150, Ch2, 150, 1, 0) Send Back       84.21499633789062\n",
            "(150, Ch2, 150, 1, 0)               1 84.21499633789062\n",
            "(150, Ch2, 150, 1, 0) Send Back       84.21499633789062\n",
            "(151, Ch1, 150, 1, 0)               0               0\n",
            "(151, Ch1, 150, 1, 0) Send Back       112.57268524169922\n",
            "(151, Ch1, 150, 1, 0)               1 112.57268524169922\n",
            "(151, Ch1, 150, 1, 0) Send Back       112.57268524169922\n",
            "(151, Ch2, 150, 1, 0)               0               0\n",
            "(151, Ch2, 150, 1, 0) Send Back       86.99557495117188\n",
            "(151, Ch2, 150, 1, 0)               1 86.99557495117188\n",
            "(151, Ch2, 150, 1, 0) Send Back       86.99557495117188\n",
            "(152, Ch1, 150, 1, 0)               0               0\n",
            "(152, Ch1, 150, 1, 0) Send Back       85.5896987915039\n",
            "(152, Ch1, 150, 1, 0)               1 85.5896987915039\n",
            "(152, Ch1, 150, 1, 0) Send Back       85.5896987915039\n",
            "(152, Ch2, 150, 1, 0)               0               0\n",
            "(152, Ch2, 150, 1, 0) Send Back       90.24066162109375\n",
            "(152, Ch2, 150, 1, 0)               1 90.24066162109375\n",
            "(152, Ch2, 150, 1, 0) Send Back       90.24066162109375\n",
            "(153, Ch1, 150, 1, 0)               0               0\n",
            "(153, Ch1, 150, 1, 0) Send Back       109.82689666748047\n",
            "(153, Ch1, 150, 1, 0)               1 109.82689666748047\n",
            "(153, Ch1, 150, 1, 0) Send Back       109.82689666748047\n",
            "(153, Ch2, 150, 1, 0)               0               0\n",
            "(153, Ch2, 150, 1, 0) Send Back       104.18961334228516\n",
            "(153, Ch2, 150, 1, 0)               1 104.18961334228516\n",
            "(153, Ch2, 150, 1, 0) Send Back       104.18961334228516\n",
            "(154, Ch1, 150, 1, 0)               0               0\n",
            "(154, Ch1, 150, 1, 0) Send Back       101.07102966308594\n",
            "(154, Ch1, 150, 1, 0)               1 101.07102966308594\n",
            "(154, Ch1, 150, 1, 0) Send Back       101.07102966308594\n",
            "(154, Ch2, 150, 1, 0)               0               0\n",
            "(154, Ch2, 150, 1, 0) Send Back       85.39849853515625\n",
            "(154, Ch2, 150, 1, 0)               1 85.39849853515625\n",
            "(154, Ch2, 150, 1, 0) Send Back       85.39849853515625\n",
            "(155, Ch1, 150, 1, 0)               0               0\n",
            "(155, Ch1, 150, 1, 0) Send Back       85.21699523925781\n",
            "(155, Ch1, 150, 1, 0)               1 85.21699523925781\n",
            "(155, Ch1, 150, 1, 0) Send Back       85.21699523925781\n",
            "(155, Ch2, 150, 1, 0)               0               0\n",
            "(155, Ch2, 150, 1, 0) Send Back       84.43977355957031\n",
            "(155, Ch2, 150, 1, 0)               1 84.43977355957031\n",
            "(155, Ch2, 150, 1, 0) Send Back       84.43977355957031\n",
            "(156, Ch1, 150, 1, 0)               0               0\n",
            "(156, Ch1, 150, 1, 0) Send Back       84.28050231933594\n",
            "(156, Ch1, 150, 1, 0)               1 84.28050231933594\n",
            "(156, Ch1, 150, 1, 0) Send Back       84.28050231933594\n",
            "(156, Ch2, 150, 1, 0)               0               0\n",
            "(156, Ch2, 150, 1, 0) Send Back       95.9188461303711\n",
            "(156, Ch2, 150, 1, 0)               1 95.9188461303711\n",
            "(156, Ch2, 150, 1, 0) Send Back       95.9188461303711\n",
            "(157, Ch1, 150, 1, 0)               0               0\n",
            "(157, Ch1, 150, 1, 0) Send Back       84.66082763671875\n",
            "(157, Ch1, 150, 1, 0)               1 84.66082763671875\n",
            "(157, Ch1, 150, 1, 0) Send Back       84.66082763671875\n",
            "(157, Ch2, 150, 1, 0)               0               0\n",
            "(157, Ch2, 150, 1, 0) Send Back       84.87269592285156\n",
            "(157, Ch2, 150, 1, 0)               1 84.87269592285156\n",
            "(157, Ch2, 150, 1, 0) Send Back       84.87269592285156\n",
            "(158, Ch1, 150, 1, 0)               0               0\n",
            "(158, Ch1, 150, 1, 0) Send Back       87.93236541748047\n",
            "(158, Ch1, 150, 1, 0)               1 87.93236541748047\n",
            "(158, Ch1, 150, 1, 0) Send Back       87.93236541748047\n",
            "(158, Ch2, 150, 1, 0)               0               0\n",
            "(158, Ch2, 150, 1, 0) Send Back       90.87421417236328\n",
            "(158, Ch2, 150, 1, 0)               1 90.87421417236328\n",
            "(158, Ch2, 150, 1, 0) Send Back       90.87421417236328\n",
            "(159, Ch1, 150, 1, 0)               0               0\n",
            "(159, Ch1, 150, 1, 0) Send Back       105.90093231201172\n",
            "(159, Ch1, 150, 1, 0)               1 105.90093231201172\n",
            "(159, Ch1, 150, 1, 0) Send Back       105.90093231201172\n",
            "(159, Ch2, 150, 1, 0)               0               0\n",
            "(159, Ch2, 150, 1, 0) Send Back        85.43603515625\n",
            "(159, Ch2, 150, 1, 0)               1  85.43603515625\n",
            "(159, Ch2, 150, 1, 0) Send Back        85.43603515625\n",
            "(160, Ch1, 150, 1, 0)               0               0\n",
            "(160, Ch1, 150, 1, 0) Send Back       107.35118865966797\n",
            "(160, Ch1, 150, 1, 0)               1 107.35118865966797\n",
            "(160, Ch1, 150, 1, 0) Send Back       107.35118865966797\n",
            "(160, Ch2, 150, 1, 0)               0               0\n",
            "(160, Ch2, 150, 1, 0) Send Back       95.29335021972656\n",
            "(160, Ch2, 150, 1, 0)               1 95.29335021972656\n",
            "(160, Ch2, 150, 1, 0) Send Back       95.29335021972656\n",
            "(210, Ch1, 150, 1, 0)               0               0\n",
            "(210, Ch1, 150, 1, 0) Send Back       107.61026000976562\n",
            "(210, Ch1, 150, 1, 0)               1 107.61026000976562\n",
            "(210, Ch1, 150, 1, 0) Send Back       107.61026000976562\n",
            "(210, Ch2, 150, 1, 0)               0               0\n",
            "(210, Ch2, 150, 1, 0) Send Back       91.50847625732422\n",
            "(210, Ch2, 150, 1, 0)               1 91.50847625732422\n",
            "(210, Ch2, 150, 1, 0) Send Back       91.50847625732422\n",
            "(211, Ch1, 150, 1, 0)               0               0\n",
            "(211, Ch1, 150, 1, 0) Send Back       100.0569076538086\n",
            "(211, Ch1, 150, 1, 0)               1 100.0569076538086\n",
            "(211, Ch1, 150, 1, 0) Send Back       100.0569076538086\n",
            "(211, Ch2, 150, 1, 0)               0               0\n",
            "(211, Ch2, 150, 1, 0) Send Back       87.18475341796875\n",
            "(211, Ch2, 150, 1, 0)               1 87.18475341796875\n",
            "(211, Ch2, 150, 1, 0) Send Back       87.18475341796875\n",
            "(212, Ch1, 150, 1, 0)               0               0\n",
            "(212, Ch1, 150, 1, 0) Send Back       84.15666198730469\n",
            "(212, Ch1, 150, 1, 0)               1 84.15666198730469\n",
            "(212, Ch1, 150, 1, 0) Send Back       84.15666198730469\n",
            "(212, Ch2, 150, 1, 0)               0               0\n",
            "(212, Ch2, 150, 1, 0) Send Back       88.98759460449219\n",
            "(212, Ch2, 150, 1, 0)               1 88.98759460449219\n",
            "(212, Ch2, 150, 1, 0) Send Back       88.98759460449219\n",
            "(213, Ch1, 150, 1, 0)               0               0\n",
            "(213, Ch1, 150, 1, 0) Send Back       84.50306701660156\n",
            "(213, Ch1, 150, 1, 0)               1 84.50306701660156\n",
            "(213, Ch1, 150, 1, 0) Send Back       84.50306701660156\n",
            "(213, Ch2, 150, 1, 0)               0               0\n",
            "(213, Ch2, 150, 1, 0) Send Back       84.20252227783203\n",
            "(213, Ch2, 150, 1, 0)               1 84.20252227783203\n",
            "(213, Ch2, 150, 1, 0) Send Back       84.20252227783203\n",
            "(214, Ch1, 150, 1, 0)               0               0\n",
            "(214, Ch1, 150, 1, 0) Send Back       88.57756042480469\n",
            "(214, Ch1, 150, 1, 0)               1 88.57756042480469\n",
            "(214, Ch1, 150, 1, 0) Send Back       88.57756042480469\n",
            "(214, Ch2, 150, 1, 0)               0               0\n",
            "(214, Ch2, 150, 1, 0) Send Back       84.96617889404297\n",
            "(214, Ch2, 150, 1, 0)               1 84.96617889404297\n",
            "(214, Ch2, 150, 1, 0) Send Back       84.96617889404297\n",
            "(215, Ch1, 150, 1, 0)               0               0\n",
            "(215, Ch1, 150, 1, 0) Send Back       84.39686584472656\n",
            "(215, Ch1, 150, 1, 0)               1 84.39686584472656\n",
            "(215, Ch1, 150, 1, 0) Send Back       84.39686584472656\n",
            "(215, Ch2, 150, 1, 0)               0               0\n",
            "(215, Ch2, 150, 1, 0) Send Back         84.4501953125\n",
            "(215, Ch2, 150, 1, 0)               1   84.4501953125\n",
            "(215, Ch2, 150, 1, 0) Send Back         84.4501953125\n",
            "(216, Ch1, 150, 1, 0)               0               0\n",
            "(216, Ch1, 150, 1, 0) Send Back       85.74586486816406\n",
            "(216, Ch1, 150, 1, 0)               1 85.74586486816406\n",
            "(216, Ch1, 150, 1, 0) Send Back       85.74586486816406\n",
            "(216, Ch2, 150, 1, 0)               0               0\n",
            "(216, Ch2, 150, 1, 0) Send Back       84.78462982177734\n",
            "(216, Ch2, 150, 1, 0)               1 84.78462982177734\n",
            "(216, Ch2, 150, 1, 0) Send Back       84.78462982177734\n",
            "(217, Ch1, 150, 1, 0)               0               0\n",
            "(217, Ch1, 150, 1, 0) Send Back       104.241943359375\n",
            "(217, Ch1, 150, 1, 0)               1 104.241943359375\n",
            "(217, Ch1, 150, 1, 0) Send Back       104.241943359375\n",
            "(217, Ch2, 150, 1, 0)               0               0\n",
            "(217, Ch2, 150, 1, 0) Send Back       86.74540710449219\n",
            "(217, Ch2, 150, 1, 0)               1 86.74540710449219\n",
            "(217, Ch2, 150, 1, 0) Send Back       86.74540710449219\n",
            "(218, Ch1, 150, 1, 0)               0               0\n",
            "(218, Ch1, 150, 1, 0) Send Back       85.46825408935547\n",
            "(218, Ch1, 150, 1, 0)               1 85.46825408935547\n",
            "(218, Ch1, 150, 1, 0) Send Back       85.46825408935547\n",
            "(218, Ch2, 150, 1, 0)               0               0\n",
            "(218, Ch2, 150, 1, 0) Send Back       91.20144653320312\n",
            "(218, Ch2, 150, 1, 0)               1 91.20144653320312\n",
            "(218, Ch2, 150, 1, 0) Send Back       91.20144653320312\n",
            "(219, Ch1, 150, 1, 0)               0               0\n",
            "(219, Ch1, 150, 1, 0) Send Back       88.30001831054688\n",
            "(219, Ch1, 150, 1, 0)               1 88.30001831054688\n",
            "(219, Ch1, 150, 1, 0) Send Back       88.30001831054688\n",
            "(219, Ch2, 150, 1, 0)               0               0\n",
            "(219, Ch2, 150, 1, 0) Send Back       88.80044555664062\n",
            "(219, Ch2, 150, 1, 0)               1 88.80044555664062\n",
            "(219, Ch2, 150, 1, 0) Send Back       88.80044555664062\n",
            "(220, Ch1, 150, 1, 0)               0               0\n",
            "(220, Ch1, 150, 1, 0) Send Back       84.8877182006836\n",
            "(220, Ch1, 150, 1, 0)               1 84.8877182006836\n",
            "(220, Ch1, 150, 1, 0) Send Back       84.8877182006836\n",
            "(220, Ch2, 150, 1, 0)               0               0\n",
            "(220, Ch2, 150, 1, 0) Send Back       87.91717529296875\n",
            "(220, Ch2, 150, 1, 0)               1 87.91717529296875\n",
            "(220, Ch2, 150, 1, 0) Send Back       87.91717529296875\n",
            "(221, Ch1, 150, 1, 0)               0               0\n",
            "(221, Ch1, 150, 1, 0) Send Back       86.44815826416016\n",
            "(221, Ch1, 150, 1, 0)               1 86.44815826416016\n",
            "(221, Ch1, 150, 1, 0) Send Back       86.44815826416016\n",
            "(221, Ch2, 150, 1, 0)               0               0\n",
            "(221, Ch2, 150, 1, 0) Send Back       85.21186828613281\n",
            "(221, Ch2, 150, 1, 0)               1 85.21186828613281\n",
            "(221, Ch2, 150, 1, 0) Send Back       85.21186828613281\n",
            "(222, Ch1, 150, 1, 0)               0               0\n",
            "(222, Ch1, 150, 1, 0) Send Back       84.63667297363281\n",
            "(222, Ch1, 150, 1, 0)               1 84.63667297363281\n",
            "(222, Ch1, 150, 1, 0) Send Back       84.63667297363281\n",
            "(222, Ch2, 150, 1, 0)               0               0\n",
            "(222, Ch2, 150, 1, 0) Send Back       92.66899108886719\n",
            "(222, Ch2, 150, 1, 0)               1 92.66899108886719\n",
            "(222, Ch2, 150, 1, 0) Send Back       92.66899108886719\n",
            "(223, Ch1, 150, 1, 0)               0               0\n",
            "(223, Ch1, 150, 1, 0) Send Back       96.61930847167969\n",
            "(223, Ch1, 150, 1, 0)               1 96.61930847167969\n",
            "(223, Ch1, 150, 1, 0) Send Back       96.61930847167969\n",
            "(223, Ch2, 150, 1, 0)               0               0\n",
            "(223, Ch2, 150, 1, 0) Send Back       98.75534057617188\n",
            "(223, Ch2, 150, 1, 0)               1 98.75534057617188\n",
            "(223, Ch2, 150, 1, 0) Send Back       98.75534057617188\n",
            "(224, Ch1, 150, 1, 0)               0               0\n",
            "(224, Ch1, 150, 1, 0) Send Back       85.00543212890625\n",
            "(224, Ch1, 150, 1, 0)               1 85.00543212890625\n",
            "(224, Ch1, 150, 1, 0) Send Back       85.00543212890625\n",
            "(224, Ch2, 150, 1, 0)               0               0\n",
            "(224, Ch2, 150, 1, 0) Send Back       85.29751586914062\n",
            "(224, Ch2, 150, 1, 0)               1 85.29751586914062\n",
            "(224, Ch2, 150, 1, 0) Send Back       85.29751586914062\n",
            "(225, Ch1, 150, 1, 0)               0               0\n",
            "(225, Ch1, 150, 1, 0) Send Back       87.71593475341797\n",
            "(225, Ch1, 150, 1, 0)               1 87.71593475341797\n",
            "(225, Ch1, 150, 1, 0) Send Back       87.71593475341797\n",
            "(225, Ch2, 150, 1, 0)               0               0\n",
            "(225, Ch2, 150, 1, 0) Send Back       89.17839813232422\n",
            "(225, Ch2, 150, 1, 0)               1 89.17839813232422\n",
            "(225, Ch2, 150, 1, 0) Send Back       89.17839813232422\n",
            "(275, Ch1, 150, 1, 0)               0               0\n",
            "(275, Ch1, 150, 1, 0) Send Back       194.54443359375\n",
            "(275, Ch1, 150, 1, 0)               1 194.54443359375\n",
            "(275, Ch1, 150, 1, 0) Send Back       194.54443359375\n",
            "(275, Ch2, 150, 1, 0)               0               0\n",
            "(275, Ch2, 150, 1, 0) Send Back       188.20614624023438\n",
            "(275, Ch2, 150, 1, 0)               1 188.20614624023438\n",
            "(275, Ch2, 150, 1, 0) Send Back       188.20614624023438\n",
            "(276, Ch1, 150, 1, 0)               0               0\n",
            "(276, Ch1, 150, 1, 0) Send Back       208.46255493164062\n",
            "(276, Ch1, 150, 1, 0)               1 208.46255493164062\n",
            "(276, Ch1, 150, 1, 0) Send Back       208.46255493164062\n",
            "(276, Ch2, 150, 1, 0)               0               0\n",
            "(276, Ch2, 150, 1, 0) Send Back       186.13259887695312\n",
            "(276, Ch2, 150, 1, 0)               1 186.13259887695312\n",
            "(276, Ch2, 150, 1, 0) Send Back       186.13259887695312\n",
            "(277, Ch1, 150, 1, 0)               0               0\n",
            "(277, Ch1, 150, 1, 0) Send Back       187.04942321777344\n",
            "(277, Ch1, 150, 1, 0)               1 187.04942321777344\n",
            "(277, Ch1, 150, 1, 0) Send Back       187.04942321777344\n",
            "(277, Ch2, 150, 1, 0)               0               0\n",
            "(277, Ch2, 150, 1, 0) Send Back       203.400634765625\n",
            "(277, Ch2, 150, 1, 0)               1 203.400634765625\n",
            "(277, Ch2, 150, 1, 0) Send Back       203.400634765625\n",
            "(278, Ch1, 150, 1, 0)               0               0\n",
            "(278, Ch1, 150, 1, 0) Send Back       209.8695831298828\n",
            "(278, Ch1, 150, 1, 0)               1 209.8695831298828\n",
            "(278, Ch1, 150, 1, 0) Send Back       209.8695831298828\n",
            "(278, Ch2, 150, 1, 0)               0               0\n",
            "(278, Ch2, 150, 1, 0) Send Back       188.4785614013672\n",
            "(278, Ch2, 150, 1, 0)               1 188.4785614013672\n",
            "(278, Ch2, 150, 1, 0) Send Back       188.4785614013672\n",
            "(279, Ch1, 150, 1, 0)               0               0\n",
            "(279, Ch1, 150, 1, 0) Send Back       197.98387145996094\n",
            "(279, Ch1, 150, 1, 0)               1 197.98387145996094\n",
            "(279, Ch1, 150, 1, 0) Send Back       197.98387145996094\n",
            "(279, Ch2, 150, 1, 0)               0               0\n",
            "(279, Ch2, 150, 1, 0) Send Back       196.34263610839844\n",
            "(279, Ch2, 150, 1, 0)               1 196.34263610839844\n",
            "(279, Ch2, 150, 1, 0) Send Back       196.34263610839844\n",
            "(280, Ch1, 150, 1, 0)               0               0\n",
            "(280, Ch1, 150, 1, 0) Send Back       186.2537078857422\n",
            "(280, Ch1, 150, 1, 0)               1 186.2537078857422\n",
            "(280, Ch1, 150, 1, 0) Send Back       186.2537078857422\n",
            "(280, Ch2, 150, 1, 0)               0               0\n",
            "(280, Ch2, 150, 1, 0) Send Back       194.74014282226562\n",
            "(280, Ch2, 150, 1, 0)               1 194.74014282226562\n",
            "(280, Ch2, 150, 1, 0) Send Back       194.74014282226562\n",
            "(281, Ch1, 150, 1, 0)               0               0\n",
            "(281, Ch1, 150, 1, 0) Send Back       192.3846435546875\n",
            "(281, Ch1, 150, 1, 0)               1 192.3846435546875\n",
            "(281, Ch1, 150, 1, 0) Send Back       192.3846435546875\n",
            "(281, Ch2, 150, 1, 0)               0               0\n",
            "(281, Ch2, 150, 1, 0) Send Back       191.32977294921875\n",
            "(281, Ch2, 150, 1, 0)               1 191.32977294921875\n",
            "(281, Ch2, 150, 1, 0) Send Back       191.32977294921875\n",
            "(282, Ch1, 150, 1, 0)               0               0\n",
            "(282, Ch1, 150, 1, 0) Send Back       194.0984344482422\n",
            "(282, Ch1, 150, 1, 0)               1 194.0984344482422\n",
            "(282, Ch1, 150, 1, 0) Send Back       194.0984344482422\n",
            "(282, Ch2, 150, 1, 0)               0               0\n",
            "(282, Ch2, 150, 1, 0) Send Back       192.05230712890625\n",
            "(282, Ch2, 150, 1, 0)               1 192.05230712890625\n",
            "(282, Ch2, 150, 1, 0) Send Back       192.05230712890625\n",
            "(283, Ch1, 150, 1, 0)               0               0\n",
            "(283, Ch1, 150, 1, 0) Send Back       192.83514404296875\n",
            "(283, Ch1, 150, 1, 0)               1 192.83514404296875\n",
            "(283, Ch1, 150, 1, 0) Send Back       192.83514404296875\n",
            "(283, Ch2, 150, 1, 0)               0               0\n",
            "(283, Ch2, 150, 1, 0) Send Back       186.0509796142578\n",
            "(283, Ch2, 150, 1, 0)               1 186.0509796142578\n",
            "(283, Ch2, 150, 1, 0) Send Back       186.0509796142578\n",
            "(284, Ch1, 150, 1, 0)               0               0\n",
            "(284, Ch1, 150, 1, 0) Send Back       210.94439697265625\n",
            "(284, Ch1, 150, 1, 0)               1 210.94439697265625\n",
            "(284, Ch1, 150, 1, 0) Send Back       210.94439697265625\n",
            "(284, Ch2, 150, 1, 0)               0               0\n",
            "(284, Ch2, 150, 1, 0) Send Back       186.63226318359375\n",
            "(284, Ch2, 150, 1, 0)               1 186.63226318359375\n",
            "(284, Ch2, 150, 1, 0) Send Back       186.63226318359375\n",
            "(285, Ch1, 150, 1, 0)               0               0\n",
            "(285, Ch1, 150, 1, 0) Send Back       190.85324096679688\n",
            "(285, Ch1, 150, 1, 0)               1 190.85324096679688\n",
            "(285, Ch1, 150, 1, 0) Send Back       190.85324096679688\n",
            "(285, Ch2, 150, 1, 0)               0               0\n",
            "(285, Ch2, 150, 1, 0) Send Back       187.9066162109375\n",
            "(285, Ch2, 150, 1, 0)               1 187.9066162109375\n",
            "(285, Ch2, 150, 1, 0) Send Back       187.9066162109375\n",
            "(286, Ch1, 150, 1, 0)               0               0\n",
            "(286, Ch1, 150, 1, 0) Send Back       188.63253784179688\n",
            "(286, Ch1, 150, 1, 0)               1 188.63253784179688\n",
            "(286, Ch1, 150, 1, 0) Send Back       188.63253784179688\n",
            "(286, Ch2, 150, 1, 0)               0               0\n",
            "(286, Ch2, 150, 1, 0) Send Back       189.62326049804688\n",
            "(286, Ch2, 150, 1, 0)               1 189.62326049804688\n",
            "(286, Ch2, 150, 1, 0) Send Back       189.62326049804688\n",
            "(287, Ch1, 150, 1, 0)               0               0\n",
            "(287, Ch1, 150, 1, 0) Send Back       192.27273559570312\n",
            "(287, Ch1, 150, 1, 0)               1 192.27273559570312\n",
            "(287, Ch1, 150, 1, 0) Send Back       192.27273559570312\n",
            "(287, Ch2, 150, 1, 0)               0               0\n",
            "(287, Ch2, 150, 1, 0) Send Back       186.80767822265625\n",
            "(287, Ch2, 150, 1, 0)               1 186.80767822265625\n",
            "(287, Ch2, 150, 1, 0) Send Back       186.80767822265625\n",
            "(288, Ch1, 150, 1, 0)               0               0\n",
            "(288, Ch1, 150, 1, 0) Send Back       186.04881286621094\n",
            "(288, Ch1, 150, 1, 0)               1 186.04881286621094\n",
            "(288, Ch1, 150, 1, 0) Send Back       186.04881286621094\n",
            "(288, Ch2, 150, 1, 0)               0               0\n",
            "(288, Ch2, 150, 1, 0) Send Back       205.8577117919922\n",
            "(288, Ch2, 150, 1, 0)               1 205.8577117919922\n",
            "(288, Ch2, 150, 1, 0) Send Back       205.8577117919922\n",
            "(289, Ch1, 150, 1, 0)               0               0\n",
            "(289, Ch1, 150, 1, 0) Send Back       186.31784057617188\n",
            "(289, Ch1, 150, 1, 0)               1 186.31784057617188\n",
            "(289, Ch1, 150, 1, 0) Send Back       186.31784057617188\n",
            "(289, Ch2, 150, 1, 0)               0               0\n",
            "(289, Ch2, 150, 1, 0) Send Back       186.27835083007812\n",
            "(289, Ch2, 150, 1, 0)               1 186.27835083007812\n",
            "(289, Ch2, 150, 1, 0) Send Back       186.27835083007812\n",
            "(290, Ch1, 150, 1, 0)               0               0\n",
            "(290, Ch1, 150, 1, 0) Send Back       192.96185302734375\n",
            "(290, Ch1, 150, 1, 0)               1 192.96185302734375\n",
            "(290, Ch1, 150, 1, 0) Send Back       192.96185302734375\n",
            "(290, Ch2, 150, 1, 0)               0               0\n",
            "(290, Ch2, 150, 1, 0) Send Back       212.97702026367188\n",
            "(290, Ch2, 150, 1, 0)               1 212.97702026367188\n",
            "(290, Ch2, 150, 1, 0) Send Back       212.97702026367188\n",
            "(340, Ch1, 150, 1, 0)               0               0\n",
            "(340, Ch1, 150, 1, 0) Send Back       186.99636840820312\n",
            "(340, Ch1, 150, 1, 0)               1 186.99636840820312\n",
            "(340, Ch1, 150, 1, 0) Send Back       186.99636840820312\n",
            "(340, Ch2, 150, 1, 0)               0               0\n",
            "(340, Ch2, 150, 1, 0) Send Back       180.48861694335938\n",
            "(340, Ch2, 150, 1, 0)               1 180.48861694335938\n",
            "(340, Ch2, 150, 1, 0) Send Back       180.48861694335938\n",
            "(341, Ch1, 150, 1, 0)               0               0\n",
            "(341, Ch1, 150, 1, 0) Send Back       204.90260314941406\n",
            "(341, Ch1, 150, 1, 0)               1 204.90260314941406\n",
            "(341, Ch1, 150, 1, 0) Send Back       204.90260314941406\n",
            "(341, Ch2, 150, 1, 0)               0               0\n",
            "(341, Ch2, 150, 1, 0) Send Back       178.94577026367188\n",
            "(341, Ch2, 150, 1, 0)               1 178.94577026367188\n",
            "(341, Ch2, 150, 1, 0) Send Back       178.94577026367188\n",
            "(342, Ch1, 150, 1, 0)               0               0\n",
            "(342, Ch1, 150, 1, 0) Send Back       179.53875732421875\n",
            "(342, Ch1, 150, 1, 0)               1 179.53875732421875\n",
            "(342, Ch1, 150, 1, 0) Send Back       179.53875732421875\n",
            "(342, Ch2, 150, 1, 0)               0               0\n",
            "(342, Ch2, 150, 1, 0) Send Back       180.8028564453125\n",
            "(342, Ch2, 150, 1, 0)               1 180.8028564453125\n",
            "(342, Ch2, 150, 1, 0) Send Back       180.8028564453125\n",
            "(343, Ch1, 150, 1, 0)               0               0\n",
            "(343, Ch1, 150, 1, 0) Send Back       190.76138305664062\n",
            "(343, Ch1, 150, 1, 0)               1 190.76138305664062\n",
            "(343, Ch1, 150, 1, 0) Send Back       190.76138305664062\n",
            "(343, Ch2, 150, 1, 0)               0               0\n",
            "(343, Ch2, 150, 1, 0) Send Back       186.66928100585938\n",
            "(343, Ch2, 150, 1, 0)               1 186.66928100585938\n",
            "(343, Ch2, 150, 1, 0) Send Back       186.66928100585938\n",
            "(344, Ch1, 150, 1, 0)               0               0\n",
            "(344, Ch1, 150, 1, 0) Send Back       193.69277954101562\n",
            "(344, Ch1, 150, 1, 0)               1 193.69277954101562\n",
            "(344, Ch1, 150, 1, 0) Send Back       193.69277954101562\n",
            "(344, Ch2, 150, 1, 0)               0               0\n",
            "(344, Ch2, 150, 1, 0) Send Back       192.62318420410156\n",
            "(344, Ch2, 150, 1, 0)               1 192.62318420410156\n",
            "(344, Ch2, 150, 1, 0) Send Back       192.62318420410156\n",
            "(345, Ch1, 150, 1, 0)               0               0\n",
            "(345, Ch1, 150, 1, 0) Send Back       179.8292236328125\n",
            "(345, Ch1, 150, 1, 0)               1 179.8292236328125\n",
            "(345, Ch1, 150, 1, 0) Send Back       179.8292236328125\n",
            "(345, Ch2, 150, 1, 0)               0               0\n",
            "(345, Ch2, 150, 1, 0) Send Back       180.63128662109375\n",
            "(345, Ch2, 150, 1, 0)               1 180.63128662109375\n",
            "(345, Ch2, 150, 1, 0) Send Back       180.63128662109375\n",
            "(346, Ch1, 150, 1, 0)               0               0\n",
            "(346, Ch1, 150, 1, 0) Send Back       197.7310028076172\n",
            "(346, Ch1, 150, 1, 0)               1 197.7310028076172\n",
            "(346, Ch1, 150, 1, 0) Send Back       197.7310028076172\n",
            "(346, Ch2, 150, 1, 0)               0               0\n",
            "(346, Ch2, 150, 1, 0) Send Back       180.29510498046875\n",
            "(346, Ch2, 150, 1, 0)               1 180.29510498046875\n",
            "(346, Ch2, 150, 1, 0) Send Back       180.29510498046875\n",
            "(347, Ch1, 150, 1, 0)               0               0\n",
            "(347, Ch1, 150, 1, 0) Send Back       196.887939453125\n",
            "(347, Ch1, 150, 1, 0)               1 196.887939453125\n",
            "(347, Ch1, 150, 1, 0) Send Back       196.887939453125\n",
            "(347, Ch2, 150, 1, 0)               0               0\n",
            "(347, Ch2, 150, 1, 0) Send Back       180.54989624023438\n",
            "(347, Ch2, 150, 1, 0)               1 180.54989624023438\n",
            "(347, Ch2, 150, 1, 0) Send Back       180.54989624023438\n",
            "(348, Ch1, 150, 1, 0)               0               0\n",
            "(348, Ch1, 150, 1, 0) Send Back       189.87286376953125\n",
            "(348, Ch1, 150, 1, 0)               1 189.87286376953125\n",
            "(348, Ch1, 150, 1, 0) Send Back       189.87286376953125\n",
            "(348, Ch2, 150, 1, 0)               0               0\n",
            "(348, Ch2, 150, 1, 0) Send Back       190.7895965576172\n",
            "(348, Ch2, 150, 1, 0)               1 190.7895965576172\n",
            "(348, Ch2, 150, 1, 0) Send Back       190.7895965576172\n",
            "(349, Ch1, 150, 1, 0)               0               0\n",
            "(349, Ch1, 150, 1, 0) Send Back       190.19723510742188\n",
            "(349, Ch1, 150, 1, 0)               1 190.19723510742188\n",
            "(349, Ch1, 150, 1, 0) Send Back       190.19723510742188\n",
            "(349, Ch2, 150, 1, 0)               0               0\n",
            "(349, Ch2, 150, 1, 0) Send Back       180.48089599609375\n",
            "(349, Ch2, 150, 1, 0)               1 180.48089599609375\n",
            "(349, Ch2, 150, 1, 0) Send Back       180.48089599609375\n",
            "(350, Ch1, 150, 1, 0)               0               0\n",
            "(350, Ch1, 150, 1, 0) Send Back       193.8240966796875\n",
            "(350, Ch1, 150, 1, 0)               1 193.8240966796875\n",
            "(350, Ch1, 150, 1, 0) Send Back       193.8240966796875\n",
            "(350, Ch2, 150, 1, 0)               0               0\n",
            "(350, Ch2, 150, 1, 0) Send Back       179.23056030273438\n",
            "(350, Ch2, 150, 1, 0)               1 179.23056030273438\n",
            "(350, Ch2, 150, 1, 0) Send Back       179.23056030273438\n",
            "(351, Ch1, 150, 1, 0)               0               0\n",
            "(351, Ch1, 150, 1, 0) Send Back       189.18551635742188\n",
            "(351, Ch1, 150, 1, 0)               1 189.18551635742188\n",
            "(351, Ch1, 150, 1, 0) Send Back       189.18551635742188\n",
            "(351, Ch2, 150, 1, 0)               0               0\n",
            "(351, Ch2, 150, 1, 0) Send Back       199.39132690429688\n",
            "(351, Ch2, 150, 1, 0)               1 199.39132690429688\n",
            "(351, Ch2, 150, 1, 0) Send Back       199.39132690429688\n",
            "(352, Ch1, 150, 1, 0)               0               0\n",
            "(352, Ch1, 150, 1, 0) Send Back       179.8724365234375\n",
            "(352, Ch1, 150, 1, 0)               1 179.8724365234375\n",
            "(352, Ch1, 150, 1, 0) Send Back       179.8724365234375\n",
            "(352, Ch2, 150, 1, 0)               0               0\n",
            "(352, Ch2, 150, 1, 0) Send Back       179.945556640625\n",
            "(352, Ch2, 150, 1, 0)               1 179.945556640625\n",
            "(352, Ch2, 150, 1, 0) Send Back       179.945556640625\n",
            "(353, Ch1, 150, 1, 0)               0               0\n",
            "(353, Ch1, 150, 1, 0) Send Back       178.95492553710938\n",
            "(353, Ch1, 150, 1, 0)               1 178.95492553710938\n",
            "(353, Ch1, 150, 1, 0) Send Back       178.95492553710938\n",
            "(353, Ch2, 150, 1, 0)               0               0\n",
            "(353, Ch2, 150, 1, 0) Send Back       193.21511840820312\n",
            "(353, Ch2, 150, 1, 0)               1 193.21511840820312\n",
            "(353, Ch2, 150, 1, 0) Send Back       193.21511840820312\n",
            "(354, Ch1, 150, 1, 0)               0               0\n",
            "(354, Ch1, 150, 1, 0) Send Back       181.00357055664062\n",
            "(354, Ch1, 150, 1, 0)               1 181.00357055664062\n",
            "(354, Ch1, 150, 1, 0) Send Back       181.00357055664062\n",
            "(354, Ch2, 150, 1, 0)               0               0\n",
            "(354, Ch2, 150, 1, 0) Send Back       178.9691162109375\n",
            "(354, Ch2, 150, 1, 0)               1 178.9691162109375\n",
            "(354, Ch2, 150, 1, 0) Send Back       178.9691162109375\n",
            "(355, Ch1, 150, 1, 0)               0               0\n",
            "(355, Ch1, 150, 1, 0) Send Back       187.6618194580078\n",
            "(355, Ch1, 150, 1, 0)               1 187.6618194580078\n",
            "(355, Ch1, 150, 1, 0) Send Back       187.6618194580078\n",
            "(355, Ch2, 150, 1, 0)               0               0\n",
            "(355, Ch2, 150, 1, 0) Send Back       182.03787231445312\n",
            "(355, Ch2, 150, 1, 0)               1 182.03787231445312\n",
            "(355, Ch2, 150, 1, 0) Send Back       182.03787231445312\n",
            "{'(80, Ch1, 150, 1, 0)': 'wait', '(80, Ch2, 150, 1, 0)': 'wait', '(81, Ch1, 150, 1, 0)': 'wait', '(81, Ch2, 150, 1, 0)': 'wait', '(82, Ch1, 150, 1, 0)': 'wait', '(82, Ch2, 150, 1, 0)': 'wait', '(83, Ch1, 150, 1, 0)': 'wait', '(83, Ch2, 150, 1, 0)': 'wait', '(84, Ch1, 150, 1, 0)': 'wait', '(84, Ch2, 150, 1, 0)': 'wait', '(85, Ch1, 150, 1, 0)': 'wait', '(85, Ch2, 150, 1, 0)': 'wait', '(86, Ch1, 150, 1, 0)': 'wait', '(86, Ch2, 150, 1, 0)': 'wait', '(87, Ch1, 150, 1, 0)': 'wait', '(87, Ch2, 150, 1, 0)': 'wait', '(88, Ch1, 150, 1, 0)': 'wait', '(88, Ch2, 150, 1, 0)': 'wait', '(89, Ch1, 150, 1, 0)': 'wait', '(89, Ch2, 150, 1, 0)': 'wait', '(90, Ch1, 150, 1, 0)': 'wait', '(90, Ch2, 150, 1, 0)': 'wait', '(91, Ch1, 150, 1, 0)': 'wait', '(91, Ch2, 150, 1, 0)': 'wait', '(92, Ch1, 150, 1, 0)': 'wait', '(92, Ch2, 150, 1, 0)': 'wait', '(93, Ch1, 150, 1, 0)': 'wait', '(93, Ch2, 150, 1, 0)': 'wait', '(94, Ch1, 150, 1, 0)': 'wait', '(94, Ch2, 150, 1, 0)': 'wait', '(95, Ch1, 150, 1, 0)': 'wait', '(95, Ch2, 150, 1, 0)': 'wait', '(145, Ch1, 150, 1, 0)': 'send', '(145, Ch2, 150, 1, 0)': 'send', '(146, Ch1, 150, 1, 0)': 'send', '(146, Ch2, 150, 1, 0)': 'send', '(147, Ch1, 150, 1, 0)': 'send', '(147, Ch2, 150, 1, 0)': 'send', '(148, Ch1, 150, 1, 0)': 'send', '(148, Ch2, 150, 1, 0)': 'send', '(149, Ch1, 150, 1, 0)': 'send', '(149, Ch2, 150, 1, 0)': 'send', '(150, Ch1, 150, 1, 0)': 'send', '(150, Ch2, 150, 1, 0)': 'send', '(151, Ch1, 150, 1, 0)': 'send', '(151, Ch2, 150, 1, 0)': 'send', '(152, Ch1, 150, 1, 0)': 'send', '(152, Ch2, 150, 1, 0)': 'send', '(153, Ch1, 150, 1, 0)': 'send', '(153, Ch2, 150, 1, 0)': 'send', '(154, Ch1, 150, 1, 0)': 'send', '(154, Ch2, 150, 1, 0)': 'send', '(155, Ch1, 150, 1, 0)': 'send', '(155, Ch2, 150, 1, 0)': 'send', '(156, Ch1, 150, 1, 0)': 'send', '(156, Ch2, 150, 1, 0)': 'send', '(157, Ch1, 150, 1, 0)': 'send', '(157, Ch2, 150, 1, 0)': 'send', '(158, Ch1, 150, 1, 0)': 'send', '(158, Ch2, 150, 1, 0)': 'send', '(159, Ch1, 150, 1, 0)': 'send', '(159, Ch2, 150, 1, 0)': 'send', '(160, Ch1, 150, 1, 0)': 'send', '(160, Ch2, 150, 1, 0)': 'send', '(210, Ch1, 150, 1, 0)': 'send', '(210, Ch2, 150, 1, 0)': 'send', '(211, Ch1, 150, 1, 0)': 'send', '(211, Ch2, 150, 1, 0)': 'send', '(212, Ch1, 150, 1, 0)': 'send', '(212, Ch2, 150, 1, 0)': 'send', '(213, Ch1, 150, 1, 0)': 'send', '(213, Ch2, 150, 1, 0)': 'send', '(214, Ch1, 150, 1, 0)': 'send', '(214, Ch2, 150, 1, 0)': 'send', '(215, Ch1, 150, 1, 0)': 'send', '(215, Ch2, 150, 1, 0)': 'send', '(216, Ch1, 150, 1, 0)': 'send', '(216, Ch2, 150, 1, 0)': 'send', '(217, Ch1, 150, 1, 0)': 'send', '(217, Ch2, 150, 1, 0)': 'send', '(218, Ch1, 150, 1, 0)': 'send', '(218, Ch2, 150, 1, 0)': 'send', '(219, Ch1, 150, 1, 0)': 'send', '(219, Ch2, 150, 1, 0)': 'send', '(220, Ch1, 150, 1, 0)': 'send', '(220, Ch2, 150, 1, 0)': 'send', '(221, Ch1, 150, 1, 0)': 'send', '(221, Ch2, 150, 1, 0)': 'send', '(222, Ch1, 150, 1, 0)': 'send', '(222, Ch2, 150, 1, 0)': 'send', '(223, Ch1, 150, 1, 0)': 'send', '(223, Ch2, 150, 1, 0)': 'send', '(224, Ch1, 150, 1, 0)': 'send', '(224, Ch2, 150, 1, 0)': 'send', '(225, Ch1, 150, 1, 0)': 'send', '(225, Ch2, 150, 1, 0)': 'send', '(275, Ch1, 150, 1, 0)': 'send', '(275, Ch2, 150, 1, 0)': 'send', '(276, Ch1, 150, 1, 0)': 'send', '(276, Ch2, 150, 1, 0)': 'send', '(277, Ch1, 150, 1, 0)': 'send', '(277, Ch2, 150, 1, 0)': 'send', '(278, Ch1, 150, 1, 0)': 'send', '(278, Ch2, 150, 1, 0)': 'send', '(279, Ch1, 150, 1, 0)': 'send', '(279, Ch2, 150, 1, 0)': 'send', '(280, Ch1, 150, 1, 0)': 'send', '(280, Ch2, 150, 1, 0)': 'send', '(281, Ch1, 150, 1, 0)': 'send', '(281, Ch2, 150, 1, 0)': 'send', '(282, Ch1, 150, 1, 0)': 'send', '(282, Ch2, 150, 1, 0)': 'send', '(283, Ch1, 150, 1, 0)': 'send', '(283, Ch2, 150, 1, 0)': 'send', '(284, Ch1, 150, 1, 0)': 'send', '(284, Ch2, 150, 1, 0)': 'send', '(285, Ch1, 150, 1, 0)': 'send', '(285, Ch2, 150, 1, 0)': 'send', '(286, Ch1, 150, 1, 0)': 'send', '(286, Ch2, 150, 1, 0)': 'send', '(287, Ch1, 150, 1, 0)': 'send', '(287, Ch2, 150, 1, 0)': 'send', '(288, Ch1, 150, 1, 0)': 'send', '(288, Ch2, 150, 1, 0)': 'send', '(289, Ch1, 150, 1, 0)': 'send', '(289, Ch2, 150, 1, 0)': 'send', '(290, Ch1, 150, 1, 0)': 'send', '(290, Ch2, 150, 1, 0)': 'send', '(340, Ch1, 150, 1, 0)': 'send', '(340, Ch2, 150, 1, 0)': 'send', '(341, Ch1, 150, 1, 0)': 'send', '(341, Ch2, 150, 1, 0)': 'send', '(342, Ch1, 150, 1, 0)': 'send', '(342, Ch2, 150, 1, 0)': 'send', '(343, Ch1, 150, 1, 0)': 'send', '(343, Ch2, 150, 1, 0)': 'send', '(344, Ch1, 150, 1, 0)': 'send', '(344, Ch2, 150, 1, 0)': 'send', '(345, Ch1, 150, 1, 0)': 'send', '(345, Ch2, 150, 1, 0)': 'send', '(346, Ch1, 150, 1, 0)': 'send', '(346, Ch2, 150, 1, 0)': 'send', '(347, Ch1, 150, 1, 0)': 'send', '(347, Ch2, 150, 1, 0)': 'send', '(348, Ch1, 150, 1, 0)': 'send', '(348, Ch2, 150, 1, 0)': 'send', '(349, Ch1, 150, 1, 0)': 'send', '(349, Ch2, 150, 1, 0)': 'send', '(350, Ch1, 150, 1, 0)': 'send', '(350, Ch2, 150, 1, 0)': 'send', '(351, Ch1, 150, 1, 0)': 'send', '(351, Ch2, 150, 1, 0)': 'send', '(352, Ch1, 150, 1, 0)': 'send', '(352, Ch2, 150, 1, 0)': 'send', '(353, Ch1, 150, 1, 0)': 'send', '(353, Ch2, 150, 1, 0)': 'send', '(354, Ch1, 150, 1, 0)': 'send', '(354, Ch2, 150, 1, 0)': 'send', '(355, Ch1, 150, 1, 0)': 'send', '(355, Ch2, 150, 1, 0)': 'send'}\n"
          ]
        }
      ]
    },
    {
      "cell_type": "code",
      "source": [
        "import numpy as np\n",
        "# from Environment import Actor\n",
        "from Rudder import LessonBuffer\n",
        "from Environment import Environment\n",
        "from Rudder import RRLSTM as LSTM\n",
        "import torch\n",
        "import time as Time\n",
        "import random\n",
        "from PolicyUpdater import PolicyUpdater\n",
        "\n",
        "lb_size = 2048\n",
        "n_lstm = 16\n",
        "max_time = 50\n",
        "policy_lr = 0.5\n",
        "lstm_lr = 1e-2\n",
        "l2_regularization = 1e-6\n",
        "avg_window = 750\n",
        "\n",
        "Lesson_buffer_a1 = LessonBuffer(1000, 25, 5)\n",
        "episode = 0\n",
        "\n",
        "rudder_lstm_a1 = LSTM(state_input_size=5, n_actions= 2, buffer=Lesson_buffer_a1, n_units=n_lstm,\n",
        "                        lstm_lr=lstm_lr, l2_regularization=l2_regularization, return_scaling=10,\n",
        "                        lstm_batch_size=8, continuous_pred_factor=0.5)\n",
        "# rudder_lstm.load_state_dict(torch.load('rudder_lstm.pt'))\n",
        "environment = Environment(100,25)\n",
        "environment.CreateStates()\n",
        "policy_updator  = PolicyUpdater(environment= environment, lr = policy_lr)\n",
        "episode = 0\n",
        "visited_dict_0 = {}\n",
        "for i in range(5000):\n",
        "    episode += 1\n",
        "    environment.reset_paramter()\n",
        "    state = environment.reset_state()\n",
        "    rewards = []\n",
        "    states = [state]\n",
        "    actions = []\n",
        "    done = False\n",
        "    name = f'({state[0]}, {state[1]}, {state[2]}, {state[3]}, {state[4]})'\n",
        "\n",
        "    while not done:\n",
        "        action = 1 \n",
        "        if environment.state.Ra == 0 and environment.state.U == 0:\n",
        "            action = 0\n",
        "        if environment.state.Ra == 0 and environment.state.U == 24:\n",
        "            action = 1\n",
        "        if environment.state.U > 0:\n",
        "            action = 0\n",
        "        state, reward, done = environment.step(action)\n",
        "        actions.append(action)\n",
        "        states.append(state)\n",
        "        rewards.append(reward) \n",
        "        if done: \n",
        "\n",
        "            res = np.nonzero(rewards)[0]\n",
        "            if len(res) > 0 :\n",
        "              # print(res)\n",
        "              rewards[-1] = rewards[res[0]]\n",
        "              rewards[res[0]] = 0   \n",
        "            for i in states: \n",
        "                if i[1] == \"Ch1\":\n",
        "                    i[1] = 1\n",
        "                else:\n",
        "                    i[1] = 0\n",
        "            states = np.stack(states)\n",
        "            states = states.astype(int)\n",
        "            rewards = np.array(rewards, dtype = np.float32)\n",
        "            actions = np.array(actions)\n",
        "            Lesson_buffer_a1.add(states = states, actions = actions, rewards = rewards)\n",
        "            if  episode < 2000 and Lesson_buffer_a1.full_enough() and Lesson_buffer_a1.different_returns_encountered()  :\n",
        "                    if episode % 25 == 0:\n",
        "\n",
        "                        # print(\"True\")\n",
        "                        print(episode)\n",
        "                        rudder_lstm_a1.train(episode=episode)\n",
        "                    if episode >= 1800: \n",
        "                        torch.save(rudder_lstm_a1.state_dict(), 'rudder_lstm_send_100.pt')\n",
        "            rewards = rudder_lstm_a1.redistribute_reward(states=np.expand_dims(states, 0),actions=np.expand_dims(actions, 0))[0, :]\n",
        "            policy_updator.Q_learning(actions= actions , states = states, rewards= rewards)\n",
        "\n",
        "for keys, value in policy_updator.Quality.items():\n",
        "         initial_StateName = []\n",
        "         for i in environment.initial_State:\n",
        "            initial_StateName.append(i.Name) \n",
        "         if keys[0] in initial_StateName: \n",
        "            print('{:15} {:15} {:15}'.format( keys[0] ,  keys[1], value))\n",
        "print(\"******************************************************************\")\n",
        "for keys, value in policy_updator.Quality.items():\n",
        "         initial_StateName = []\n",
        "         for i in environment.initial_State:\n",
        "            initial_StateName.append(i.Name) \n",
        "         if keys[0] in initial_StateName: \n",
        "            if policy_updator.Quality[keys[0],0] > policy_updator.Quality[keys[0],1]:  \n",
        "              print('{:15} {:15} {:15}'.format( keys[0] , \"Wait\" , policy_updator.Quality[keys[0] ,0]))\n",
        "            else:\n",
        "              print('{:15} {:15} {:15}'.format( keys[0] , \"Send Back\" , policy_updator.Quality[keys[0] ,1]))\n"
      ],
      "metadata": {
        "id": "q3D3Vrcvbuo0",
        "outputId": "d3d08adc-1f7f-4f43-8500-bee74500b2eb",
        "colab": {
          "base_uri": "https://localhost:8080/"
        }
      },
      "execution_count": null,
      "outputs": [
        {
          "output_type": "stream",
          "name": "stdout",
          "text": [
            "[[0.75, 0.25], [0.85, 0.15000000000000002]]\n",
            "Amir\n",
            "275\n",
            "300\n",
            "325\n",
            "350\n",
            "375\n",
            "400\n",
            "425\n",
            "450\n",
            "475\n",
            "500\n",
            "525\n",
            "550\n",
            "575\n",
            "600\n",
            "625\n",
            "650\n",
            "675\n",
            "700\n",
            "725\n",
            "750\n",
            "775\n",
            "800\n",
            "825\n",
            "850\n",
            "875\n",
            "900\n",
            "925\n",
            "950\n",
            "975\n",
            "1000\n",
            "1025\n",
            "1050\n",
            "1075\n",
            "1100\n",
            "1125\n",
            "1150\n",
            "1175\n",
            "1200\n",
            "1225\n",
            "1250\n",
            "1275\n",
            "1300\n",
            "1325\n",
            "1350\n",
            "1375\n",
            "1400\n",
            "1425\n",
            "1450\n",
            "1475\n",
            "1500\n",
            "1525\n",
            "1550\n",
            "1575\n",
            "1600\n",
            "1625\n",
            "1650\n",
            "1675\n",
            "1700\n",
            "1725\n",
            "1750\n",
            "1775\n",
            "1800\n",
            "1825\n",
            "1850\n",
            "1875\n",
            "1900\n",
            "1925\n",
            "1950\n",
            "1975\n",
            "(31, Ch1, 120, 1, 0)               0               0\n",
            "(31, Ch1, 120, 1, 0)               1 13.735158920288086\n",
            "(31, Ch2, 120, 1, 0)               0               0\n",
            "(31, Ch2, 120, 1, 0)               1 12.685922622680664\n",
            "(36, Ch1, 50, 1, 0)               0               0\n",
            "(36, Ch1, 50, 1, 0)               1 5.22218132019043\n",
            "(36, Ch2, 50, 1, 0)               0               0\n",
            "(36, Ch2, 50, 1, 0)               1 0.797095775604248\n",
            "(39, Ch1, 50, 1, 0)               0               0\n",
            "(39, Ch1, 50, 1, 0)               1 7.4098968505859375\n",
            "(39, Ch2, 50, 1, 0)               0               0\n",
            "(39, Ch2, 50, 1, 0)               1 7.55939245223999\n",
            "(42, Ch1, 50, 1, 0)               0               0\n",
            "(42, Ch1, 50, 1, 0)               1 6.192809104919434\n",
            "(42, Ch2, 50, 1, 0)               0               0\n",
            "(42, Ch2, 50, 1, 0)               1 8.644883155822754\n",
            "(45, Ch1, 50, 1, 0)               0               0\n",
            "(45, Ch1, 50, 1, 0)               1 8.134713172912598\n",
            "(45, Ch2, 50, 1, 0)               0               0\n",
            "(45, Ch2, 50, 1, 0)               1 8.475969314575195\n",
            "(61, Ch1, 120, 1, 0)               0               0\n",
            "(61, Ch1, 120, 1, 0)               1 14.871761322021484\n",
            "(61, Ch2, 120, 1, 0)               0               0\n",
            "(61, Ch2, 120, 1, 0)               1 12.297138214111328\n",
            "(66, Ch1, 50, 1, 0)               0               0\n",
            "(66, Ch1, 50, 1, 0)               1 -0.6114863157272339\n",
            "(66, Ch2, 50, 1, 0)               0               0\n",
            "(66, Ch2, 50, 1, 0)               1 -2.5972328186035156\n",
            "(69, Ch1, 50, 1, 0)               0               0\n",
            "(69, Ch1, 50, 1, 0)               1 3.7653908729553223\n",
            "(69, Ch2, 50, 1, 0)               0               0\n",
            "(69, Ch2, 50, 1, 0)               1 1.2179077863693237\n",
            "(72, Ch1, 50, 1, 0)               0               0\n",
            "(72, Ch1, 50, 1, 0)               1 1.8534140586853027\n",
            "(72, Ch2, 50, 1, 0)               0               0\n",
            "(72, Ch2, 50, 1, 0)               1 2.354914665222168\n",
            "(75, Ch1, 50, 1, 0)               0               0\n",
            "(75, Ch1, 50, 1, 0)               1 4.470059394836426\n",
            "(75, Ch2, 50, 1, 0)               0               0\n",
            "(75, Ch2, 50, 1, 0)               1 2.8846640586853027\n",
            "(91, Ch1, 120, 1, 0)               0               0\n",
            "(91, Ch1, 120, 1, 0)               1 10.2926607131958\n",
            "(91, Ch2, 120, 1, 0)               0               0\n",
            "(91, Ch2, 120, 1, 0)               1 8.920186996459961\n",
            "(96, Ch1, 50, 1, 0)               0               0\n",
            "(96, Ch1, 50, 1, 0)               1 -0.6873733997344971\n",
            "(96, Ch2, 50, 1, 0)               0               0\n",
            "(96, Ch2, 50, 1, 0)               1 -8.911710739135742\n",
            "(99, Ch1, 50, 1, 0)               0               0\n",
            "(99, Ch1, 50, 1, 0)               1 2.88713002204895\n",
            "(99, Ch2, 50, 1, 0)               0               0\n",
            "(99, Ch2, 50, 1, 0)               1 1.8777236938476562\n",
            "(102, Ch1, 50, 1, 0)               0               0\n",
            "(102, Ch1, 50, 1, 0)               1 1.5050315856933594\n",
            "(102, Ch2, 50, 1, 0)               0               0\n",
            "(102, Ch2, 50, 1, 0)               1 0.3621219992637634\n",
            "(105, Ch1, 50, 1, 0)               0               0\n",
            "(105, Ch1, 50, 1, 0)               1 3.5645554065704346\n",
            "(105, Ch2, 50, 1, 0)               0               0\n",
            "(105, Ch2, 50, 1, 0)               1 1.5538461208343506\n",
            "(121, Ch1, 120, 1, 0)               0               0\n",
            "(121, Ch1, 120, 1, 0)               1 13.233757019042969\n",
            "(121, Ch2, 120, 1, 0)               0               0\n",
            "(121, Ch2, 120, 1, 0)               1 10.245112419128418\n",
            "(126, Ch1, 50, 1, 0)               0               0\n",
            "(126, Ch1, 50, 1, 0)               1 -2.7612056732177734\n",
            "(126, Ch2, 50, 1, 0)               0               0\n",
            "(126, Ch2, 50, 1, 0)               1 -3.9951319694519043\n",
            "(129, Ch1, 50, 1, 0)               0               0\n",
            "(129, Ch1, 50, 1, 0)               1 1.986384630203247\n",
            "(129, Ch2, 50, 1, 0)               0               0\n",
            "(129, Ch2, 50, 1, 0)               1 -0.11810547113418579\n",
            "(132, Ch1, 50, 1, 0)               0               0\n",
            "(132, Ch1, 50, 1, 0)               1 3.1254427433013916\n",
            "(132, Ch2, 50, 1, 0)               0               0\n",
            "(132, Ch2, 50, 1, 0)               1 1.5612351894378662\n",
            "(135, Ch1, 50, 1, 0)               0               0\n",
            "(135, Ch1, 50, 1, 0)               1 4.561314105987549\n",
            "(135, Ch2, 50, 1, 0)               0               0\n",
            "(135, Ch2, 50, 1, 0)               1 2.0485992431640625\n",
            "******************************************************************\n",
            "(31, Ch1, 120, 1, 0) Send Back       13.735158920288086\n",
            "(31, Ch1, 120, 1, 0) Send Back       13.735158920288086\n",
            "(31, Ch2, 120, 1, 0) Send Back       12.685922622680664\n",
            "(31, Ch2, 120, 1, 0) Send Back       12.685922622680664\n",
            "(36, Ch1, 50, 1, 0) Send Back       5.22218132019043\n",
            "(36, Ch1, 50, 1, 0) Send Back       5.22218132019043\n",
            "(36, Ch2, 50, 1, 0) Send Back       0.797095775604248\n",
            "(36, Ch2, 50, 1, 0) Send Back       0.797095775604248\n",
            "(39, Ch1, 50, 1, 0) Send Back       7.4098968505859375\n",
            "(39, Ch1, 50, 1, 0) Send Back       7.4098968505859375\n",
            "(39, Ch2, 50, 1, 0) Send Back       7.55939245223999\n",
            "(39, Ch2, 50, 1, 0) Send Back       7.55939245223999\n",
            "(42, Ch1, 50, 1, 0) Send Back       6.192809104919434\n",
            "(42, Ch1, 50, 1, 0) Send Back       6.192809104919434\n",
            "(42, Ch2, 50, 1, 0) Send Back       8.644883155822754\n",
            "(42, Ch2, 50, 1, 0) Send Back       8.644883155822754\n",
            "(45, Ch1, 50, 1, 0) Send Back       8.134713172912598\n",
            "(45, Ch1, 50, 1, 0) Send Back       8.134713172912598\n",
            "(45, Ch2, 50, 1, 0) Send Back       8.475969314575195\n",
            "(45, Ch2, 50, 1, 0) Send Back       8.475969314575195\n",
            "(61, Ch1, 120, 1, 0) Send Back       14.871761322021484\n",
            "(61, Ch1, 120, 1, 0) Send Back       14.871761322021484\n",
            "(61, Ch2, 120, 1, 0) Send Back       12.297138214111328\n",
            "(61, Ch2, 120, 1, 0) Send Back       12.297138214111328\n",
            "(66, Ch1, 50, 1, 0) Wait                          0\n",
            "(66, Ch1, 50, 1, 0) Wait                          0\n",
            "(66, Ch2, 50, 1, 0) Wait                          0\n",
            "(66, Ch2, 50, 1, 0) Wait                          0\n",
            "(69, Ch1, 50, 1, 0) Send Back       3.7653908729553223\n",
            "(69, Ch1, 50, 1, 0) Send Back       3.7653908729553223\n",
            "(69, Ch2, 50, 1, 0) Send Back       1.2179077863693237\n",
            "(69, Ch2, 50, 1, 0) Send Back       1.2179077863693237\n",
            "(72, Ch1, 50, 1, 0) Send Back       1.8534140586853027\n",
            "(72, Ch1, 50, 1, 0) Send Back       1.8534140586853027\n",
            "(72, Ch2, 50, 1, 0) Send Back       2.354914665222168\n",
            "(72, Ch2, 50, 1, 0) Send Back       2.354914665222168\n",
            "(75, Ch1, 50, 1, 0) Send Back       4.470059394836426\n",
            "(75, Ch1, 50, 1, 0) Send Back       4.470059394836426\n",
            "(75, Ch2, 50, 1, 0) Send Back       2.8846640586853027\n",
            "(75, Ch2, 50, 1, 0) Send Back       2.8846640586853027\n",
            "(91, Ch1, 120, 1, 0) Send Back       10.2926607131958\n",
            "(91, Ch1, 120, 1, 0) Send Back       10.2926607131958\n",
            "(91, Ch2, 120, 1, 0) Send Back       8.920186996459961\n",
            "(91, Ch2, 120, 1, 0) Send Back       8.920186996459961\n",
            "(96, Ch1, 50, 1, 0) Wait                          0\n",
            "(96, Ch1, 50, 1, 0) Wait                          0\n",
            "(96, Ch2, 50, 1, 0) Wait                          0\n",
            "(96, Ch2, 50, 1, 0) Wait                          0\n",
            "(99, Ch1, 50, 1, 0) Send Back       2.88713002204895\n",
            "(99, Ch1, 50, 1, 0) Send Back       2.88713002204895\n",
            "(99, Ch2, 50, 1, 0) Send Back       1.8777236938476562\n",
            "(99, Ch2, 50, 1, 0) Send Back       1.8777236938476562\n",
            "(102, Ch1, 50, 1, 0) Send Back       1.5050315856933594\n",
            "(102, Ch1, 50, 1, 0) Send Back       1.5050315856933594\n",
            "(102, Ch2, 50, 1, 0) Send Back       0.3621219992637634\n",
            "(102, Ch2, 50, 1, 0) Send Back       0.3621219992637634\n",
            "(105, Ch1, 50, 1, 0) Send Back       3.5645554065704346\n",
            "(105, Ch1, 50, 1, 0) Send Back       3.5645554065704346\n",
            "(105, Ch2, 50, 1, 0) Send Back       1.5538461208343506\n",
            "(105, Ch2, 50, 1, 0) Send Back       1.5538461208343506\n",
            "(121, Ch1, 120, 1, 0) Send Back       13.233757019042969\n",
            "(121, Ch1, 120, 1, 0) Send Back       13.233757019042969\n",
            "(121, Ch2, 120, 1, 0) Send Back       10.245112419128418\n",
            "(121, Ch2, 120, 1, 0) Send Back       10.245112419128418\n",
            "(126, Ch1, 50, 1, 0) Wait                          0\n",
            "(126, Ch1, 50, 1, 0) Wait                          0\n",
            "(126, Ch2, 50, 1, 0) Wait                          0\n",
            "(126, Ch2, 50, 1, 0) Wait                          0\n",
            "(129, Ch1, 50, 1, 0) Send Back       1.986384630203247\n",
            "(129, Ch1, 50, 1, 0) Send Back       1.986384630203247\n",
            "(129, Ch2, 50, 1, 0) Wait                          0\n",
            "(129, Ch2, 50, 1, 0) Wait                          0\n",
            "(132, Ch1, 50, 1, 0) Send Back       3.1254427433013916\n",
            "(132, Ch1, 50, 1, 0) Send Back       3.1254427433013916\n",
            "(132, Ch2, 50, 1, 0) Send Back       1.5612351894378662\n",
            "(132, Ch2, 50, 1, 0) Send Back       1.5612351894378662\n",
            "(135, Ch1, 50, 1, 0) Send Back       4.561314105987549\n",
            "(135, Ch1, 50, 1, 0) Send Back       4.561314105987549\n",
            "(135, Ch2, 50, 1, 0) Send Back       2.0485992431640625\n",
            "(135, Ch2, 50, 1, 0) Send Back       2.0485992431640625\n"
          ]
        }
      ]
    },
    {
      "cell_type": "code",
      "source": [
        "\n",
        "\n",
        "\n",
        "import numpy as np\n",
        "# from Environment import Actor\n",
        "from Rudder import LessonBuffer\n",
        "from Environment import Environment\n",
        "from Rudder import RRLSTM as LSTM\n",
        "import torch\n",
        "import time as Time\n",
        "import random\n",
        "from PolicyUpdater import PolicyUpdater\n",
        "from tqdm import tqdm \n",
        "\n",
        "lb_size = 2048\n",
        "n_lstm = 16\n",
        "max_time = 50\n",
        "policy_lr = 0.5\n",
        "lstm_lr = 1e-2\n",
        "l2_regularization = 1e-6\n",
        "avg_window = 750\n",
        "\n",
        "episode = 0\n",
        "Lesson_buffer_a1 = LessonBuffer(1000, 40, 5)\n",
        "Lesson_buffer_a0 = LessonBuffer(1000, 40, 5)\n",
        "\n",
        "rudder_lstm_a0 = LSTM(state_input_size=5, n_actions= 2, buffer=Lesson_buffer_a0, n_units=n_lstm,\n",
        "                        lstm_lr=lstm_lr, l2_regularization=l2_regularization, return_scaling=10,\n",
        "                        lstm_batch_size=8, continuous_pred_factor=0.5)\n",
        "rudder_lstm_a1 = LSTM(state_input_size=5, n_actions= 2, buffer=Lesson_buffer_a1, n_units=n_lstm,\n",
        "                        lstm_lr=lstm_lr, l2_regularization=l2_regularization, return_scaling=10,\n",
        "                        lstm_batch_size=8, continuous_pred_factor=0.5)\n",
        "rudder_lstm_a0.load_state_dict(torch.load('rudder_lstm_150_wait_0.4.pt'))\n",
        "rudder_lstm_a1.load_state_dict(torch.load('rudder_lstm_150_send_0.4.pt'))\n",
        "\n",
        "environment = Environment(250,50)\n",
        "environment.CreateStates()\n",
        "policy_updator  = PolicyUpdater(environment= environment, lr = policy_lr)\n",
        "episode = 0\n",
        "for i in tqdm(range(10000)):\n",
        "    episode += 1\n",
        "    environment.reset_paramter()\n",
        "    state , _ = environment.reset_state()\n",
        "    environment.generate_channel_state_list_for_whole_sequence(state[1])\n",
        "    rewards = []\n",
        "    states = [state]\n",
        "    actions = []\n",
        "    done = False\n",
        "    name = f'({state[0]}, {state[1]}, {state[2]}, {state[3]}, {state[4]})'\n",
        "\n",
        "    while not done:\n",
        "        if np.random.random() < 0.15:\n",
        "            action = np.random.choice(2) \n",
        "        else:\n",
        "            action = 0 if policy_updator.Quality[name,0] > policy_updator.Quality[name,1] else 1\n",
        "        if environment.state.Ra == 0 and environment.state.U == 0:\n",
        "            action = 0\n",
        "        if environment.state.U > 0:\n",
        "            action = 0\n",
        "        if environment.sendbackaction == True:\n",
        "            action = 1\n",
        "        state, reward, done = environment.step(action)\n",
        "    \n",
        "        actions.append(action)\n",
        "        states.append(state)\n",
        "        rewards.append(reward) \n",
        "        if done: \n",
        "\n",
        "            res = np.nonzero(rewards)[0]\n",
        "            if len(res) > 0 :\n",
        "              # print(res)\n",
        "              rewards[-1] = rewards[res[0]]\n",
        "              rewards[res[0]] = 0   \n",
        "            for i in states: \n",
        "                if i[1] == \"Ch1\":\n",
        "                    i[1] = 1\n",
        "                else:\n",
        "                    i[1] = 0\n",
        "            states = np.stack(states)\n",
        "            states = states.astype(int)\n",
        "            rewards = np.array(rewards, dtype = np.float32)\n",
        "            actions = np.array(actions)\n",
        "            if actions[0] == 0: \n",
        "              rewards = rudder_lstm_a0.redistribute_reward(states=np.expand_dims(states, 0),actions=np.expand_dims(actions, 0))[0, :]\n",
        "            if actions[0] == 1: \n",
        "              rewards = rudder_lstm_a1.redistribute_reward(states=np.expand_dims(states, 0),actions=np.expand_dims(actions, 0))[0, :]\n",
        "            \n",
        "            policy_updator.Q_learning(actions= actions , states = states, rewards= rewards)\n",
        "\n",
        "Optimal_Policy_Dict = {}\n",
        "for keys, value in policy_updator.Quality.items():\n",
        "         initial_StateName = []\n",
        "         for i in environment.initial_State:\n",
        "            initial_StateName.append(i.Name) \n",
        "         if keys[0] in initial_StateName: \n",
        "            if policy_updator.Quality[keys[0],0] > policy_updator.Quality[keys[0],1]:  \n",
        "              Optimal_Policy_Dict[keys[0]] = \"wait\"\n",
        "              print('{:15} {:15} {:15}'.format( keys[0] , \"Wait\" , policy_updator.Quality[keys[0] ,0]))\n",
        "            else:\n",
        "              Optimal_Policy_Dict[keys[0]] = \"send\"\n",
        "              print('{:15} {:15} {:15}'.format( keys[0] , \"Send Back\" , policy_updator.Quality[keys[0] ,1]))\n",
        "print(Optimal_Policy_Dict)"
      ],
      "metadata": {
        "id": "alRHIJG-dAQx",
        "outputId": "e4d6290f-730d-4f8e-a860-64d8619b5d67",
        "colab": {
          "base_uri": "https://localhost:8080/"
        }
      },
      "execution_count": 6,
      "outputs": [
        {
          "output_type": "stream",
          "name": "stdout",
          "text": [
            "[[0.4, 0.6], [0.5, 0.5]]\n",
            "402108\n"
          ]
        },
        {
          "output_type": "stream",
          "name": "stderr",
          "text": [
            "100%|██████████| 10000/10000 [02:00<00:00, 83.27it/s]\n"
          ]
        },
        {
          "output_type": "stream",
          "name": "stdout",
          "text": [
            "(80, Ch1, 150, 1, 0) Wait            11.59033489227295\n",
            "(80, Ch1, 150, 1, 0) Wait            11.59033489227295\n",
            "(80, Ch2, 150, 1, 0) Wait            11.542797088623047\n",
            "(80, Ch2, 150, 1, 0) Wait            11.542797088623047\n",
            "(81, Ch1, 150, 1, 0) Wait            11.672056198120117\n",
            "(81, Ch1, 150, 1, 0) Wait            11.672056198120117\n",
            "(81, Ch2, 150, 1, 0) Wait            11.406391143798828\n",
            "(81, Ch2, 150, 1, 0) Wait            11.406391143798828\n",
            "(82, Ch1, 150, 1, 0) Wait            11.619583129882812\n",
            "(82, Ch1, 150, 1, 0) Wait            11.619583129882812\n",
            "(82, Ch2, 150, 1, 0) Wait            11.461328506469727\n",
            "(82, Ch2, 150, 1, 0) Wait            11.461328506469727\n",
            "(83, Ch1, 150, 1, 0) Wait            10.877642631530762\n",
            "(83, Ch1, 150, 1, 0) Wait            10.877642631530762\n",
            "(83, Ch2, 150, 1, 0) Wait            11.455082893371582\n",
            "(83, Ch2, 150, 1, 0) Wait            11.455082893371582\n",
            "(84, Ch1, 150, 1, 0) Wait            11.160425186157227\n",
            "(84, Ch1, 150, 1, 0) Wait            11.160425186157227\n",
            "(84, Ch2, 150, 1, 0) Wait            11.380636215209961\n",
            "(84, Ch2, 150, 1, 0) Wait            11.380636215209961\n",
            "(85, Ch1, 150, 1, 0) Wait            11.352581024169922\n",
            "(85, Ch1, 150, 1, 0) Wait            11.352581024169922\n",
            "(85, Ch2, 150, 1, 0) Wait            11.342063903808594\n",
            "(85, Ch2, 150, 1, 0) Wait            11.342063903808594\n",
            "(86, Ch1, 150, 1, 0) Wait            11.12983226776123\n",
            "(86, Ch1, 150, 1, 0) Wait            11.12983226776123\n",
            "(86, Ch2, 150, 1, 0) Wait            11.519646644592285\n",
            "(86, Ch2, 150, 1, 0) Wait            11.519646644592285\n",
            "(87, Ch1, 150, 1, 0) Wait            11.329618453979492\n",
            "(87, Ch1, 150, 1, 0) Wait            11.329618453979492\n",
            "(87, Ch2, 150, 1, 0) Wait            11.604991912841797\n",
            "(87, Ch2, 150, 1, 0) Wait            11.604991912841797\n",
            "(88, Ch1, 150, 1, 0) Wait            11.74642562866211\n",
            "(88, Ch1, 150, 1, 0) Wait            11.74642562866211\n",
            "(88, Ch2, 150, 1, 0) Wait            11.555496215820312\n",
            "(88, Ch2, 150, 1, 0) Wait            11.555496215820312\n",
            "(89, Ch1, 150, 1, 0) Wait            11.184714317321777\n",
            "(89, Ch1, 150, 1, 0) Wait            11.184714317321777\n",
            "(89, Ch2, 150, 1, 0) Wait            11.429464340209961\n",
            "(89, Ch2, 150, 1, 0) Wait            11.429464340209961\n",
            "(90, Ch1, 150, 1, 0) Wait            11.366575241088867\n",
            "(90, Ch1, 150, 1, 0) Wait            11.366575241088867\n",
            "(90, Ch2, 150, 1, 0) Wait            11.680896759033203\n",
            "(90, Ch2, 150, 1, 0) Wait            11.680896759033203\n",
            "(91, Ch1, 150, 1, 0) Wait            11.26725959777832\n",
            "(91, Ch1, 150, 1, 0) Wait            11.26725959777832\n",
            "(91, Ch2, 150, 1, 0) Wait            11.1842041015625\n",
            "(91, Ch2, 150, 1, 0) Wait            11.1842041015625\n",
            "(92, Ch1, 150, 1, 0) Wait            11.124724388122559\n",
            "(92, Ch1, 150, 1, 0) Wait            11.124724388122559\n",
            "(92, Ch2, 150, 1, 0) Wait            11.59050464630127\n",
            "(92, Ch2, 150, 1, 0) Wait            11.59050464630127\n",
            "(93, Ch1, 150, 1, 0) Wait            11.345842361450195\n",
            "(93, Ch1, 150, 1, 0) Wait            11.345842361450195\n",
            "(93, Ch2, 150, 1, 0) Wait            11.370918273925781\n",
            "(93, Ch2, 150, 1, 0) Wait            11.370918273925781\n",
            "(94, Ch1, 150, 1, 0) Wait            11.475981712341309\n",
            "(94, Ch1, 150, 1, 0) Wait            11.475981712341309\n",
            "(94, Ch2, 150, 1, 0) Wait            11.267435073852539\n",
            "(94, Ch2, 150, 1, 0) Wait            11.267435073852539\n",
            "(95, Ch1, 150, 1, 0) Wait            10.848405838012695\n",
            "(95, Ch1, 150, 1, 0) Wait            10.848405838012695\n",
            "(95, Ch2, 150, 1, 0) Wait            11.389503479003906\n",
            "(95, Ch2, 150, 1, 0) Wait            11.389503479003906\n",
            "(145, Ch1, 150, 1, 0) Send Back       86.07942199707031\n",
            "(145, Ch1, 150, 1, 0) Send Back       86.07942199707031\n",
            "(145, Ch2, 150, 1, 0) Send Back       86.63059997558594\n",
            "(145, Ch2, 150, 1, 0) Send Back       86.63059997558594\n",
            "(146, Ch1, 150, 1, 0) Send Back       84.24224090576172\n",
            "(146, Ch1, 150, 1, 0) Send Back       84.24224090576172\n",
            "(146, Ch2, 150, 1, 0) Send Back       85.3766098022461\n",
            "(146, Ch2, 150, 1, 0) Send Back       85.3766098022461\n",
            "(147, Ch1, 150, 1, 0) Send Back       84.9873275756836\n",
            "(147, Ch1, 150, 1, 0) Send Back       84.9873275756836\n",
            "(147, Ch2, 150, 1, 0) Send Back       95.13482666015625\n",
            "(147, Ch2, 150, 1, 0) Send Back       95.13482666015625\n",
            "(148, Ch1, 150, 1, 0) Send Back       92.74274444580078\n",
            "(148, Ch1, 150, 1, 0) Send Back       92.74274444580078\n",
            "(148, Ch2, 150, 1, 0) Send Back       86.53549194335938\n",
            "(148, Ch2, 150, 1, 0) Send Back       86.53549194335938\n",
            "(149, Ch1, 150, 1, 0) Send Back       84.17608642578125\n",
            "(149, Ch1, 150, 1, 0) Send Back       84.17608642578125\n",
            "(149, Ch2, 150, 1, 0) Send Back       84.37387084960938\n",
            "(149, Ch2, 150, 1, 0) Send Back       84.37387084960938\n",
            "(150, Ch1, 150, 1, 0) Send Back       84.94256591796875\n",
            "(150, Ch1, 150, 1, 0) Send Back       84.94256591796875\n",
            "(150, Ch2, 150, 1, 0) Send Back       91.95638275146484\n",
            "(150, Ch2, 150, 1, 0) Send Back       91.95638275146484\n",
            "(151, Ch1, 150, 1, 0) Send Back       87.67217254638672\n",
            "(151, Ch1, 150, 1, 0) Send Back       87.67217254638672\n",
            "(151, Ch2, 150, 1, 0) Send Back       87.1567611694336\n",
            "(151, Ch2, 150, 1, 0) Send Back       87.1567611694336\n",
            "(152, Ch1, 150, 1, 0) Send Back       84.15629577636719\n",
            "(152, Ch1, 150, 1, 0) Send Back       84.15629577636719\n",
            "(152, Ch2, 150, 1, 0) Send Back       85.73535919189453\n",
            "(152, Ch2, 150, 1, 0) Send Back       85.73535919189453\n",
            "(153, Ch1, 150, 1, 0) Send Back       84.80432891845703\n",
            "(153, Ch1, 150, 1, 0) Send Back       84.80432891845703\n",
            "(153, Ch2, 150, 1, 0) Send Back       84.20938873291016\n",
            "(153, Ch2, 150, 1, 0) Send Back       84.20938873291016\n",
            "(154, Ch1, 150, 1, 0) Send Back       84.19577026367188\n",
            "(154, Ch1, 150, 1, 0) Send Back       84.19577026367188\n",
            "(154, Ch2, 150, 1, 0) Send Back       84.17888641357422\n",
            "(154, Ch2, 150, 1, 0) Send Back       84.17888641357422\n",
            "(155, Ch1, 150, 1, 0) Send Back       106.71591186523438\n",
            "(155, Ch1, 150, 1, 0) Send Back       106.71591186523438\n",
            "(155, Ch2, 150, 1, 0) Send Back       94.0073013305664\n",
            "(155, Ch2, 150, 1, 0) Send Back       94.0073013305664\n",
            "(156, Ch1, 150, 1, 0) Send Back       98.82432556152344\n",
            "(156, Ch1, 150, 1, 0) Send Back       98.82432556152344\n",
            "(156, Ch2, 150, 1, 0) Send Back       87.51261901855469\n",
            "(156, Ch2, 150, 1, 0) Send Back       87.51261901855469\n",
            "(157, Ch1, 150, 1, 0) Send Back       86.00618743896484\n",
            "(157, Ch1, 150, 1, 0) Send Back       86.00618743896484\n",
            "(157, Ch2, 150, 1, 0) Send Back       87.88665771484375\n",
            "(157, Ch2, 150, 1, 0) Send Back       87.88665771484375\n",
            "(158, Ch1, 150, 1, 0) Send Back       93.136474609375\n",
            "(158, Ch1, 150, 1, 0) Send Back       93.136474609375\n",
            "(158, Ch2, 150, 1, 0) Send Back       98.54866027832031\n",
            "(158, Ch2, 150, 1, 0) Send Back       98.54866027832031\n",
            "(159, Ch1, 150, 1, 0) Send Back       108.20330810546875\n",
            "(159, Ch1, 150, 1, 0) Send Back       108.20330810546875\n",
            "(159, Ch2, 150, 1, 0) Send Back       96.54739379882812\n",
            "(159, Ch2, 150, 1, 0) Send Back       96.54739379882812\n",
            "(160, Ch1, 150, 1, 0) Send Back       103.24313354492188\n",
            "(160, Ch1, 150, 1, 0) Send Back       103.24313354492188\n",
            "(160, Ch2, 150, 1, 0) Send Back       94.53123474121094\n",
            "(160, Ch2, 150, 1, 0) Send Back       94.53123474121094\n",
            "(210, Ch1, 150, 1, 0) Send Back       84.63838195800781\n",
            "(210, Ch1, 150, 1, 0) Send Back       84.63838195800781\n",
            "(210, Ch2, 150, 1, 0) Send Back       86.07135009765625\n",
            "(210, Ch2, 150, 1, 0) Send Back       86.07135009765625\n",
            "(211, Ch1, 150, 1, 0) Send Back       85.90177917480469\n",
            "(211, Ch1, 150, 1, 0) Send Back       85.90177917480469\n",
            "(211, Ch2, 150, 1, 0) Send Back       101.44217681884766\n",
            "(211, Ch2, 150, 1, 0) Send Back       101.44217681884766\n",
            "(212, Ch1, 150, 1, 0) Send Back       86.28864288330078\n",
            "(212, Ch1, 150, 1, 0) Send Back       86.28864288330078\n",
            "(212, Ch2, 150, 1, 0) Send Back       92.610595703125\n",
            "(212, Ch2, 150, 1, 0) Send Back       92.610595703125\n",
            "(213, Ch1, 150, 1, 0) Send Back       90.18911743164062\n",
            "(213, Ch1, 150, 1, 0) Send Back       90.18911743164062\n",
            "(213, Ch2, 150, 1, 0) Send Back       110.90708923339844\n",
            "(213, Ch2, 150, 1, 0) Send Back       110.90708923339844\n",
            "(214, Ch1, 150, 1, 0) Send Back       86.42455291748047\n",
            "(214, Ch1, 150, 1, 0) Send Back       86.42455291748047\n",
            "(214, Ch2, 150, 1, 0) Send Back       85.29410552978516\n",
            "(214, Ch2, 150, 1, 0) Send Back       85.29410552978516\n",
            "(215, Ch1, 150, 1, 0) Send Back       87.02142333984375\n",
            "(215, Ch1, 150, 1, 0) Send Back       87.02142333984375\n",
            "(215, Ch2, 150, 1, 0) Send Back       89.89053344726562\n",
            "(215, Ch2, 150, 1, 0) Send Back       89.89053344726562\n",
            "(216, Ch1, 150, 1, 0) Send Back       85.81793975830078\n",
            "(216, Ch1, 150, 1, 0) Send Back       85.81793975830078\n",
            "(216, Ch2, 150, 1, 0) Send Back       84.1610336303711\n",
            "(216, Ch2, 150, 1, 0) Send Back       84.1610336303711\n",
            "(217, Ch1, 150, 1, 0) Send Back       98.75096130371094\n",
            "(217, Ch1, 150, 1, 0) Send Back       98.75096130371094\n",
            "(217, Ch2, 150, 1, 0) Send Back       91.07144927978516\n",
            "(217, Ch2, 150, 1, 0) Send Back       91.07144927978516\n",
            "(218, Ch1, 150, 1, 0) Send Back       84.75658416748047\n",
            "(218, Ch1, 150, 1, 0) Send Back       84.75658416748047\n",
            "(218, Ch2, 150, 1, 0) Send Back       84.16334533691406\n",
            "(218, Ch2, 150, 1, 0) Send Back       84.16334533691406\n",
            "(219, Ch1, 150, 1, 0) Send Back       96.26570129394531\n",
            "(219, Ch1, 150, 1, 0) Send Back       96.26570129394531\n",
            "(219, Ch2, 150, 1, 0) Send Back       92.62506103515625\n",
            "(219, Ch2, 150, 1, 0) Send Back       92.62506103515625\n",
            "(220, Ch1, 150, 1, 0) Send Back       88.21846771240234\n",
            "(220, Ch1, 150, 1, 0) Send Back       88.21846771240234\n",
            "(220, Ch2, 150, 1, 0) Send Back       87.54728698730469\n",
            "(220, Ch2, 150, 1, 0) Send Back       87.54728698730469\n",
            "(221, Ch1, 150, 1, 0) Send Back       96.61128234863281\n",
            "(221, Ch1, 150, 1, 0) Send Back       96.61128234863281\n",
            "(221, Ch2, 150, 1, 0) Send Back       88.62104034423828\n",
            "(221, Ch2, 150, 1, 0) Send Back       88.62104034423828\n",
            "(222, Ch1, 150, 1, 0) Send Back       87.46797180175781\n",
            "(222, Ch1, 150, 1, 0) Send Back       87.46797180175781\n",
            "(222, Ch2, 150, 1, 0) Send Back       84.74594116210938\n",
            "(222, Ch2, 150, 1, 0) Send Back       84.74594116210938\n",
            "(223, Ch1, 150, 1, 0) Send Back       87.45518493652344\n",
            "(223, Ch1, 150, 1, 0) Send Back       87.45518493652344\n",
            "(223, Ch2, 150, 1, 0) Send Back       87.14054870605469\n",
            "(223, Ch2, 150, 1, 0) Send Back       87.14054870605469\n",
            "(224, Ch1, 150, 1, 0) Send Back       95.79060363769531\n",
            "(224, Ch1, 150, 1, 0) Send Back       95.79060363769531\n",
            "(224, Ch2, 150, 1, 0) Send Back       86.40208435058594\n",
            "(224, Ch2, 150, 1, 0) Send Back       86.40208435058594\n",
            "(225, Ch1, 150, 1, 0) Send Back       87.29349517822266\n",
            "(225, Ch1, 150, 1, 0) Send Back       87.29349517822266\n",
            "(225, Ch2, 150, 1, 0) Send Back       99.21734619140625\n",
            "(225, Ch2, 150, 1, 0) Send Back       99.21734619140625\n",
            "(275, Ch1, 150, 1, 0) Send Back       186.41238403320312\n",
            "(275, Ch1, 150, 1, 0) Send Back       186.41238403320312\n",
            "(275, Ch2, 150, 1, 0) Send Back       186.01077270507812\n",
            "(275, Ch2, 150, 1, 0) Send Back       186.01077270507812\n",
            "(276, Ch1, 150, 1, 0) Send Back       187.91775512695312\n",
            "(276, Ch1, 150, 1, 0) Send Back       187.91775512695312\n",
            "(276, Ch2, 150, 1, 0) Send Back       185.985595703125\n",
            "(276, Ch2, 150, 1, 0) Send Back       185.985595703125\n",
            "(277, Ch1, 150, 1, 0) Send Back       188.90342712402344\n",
            "(277, Ch1, 150, 1, 0) Send Back       188.90342712402344\n",
            "(277, Ch2, 150, 1, 0) Send Back       201.08938598632812\n",
            "(277, Ch2, 150, 1, 0) Send Back       201.08938598632812\n",
            "(278, Ch1, 150, 1, 0) Send Back       186.71383666992188\n",
            "(278, Ch1, 150, 1, 0) Send Back       186.71383666992188\n",
            "(278, Ch2, 150, 1, 0) Send Back       198.5877685546875\n",
            "(278, Ch2, 150, 1, 0) Send Back       198.5877685546875\n",
            "(279, Ch1, 150, 1, 0) Send Back       193.59884643554688\n",
            "(279, Ch1, 150, 1, 0) Send Back       193.59884643554688\n",
            "(279, Ch2, 150, 1, 0) Send Back       190.52304077148438\n",
            "(279, Ch2, 150, 1, 0) Send Back       190.52304077148438\n",
            "(280, Ch1, 150, 1, 0) Send Back       186.04356384277344\n",
            "(280, Ch1, 150, 1, 0) Send Back       186.04356384277344\n",
            "(280, Ch2, 150, 1, 0) Send Back       187.97769165039062\n",
            "(280, Ch2, 150, 1, 0) Send Back       187.97769165039062\n",
            "(281, Ch1, 150, 1, 0) Send Back       188.44464111328125\n",
            "(281, Ch1, 150, 1, 0) Send Back       188.44464111328125\n",
            "(281, Ch2, 150, 1, 0) Send Back       186.471923828125\n",
            "(281, Ch2, 150, 1, 0) Send Back       186.471923828125\n",
            "(282, Ch1, 150, 1, 0) Send Back       187.5718231201172\n",
            "(282, Ch1, 150, 1, 0) Send Back       187.5718231201172\n",
            "(282, Ch2, 150, 1, 0) Send Back       187.2415008544922\n",
            "(282, Ch2, 150, 1, 0) Send Back       187.2415008544922\n",
            "(283, Ch1, 150, 1, 0) Send Back       190.4574737548828\n",
            "(283, Ch1, 150, 1, 0) Send Back       190.4574737548828\n",
            "(283, Ch2, 150, 1, 0) Send Back       186.17881774902344\n",
            "(283, Ch2, 150, 1, 0) Send Back       186.17881774902344\n",
            "(284, Ch1, 150, 1, 0) Send Back       186.12303161621094\n",
            "(284, Ch1, 150, 1, 0) Send Back       186.12303161621094\n",
            "(284, Ch2, 150, 1, 0) Send Back       186.04034423828125\n",
            "(284, Ch2, 150, 1, 0) Send Back       186.04034423828125\n",
            "(285, Ch1, 150, 1, 0) Send Back       186.228271484375\n",
            "(285, Ch1, 150, 1, 0) Send Back       186.228271484375\n",
            "(285, Ch2, 150, 1, 0) Send Back       206.31521606445312\n",
            "(285, Ch2, 150, 1, 0) Send Back       206.31521606445312\n",
            "(286, Ch1, 150, 1, 0) Send Back       201.86196899414062\n",
            "(286, Ch1, 150, 1, 0) Send Back       201.86196899414062\n",
            "(286, Ch2, 150, 1, 0) Send Back       186.04795837402344\n",
            "(286, Ch2, 150, 1, 0) Send Back       186.04795837402344\n",
            "(287, Ch1, 150, 1, 0) Send Back       191.83303833007812\n",
            "(287, Ch1, 150, 1, 0) Send Back       191.83303833007812\n",
            "(287, Ch2, 150, 1, 0) Send Back       189.09698486328125\n",
            "(287, Ch2, 150, 1, 0) Send Back       189.09698486328125\n",
            "(288, Ch1, 150, 1, 0) Send Back       204.02359008789062\n",
            "(288, Ch1, 150, 1, 0) Send Back       204.02359008789062\n",
            "(288, Ch2, 150, 1, 0) Send Back       189.20896911621094\n",
            "(288, Ch2, 150, 1, 0) Send Back       189.20896911621094\n",
            "(289, Ch1, 150, 1, 0) Send Back       208.4231719970703\n",
            "(289, Ch1, 150, 1, 0) Send Back       208.4231719970703\n",
            "(289, Ch2, 150, 1, 0) Send Back       198.38888549804688\n",
            "(289, Ch2, 150, 1, 0) Send Back       198.38888549804688\n",
            "(290, Ch1, 150, 1, 0) Send Back       196.78469848632812\n",
            "(290, Ch1, 150, 1, 0) Send Back       196.78469848632812\n",
            "(290, Ch2, 150, 1, 0) Send Back       197.68890380859375\n",
            "(290, Ch2, 150, 1, 0) Send Back       197.68890380859375\n",
            "(340, Ch1, 150, 1, 0) Send Back       178.97802734375\n",
            "(340, Ch1, 150, 1, 0) Send Back       178.97802734375\n",
            "(340, Ch2, 150, 1, 0) Send Back       178.94781494140625\n",
            "(340, Ch2, 150, 1, 0) Send Back       178.94781494140625\n",
            "(341, Ch1, 150, 1, 0) Send Back       179.00558471679688\n",
            "(341, Ch1, 150, 1, 0) Send Back       179.00558471679688\n",
            "(341, Ch2, 150, 1, 0) Send Back       187.55453491210938\n",
            "(341, Ch2, 150, 1, 0) Send Back       187.55453491210938\n",
            "(342, Ch1, 150, 1, 0) Send Back       179.56936645507812\n",
            "(342, Ch1, 150, 1, 0) Send Back       179.56936645507812\n",
            "(342, Ch2, 150, 1, 0) Send Back       180.542724609375\n",
            "(342, Ch2, 150, 1, 0) Send Back       180.542724609375\n",
            "(343, Ch1, 150, 1, 0) Send Back       189.1492919921875\n",
            "(343, Ch1, 150, 1, 0) Send Back       189.1492919921875\n",
            "(343, Ch2, 150, 1, 0) Send Back       187.0236053466797\n",
            "(343, Ch2, 150, 1, 0) Send Back       187.0236053466797\n",
            "(344, Ch1, 150, 1, 0) Send Back       178.94232177734375\n",
            "(344, Ch1, 150, 1, 0) Send Back       178.94232177734375\n",
            "(344, Ch2, 150, 1, 0) Send Back       179.2264404296875\n",
            "(344, Ch2, 150, 1, 0) Send Back       179.2264404296875\n",
            "(345, Ch1, 150, 1, 0) Send Back       207.42596435546875\n",
            "(345, Ch1, 150, 1, 0) Send Back       207.42596435546875\n",
            "(345, Ch2, 150, 1, 0) Send Back       178.93698120117188\n",
            "(345, Ch2, 150, 1, 0) Send Back       178.93698120117188\n",
            "(346, Ch1, 150, 1, 0) Send Back       184.26461791992188\n",
            "(346, Ch1, 150, 1, 0) Send Back       184.26461791992188\n",
            "(346, Ch2, 150, 1, 0) Send Back       185.53778076171875\n",
            "(346, Ch2, 150, 1, 0) Send Back       185.53778076171875\n",
            "(347, Ch1, 150, 1, 0) Send Back       200.31768798828125\n",
            "(347, Ch1, 150, 1, 0) Send Back       200.31768798828125\n",
            "(347, Ch2, 150, 1, 0) Send Back       180.44244384765625\n",
            "(347, Ch2, 150, 1, 0) Send Back       180.44244384765625\n",
            "(348, Ch1, 150, 1, 0) Send Back       179.11175537109375\n",
            "(348, Ch1, 150, 1, 0) Send Back       179.11175537109375\n",
            "(348, Ch2, 150, 1, 0) Send Back       181.83755493164062\n",
            "(348, Ch2, 150, 1, 0) Send Back       181.83755493164062\n",
            "(349, Ch1, 150, 1, 0) Send Back       178.934326171875\n",
            "(349, Ch1, 150, 1, 0) Send Back       178.934326171875\n",
            "(349, Ch2, 150, 1, 0) Send Back       181.36972045898438\n",
            "(349, Ch2, 150, 1, 0) Send Back       181.36972045898438\n",
            "(350, Ch1, 150, 1, 0) Send Back       182.4961395263672\n",
            "(350, Ch1, 150, 1, 0) Send Back       182.4961395263672\n",
            "(350, Ch2, 150, 1, 0) Send Back       179.2186279296875\n",
            "(350, Ch2, 150, 1, 0) Send Back       179.2186279296875\n",
            "(351, Ch1, 150, 1, 0) Send Back       183.896728515625\n",
            "(351, Ch1, 150, 1, 0) Send Back       183.896728515625\n",
            "(351, Ch2, 150, 1, 0) Send Back       203.14334106445312\n",
            "(351, Ch2, 150, 1, 0) Send Back       203.14334106445312\n",
            "(352, Ch1, 150, 1, 0) Send Back       207.7504425048828\n",
            "(352, Ch1, 150, 1, 0) Send Back       207.7504425048828\n",
            "(352, Ch2, 150, 1, 0) Send Back       182.0367431640625\n",
            "(352, Ch2, 150, 1, 0) Send Back       182.0367431640625\n",
            "(353, Ch1, 150, 1, 0) Send Back       179.57135009765625\n",
            "(353, Ch1, 150, 1, 0) Send Back       179.57135009765625\n",
            "(353, Ch2, 150, 1, 0) Send Back       189.19000244140625\n",
            "(353, Ch2, 150, 1, 0) Send Back       189.19000244140625\n",
            "(354, Ch1, 150, 1, 0) Send Back       186.63014221191406\n",
            "(354, Ch1, 150, 1, 0) Send Back       186.63014221191406\n",
            "(354, Ch2, 150, 1, 0) Send Back       179.38746643066406\n",
            "(354, Ch2, 150, 1, 0) Send Back       179.38746643066406\n",
            "(355, Ch1, 150, 1, 0) Send Back       179.15109252929688\n",
            "(355, Ch1, 150, 1, 0) Send Back       179.15109252929688\n",
            "(355, Ch2, 150, 1, 0) Send Back       181.29751586914062\n",
            "(355, Ch2, 150, 1, 0) Send Back       181.29751586914062\n",
            "{'(80, Ch1, 150, 1, 0)': 'wait', '(80, Ch2, 150, 1, 0)': 'wait', '(81, Ch1, 150, 1, 0)': 'wait', '(81, Ch2, 150, 1, 0)': 'wait', '(82, Ch1, 150, 1, 0)': 'wait', '(82, Ch2, 150, 1, 0)': 'wait', '(83, Ch1, 150, 1, 0)': 'wait', '(83, Ch2, 150, 1, 0)': 'wait', '(84, Ch1, 150, 1, 0)': 'wait', '(84, Ch2, 150, 1, 0)': 'wait', '(85, Ch1, 150, 1, 0)': 'wait', '(85, Ch2, 150, 1, 0)': 'wait', '(86, Ch1, 150, 1, 0)': 'wait', '(86, Ch2, 150, 1, 0)': 'wait', '(87, Ch1, 150, 1, 0)': 'wait', '(87, Ch2, 150, 1, 0)': 'wait', '(88, Ch1, 150, 1, 0)': 'wait', '(88, Ch2, 150, 1, 0)': 'wait', '(89, Ch1, 150, 1, 0)': 'wait', '(89, Ch2, 150, 1, 0)': 'wait', '(90, Ch1, 150, 1, 0)': 'wait', '(90, Ch2, 150, 1, 0)': 'wait', '(91, Ch1, 150, 1, 0)': 'wait', '(91, Ch2, 150, 1, 0)': 'wait', '(92, Ch1, 150, 1, 0)': 'wait', '(92, Ch2, 150, 1, 0)': 'wait', '(93, Ch1, 150, 1, 0)': 'wait', '(93, Ch2, 150, 1, 0)': 'wait', '(94, Ch1, 150, 1, 0)': 'wait', '(94, Ch2, 150, 1, 0)': 'wait', '(95, Ch1, 150, 1, 0)': 'wait', '(95, Ch2, 150, 1, 0)': 'wait', '(145, Ch1, 150, 1, 0)': 'send', '(145, Ch2, 150, 1, 0)': 'send', '(146, Ch1, 150, 1, 0)': 'send', '(146, Ch2, 150, 1, 0)': 'send', '(147, Ch1, 150, 1, 0)': 'send', '(147, Ch2, 150, 1, 0)': 'send', '(148, Ch1, 150, 1, 0)': 'send', '(148, Ch2, 150, 1, 0)': 'send', '(149, Ch1, 150, 1, 0)': 'send', '(149, Ch2, 150, 1, 0)': 'send', '(150, Ch1, 150, 1, 0)': 'send', '(150, Ch2, 150, 1, 0)': 'send', '(151, Ch1, 150, 1, 0)': 'send', '(151, Ch2, 150, 1, 0)': 'send', '(152, Ch1, 150, 1, 0)': 'send', '(152, Ch2, 150, 1, 0)': 'send', '(153, Ch1, 150, 1, 0)': 'send', '(153, Ch2, 150, 1, 0)': 'send', '(154, Ch1, 150, 1, 0)': 'send', '(154, Ch2, 150, 1, 0)': 'send', '(155, Ch1, 150, 1, 0)': 'send', '(155, Ch2, 150, 1, 0)': 'send', '(156, Ch1, 150, 1, 0)': 'send', '(156, Ch2, 150, 1, 0)': 'send', '(157, Ch1, 150, 1, 0)': 'send', '(157, Ch2, 150, 1, 0)': 'send', '(158, Ch1, 150, 1, 0)': 'send', '(158, Ch2, 150, 1, 0)': 'send', '(159, Ch1, 150, 1, 0)': 'send', '(159, Ch2, 150, 1, 0)': 'send', '(160, Ch1, 150, 1, 0)': 'send', '(160, Ch2, 150, 1, 0)': 'send', '(210, Ch1, 150, 1, 0)': 'send', '(210, Ch2, 150, 1, 0)': 'send', '(211, Ch1, 150, 1, 0)': 'send', '(211, Ch2, 150, 1, 0)': 'send', '(212, Ch1, 150, 1, 0)': 'send', '(212, Ch2, 150, 1, 0)': 'send', '(213, Ch1, 150, 1, 0)': 'send', '(213, Ch2, 150, 1, 0)': 'send', '(214, Ch1, 150, 1, 0)': 'send', '(214, Ch2, 150, 1, 0)': 'send', '(215, Ch1, 150, 1, 0)': 'send', '(215, Ch2, 150, 1, 0)': 'send', '(216, Ch1, 150, 1, 0)': 'send', '(216, Ch2, 150, 1, 0)': 'send', '(217, Ch1, 150, 1, 0)': 'send', '(217, Ch2, 150, 1, 0)': 'send', '(218, Ch1, 150, 1, 0)': 'send', '(218, Ch2, 150, 1, 0)': 'send', '(219, Ch1, 150, 1, 0)': 'send', '(219, Ch2, 150, 1, 0)': 'send', '(220, Ch1, 150, 1, 0)': 'send', '(220, Ch2, 150, 1, 0)': 'send', '(221, Ch1, 150, 1, 0)': 'send', '(221, Ch2, 150, 1, 0)': 'send', '(222, Ch1, 150, 1, 0)': 'send', '(222, Ch2, 150, 1, 0)': 'send', '(223, Ch1, 150, 1, 0)': 'send', '(223, Ch2, 150, 1, 0)': 'send', '(224, Ch1, 150, 1, 0)': 'send', '(224, Ch2, 150, 1, 0)': 'send', '(225, Ch1, 150, 1, 0)': 'send', '(225, Ch2, 150, 1, 0)': 'send', '(275, Ch1, 150, 1, 0)': 'send', '(275, Ch2, 150, 1, 0)': 'send', '(276, Ch1, 150, 1, 0)': 'send', '(276, Ch2, 150, 1, 0)': 'send', '(277, Ch1, 150, 1, 0)': 'send', '(277, Ch2, 150, 1, 0)': 'send', '(278, Ch1, 150, 1, 0)': 'send', '(278, Ch2, 150, 1, 0)': 'send', '(279, Ch1, 150, 1, 0)': 'send', '(279, Ch2, 150, 1, 0)': 'send', '(280, Ch1, 150, 1, 0)': 'send', '(280, Ch2, 150, 1, 0)': 'send', '(281, Ch1, 150, 1, 0)': 'send', '(281, Ch2, 150, 1, 0)': 'send', '(282, Ch1, 150, 1, 0)': 'send', '(282, Ch2, 150, 1, 0)': 'send', '(283, Ch1, 150, 1, 0)': 'send', '(283, Ch2, 150, 1, 0)': 'send', '(284, Ch1, 150, 1, 0)': 'send', '(284, Ch2, 150, 1, 0)': 'send', '(285, Ch1, 150, 1, 0)': 'send', '(285, Ch2, 150, 1, 0)': 'send', '(286, Ch1, 150, 1, 0)': 'send', '(286, Ch2, 150, 1, 0)': 'send', '(287, Ch1, 150, 1, 0)': 'send', '(287, Ch2, 150, 1, 0)': 'send', '(288, Ch1, 150, 1, 0)': 'send', '(288, Ch2, 150, 1, 0)': 'send', '(289, Ch1, 150, 1, 0)': 'send', '(289, Ch2, 150, 1, 0)': 'send', '(290, Ch1, 150, 1, 0)': 'send', '(290, Ch2, 150, 1, 0)': 'send', '(340, Ch1, 150, 1, 0)': 'send', '(340, Ch2, 150, 1, 0)': 'send', '(341, Ch1, 150, 1, 0)': 'send', '(341, Ch2, 150, 1, 0)': 'send', '(342, Ch1, 150, 1, 0)': 'send', '(342, Ch2, 150, 1, 0)': 'send', '(343, Ch1, 150, 1, 0)': 'send', '(343, Ch2, 150, 1, 0)': 'send', '(344, Ch1, 150, 1, 0)': 'send', '(344, Ch2, 150, 1, 0)': 'send', '(345, Ch1, 150, 1, 0)': 'send', '(345, Ch2, 150, 1, 0)': 'send', '(346, Ch1, 150, 1, 0)': 'send', '(346, Ch2, 150, 1, 0)': 'send', '(347, Ch1, 150, 1, 0)': 'send', '(347, Ch2, 150, 1, 0)': 'send', '(348, Ch1, 150, 1, 0)': 'send', '(348, Ch2, 150, 1, 0)': 'send', '(349, Ch1, 150, 1, 0)': 'send', '(349, Ch2, 150, 1, 0)': 'send', '(350, Ch1, 150, 1, 0)': 'send', '(350, Ch2, 150, 1, 0)': 'send', '(351, Ch1, 150, 1, 0)': 'send', '(351, Ch2, 150, 1, 0)': 'send', '(352, Ch1, 150, 1, 0)': 'send', '(352, Ch2, 150, 1, 0)': 'send', '(353, Ch1, 150, 1, 0)': 'send', '(353, Ch2, 150, 1, 0)': 'send', '(354, Ch1, 150, 1, 0)': 'send', '(354, Ch2, 150, 1, 0)': 'send', '(355, Ch1, 150, 1, 0)': 'send', '(355, Ch2, 150, 1, 0)': 'send'}\n"
          ]
        }
      ]
    },
    {
      "cell_type": "markdown",
      "source": [
        " **Finding Optimal policies with DQN** "
      ],
      "metadata": {
        "id": "UDEUrRs_Ftzg"
      }
    },
    {
      "cell_type": "code",
      "source": [
        "import torch as T\n",
        "import torch.nn as nn\n",
        "import torch.nn.functional as F\n",
        "import torch.optim as optim\n",
        "import numpy as np\n",
        "\n",
        "\n",
        "class DeepQNetwork(nn.Module):\n",
        "    def __init__(self, lr, input_dims, fc1_dims, fc2_dims,\n",
        "                 n_actions):\n",
        "        super(DeepQNetwork, self).__init__()\n",
        "        self.input_dims = input_dims\n",
        "        self.fc1_dims = fc1_dims\n",
        "        self.fc2_dims = fc2_dims\n",
        "        self.n_actions = n_actions\n",
        "        self.fc1 = nn.Linear(*self.input_dims, self.fc1_dims)\n",
        "        self.fc2 = nn.Linear(self.fc1_dims, self.fc2_dims)\n",
        "        self.fc3 = nn.Linear(self.fc2_dims, self.n_actions)\n",
        "\n",
        "        self.optimizer = optim.Adam(self.parameters(), lr=lr)\n",
        "        self.loss = nn.MSELoss()\n",
        "        # if T.cuda.is_available() else 'cpu'\n",
        "        self.device = T.device('cuda')\n",
        "        self.to(self.device)\n",
        "\n",
        "    def forward(self, state):\n",
        "        state = T.Tensor(state).to(self.device)\n",
        "        x = F.relu(self.fc1(state))\n",
        "        x = F.relu(self.fc2(x))\n",
        "        actions = self.fc3(x)\n",
        "\n",
        "        return actions\n",
        "\n",
        "\n",
        "class Agent:\n",
        "    def __init__(self, gamma, epsilon, lr, input_dims, batch_size, n_actions,\n",
        "                 max_mem_size=100000, eps_end=0.05, eps_dec=5e-4):\n",
        "        self.gamma = gamma\n",
        "        self.epsilon = epsilon\n",
        "        self.eps_min = eps_end\n",
        "        self.eps_dec = eps_dec\n",
        "        self.lr = lr\n",
        "        self.action_space = [i for i in range(n_actions)]\n",
        "        self.mem_size = max_mem_size\n",
        "        self.batch_size = batch_size\n",
        "        self.mem_cntr = 0\n",
        "        self.iter_cntr = 0\n",
        "        self.replace_target = 100\n",
        "\n",
        "        self.Q_eval = DeepQNetwork(lr, n_actions=n_actions,\n",
        "                                   input_dims=input_dims,\n",
        "                                   fc1_dims=256, fc2_dims=256)\n",
        "        self.state_memory = np.zeros((self.mem_size, *input_dims),\n",
        "                                     dtype=np.float32)\n",
        "        self.new_state_memory = np.zeros((self.mem_size, *input_dims),\n",
        "                                         dtype=np.float32)\n",
        "        self.action_memory = np.zeros(self.mem_size, dtype=np.int32)\n",
        "        self.reward_memory = np.zeros(self.mem_size, dtype=np.float32)\n",
        "        self.terminal_memory = np.zeros(self.mem_size, dtype=np.bool)\n",
        "\n",
        "    def store_transition(self, state, action, reward, state_, terminal):\n",
        "        index = self.mem_cntr % self.mem_size\n",
        "        self.state_memory[index] = state\n",
        "        self.new_state_memory[index] = state_\n",
        "        self.reward_memory[index] = reward\n",
        "        self.action_memory[index] = action\n",
        "        self.terminal_memory[index] = terminal\n",
        "\n",
        "        self.mem_cntr += 1\n",
        "\n",
        "    def choose_action(self, observation):\n",
        "        if np.random.random() > self.epsilon:\n",
        "            # state = T.tensor(observation).to(self.Q_eval.device)      \n",
        "            actions = self.Q_eval.forward(observation)\n",
        "            action = T.argmax(actions).item()\n",
        "        else:\n",
        "            action = np.random.choice(self.action_space)\n",
        "        return action\n",
        "\n",
        "    def learn(self):\n",
        "        if self.mem_cntr < self.batch_size:\n",
        "            return\n",
        "\n",
        "        self.Q_eval.optimizer.zero_grad()\n",
        "\n",
        "        max_mem = min(self.mem_cntr, self.mem_size)\n",
        "\n",
        "        batch = np.random.choice(max_mem, self.batch_size, replace=False)\n",
        "        batch_index = np.arange(self.batch_size, dtype=np.int32)\n",
        "\n",
        "        state_batch = T.tensor(self.state_memory[batch]).to(self.Q_eval.device)\n",
        "        new_state_batch = T.tensor(\n",
        "                self.new_state_memory[batch]).to(self.Q_eval.device)\n",
        "        action_batch = self.action_memory[batch]\n",
        "        reward_batch = T.tensor(\n",
        "                self.reward_memory[batch]).to(self.Q_eval.device)\n",
        "        terminal_batch = T.tensor(\n",
        "                self.terminal_memory[batch]).to(self.Q_eval.device)\n",
        "\n",
        "        q_eval = self.Q_eval.forward(state_batch)[batch_index, action_batch]\n",
        "        q_next = self.Q_eval.forward(new_state_batch)\n",
        "        q_next[terminal_batch] = 0.0\n",
        "        # print((q_next)[:,0])\n",
        "        # print(T.max(q_next, dim=1)[0])\n",
        "        # print((q_next)[:,0])\n",
        "        # Time.sleep(1)\n",
        "        q_target = reward_batch + self.gamma*T.max(q_next, dim=1)[0]\n",
        "\n",
        "        loss = self.Q_eval.loss(q_target, q_eval).to(self.Q_eval.device)\n",
        "        loss.backward()\n",
        "        self.Q_eval.optimizer.step()\n",
        "\n",
        "        self.iter_cntr += 1\n",
        "        self.epsilon = self.epsilon - self.eps_dec \\\n",
        "            if self.epsilon > self.eps_min else self.eps_min"
      ],
      "metadata": {
        "id": "XmayvH3QF-zf"
      },
      "execution_count": null,
      "outputs": []
    },
    {
      "cell_type": "code",
      "source": [],
      "metadata": {
        "id": "BpBfjlvf-Gwy"
      },
      "execution_count": null,
      "outputs": []
    },
    {
      "cell_type": "code",
      "source": [
        "import numpy as np\n",
        "# from Environment import Actor\n",
        "from Rudder import LessonBuffer\n",
        "from Environment import Environment\n",
        "from Rudder import RRLSTM as LSTM\n",
        "import torch\n",
        "import time as Time\n",
        "import random\n",
        "from PolicyUpdater import PolicyUpdater\n",
        "from tqdm import tqdm\n",
        "lb_size = 2048\n",
        "n_lstm = 16\n",
        "max_time = 50\n",
        "policy_lr = 0.5\n",
        "lstm_lr = 1e-2\n",
        "l2_regularization = 1e-6\n",
        "avg_window = 750\n",
        "\n",
        "episode = 0\n",
        "\n",
        "Lesson_buffer_a1 = LessonBuffer(1000, 40, 5)\n",
        "Lesson_buffer_a0 = LessonBuffer(1000, 40, 5)\n",
        "\n",
        "rudder_lstm_a0 = LSTM(state_input_size=5, n_actions= 2, buffer=Lesson_buffer_a0, n_units=n_lstm,\n",
        "                        lstm_lr=lstm_lr, l2_regularization=l2_regularization, return_scaling=10,\n",
        "                        lstm_batch_size=8, continuous_pred_factor=0.5)\n",
        "rudder_lstm_a1 = LSTM(state_input_size=5, n_actions= 2, buffer=Lesson_buffer_a1, n_units=n_lstm,\n",
        "                        lstm_lr=lstm_lr, l2_regularization=l2_regularization, return_scaling=10,\n",
        "                        lstm_batch_size=8, continuous_pred_factor=0.5)\n",
        "rudder_lstm_a0.load_state_dict(torch.load('rudder_lstm_70_125_wait_0.2.pt'))\n",
        "rudder_lstm_a1.load_state_dict(torch.load('rudder_lstm_70_125_send_0.2.pt'))\n",
        "\n",
        "\n",
        "DQN_Agent = Agent(gamma=1, epsilon=1.0, batch_size=64, n_actions=2, eps_end=0.01,\n",
        "                  input_dims=[5], lr=0.001)\n",
        "\n",
        "environment = Environment(250,50)\n",
        "environment.CreateStates()\n",
        "policy_updator  = PolicyUpdater(environment= environment, lr = policy_lr)\n",
        "episode = 0\n",
        "for i in tqdm(range(8000)):\n",
        "    # print(episode)\n",
        "    episode += 1\n",
        "    environment.reset_paramter()\n",
        "    state, _ = environment.reset_state()\n",
        "    environment.generate_channel_state_list_for_whole_sequence(state[1])\n",
        "\n",
        "    rewards = []\n",
        "    states = [state]\n",
        "    actions = []\n",
        "    dones = []\n",
        "    done = False\n",
        "    name = f'({state[0]}, {state[1]}, {state[2]}, {state[3]}, {state[4]})'\n",
        "    # prev_state = state\n",
        "\n",
        "    initial_state= state\n",
        "    if initial_state[1] == \"Ch1\":\n",
        "        initial_state[1] = 1\n",
        "    else:\n",
        "        initial_state[1] = 0\n",
        "    initial_state = initial_state.astype(int)\n",
        "\n",
        "    while not done:\n",
        "   \n",
        "        action = DQN_Agent.choose_action(initial_state)\n",
        "        if environment.state.Ra == 0 and environment.state.U == 0:\n",
        "            action = 0\n",
        "        if environment.state.Ra == 0 and environment.state.U == 24:\n",
        "            action = 1\n",
        "        if environment.state.U > 0:\n",
        "            action = 0\n",
        "        state, reward, done = environment.step(action)\n",
        "        actions.append(action)\n",
        "        states.append(state)\n",
        "        rewards.append(reward) \n",
        "        dones.append(done)\n",
        "        if done: \n",
        "\n",
        "            res = np.nonzero(rewards)[0]\n",
        "            if len(res) > 0 :\n",
        "              # print(res)\n",
        "              rewards[-1] = rewards[res[0]]\n",
        "              rewards[res[0]] = 0   \n",
        "            for i in states: \n",
        "                if i[1] == \"Ch1\":\n",
        "                    i[1] = 1\n",
        "                else:\n",
        "                    i[1] = 0\n",
        "            states = np.stack(states)\n",
        "            states = states.astype(int)\n",
        "            rewards = np.array(rewards, dtype = np.float32)\n",
        "            actions = np.array(actions)\n",
        "            if actions[0] == 0: \n",
        "              rewards = rudder_lstm_a0.redistribute_reward(states=np.expand_dims(states, 0),actions=np.expand_dims(actions, 0))[0, :]\n",
        "            if actions[0] == 1: \n",
        "              rewards = rudder_lstm_a1.redistribute_reward(states=np.expand_dims(states, 0),actions=np.expand_dims(actions, 0))[0, :]\n",
        "            for i in range(25):\n",
        "              DQN_Agent.store_transition(states[i], actions[i], rewards[i], states[i+1],\n",
        "                                  dones[i])\n",
        "              DQN_Agent.learn()\n",
        "Optimal_Policy_Dict = {}\n",
        "for state in environment.initial_State:\n",
        "  State  =  np.array([state.Au, state.Ch, state.BT, state.Ra, state.U])\n",
        "  if State[1] == \"Ch1\":\n",
        "    State[1] = 1\n",
        "  else:\n",
        "    State[1] = 0\n",
        "  State = State.astype(int) \n",
        "  actions =  DQN_Agent.Q_eval.forward(State)\n",
        "\n",
        "  if State[1] == 1:\n",
        "    CH_NAME = \"Ch1\"\n",
        "  else:\n",
        "    CH_NAME = \"Ch2\"\n",
        "  name = f'({State[0]}, {CH_NAME}, {State[2]}, {State[3]}, {State[4]})'\n",
        "  action = T.argmax(actions).item()\n",
        "  if action == 0:\n",
        "    Optimal_Policy_Dict[name] = \"wait\"\n",
        "  else:\n",
        "    Optimal_Policy_Dict[name] = \"send\"  \n",
        "  print(f'{State} ___________________________ {DQN_Agent.Q_eval.forward(State)}')\n",
        "print(Optimal_Policy_Dict)\n"
      ],
      "metadata": {
        "id": "qAkOBqt3F6JY",
        "outputId": "393f4c11-0d17-49a3-d1c3-936f0d3ddc1d",
        "colab": {
          "base_uri": "https://localhost:8080/",
          "height": 562
        }
      },
      "execution_count": null,
      "outputs": [
        {
          "output_type": "stream",
          "name": "stderr",
          "text": [
            "<ipython-input-15-3b5fcbbde268>:59: DeprecationWarning: `np.bool` is a deprecated alias for the builtin `bool`. To silence this warning, use `bool` by itself. Doing this will not modify any behavior and is safe. If you specifically wanted the numpy scalar type, use `np.bool_` here.\n",
            "Deprecated in NumPy 1.20; for more details and guidance: https://numpy.org/devdocs/release/1.20.0-notes.html#deprecations\n",
            "  self.terminal_memory = np.zeros(self.mem_size, dtype=np.bool)\n"
          ]
        },
        {
          "output_type": "stream",
          "name": "stdout",
          "text": [
            "[[0.2, 0.8], [0.30000000000000004, 0.7]]\n",
            "Amir\n"
          ]
        },
        {
          "output_type": "stream",
          "name": "stderr",
          "text": [
            "  2%|▏         | 164/8000 [00:16<13:01, 10.03it/s]\n"
          ]
        },
        {
          "output_type": "error",
          "ename": "KeyboardInterrupt",
          "evalue": "ignored",
          "traceback": [
            "\u001b[0;31m---------------------------------------------------------------------------\u001b[0m",
            "\u001b[0;31mKeyboardInterrupt\u001b[0m                         Traceback (most recent call last)",
            "\u001b[0;32m<ipython-input-16-f9951ddaf818>\u001b[0m in \u001b[0;36m<module>\u001b[0;34m\u001b[0m\n\u001b[1;32m     98\u001b[0m               DQN_Agent.store_transition(states[i], actions[i], rewards[i], states[i+1],\n\u001b[1;32m     99\u001b[0m                                   dones[i])\n\u001b[0;32m--> 100\u001b[0;31m               \u001b[0mDQN_Agent\u001b[0m\u001b[0;34m.\u001b[0m\u001b[0mlearn\u001b[0m\u001b[0;34m(\u001b[0m\u001b[0;34m)\u001b[0m\u001b[0;34m\u001b[0m\u001b[0;34m\u001b[0m\u001b[0m\n\u001b[0m\u001b[1;32m    101\u001b[0m \u001b[0mOptimal_Policy_Dict\u001b[0m \u001b[0;34m=\u001b[0m \u001b[0;34m{\u001b[0m\u001b[0;34m}\u001b[0m\u001b[0;34m\u001b[0m\u001b[0;34m\u001b[0m\u001b[0m\n\u001b[1;32m    102\u001b[0m \u001b[0;32mfor\u001b[0m \u001b[0mstate\u001b[0m \u001b[0;32min\u001b[0m \u001b[0menvironment\u001b[0m\u001b[0;34m.\u001b[0m\u001b[0minitial_State\u001b[0m\u001b[0;34m:\u001b[0m\u001b[0;34m\u001b[0m\u001b[0;34m\u001b[0m\u001b[0m\n",
            "\u001b[0;32m<ipython-input-15-3b5fcbbde268>\u001b[0m in \u001b[0;36mlearn\u001b[0;34m(self)\u001b[0m\n\u001b[1;32m    108\u001b[0m \u001b[0;34m\u001b[0m\u001b[0m\n\u001b[1;32m    109\u001b[0m         \u001b[0mloss\u001b[0m \u001b[0;34m=\u001b[0m \u001b[0mself\u001b[0m\u001b[0;34m.\u001b[0m\u001b[0mQ_eval\u001b[0m\u001b[0;34m.\u001b[0m\u001b[0mloss\u001b[0m\u001b[0;34m(\u001b[0m\u001b[0mq_target\u001b[0m\u001b[0;34m,\u001b[0m \u001b[0mq_eval\u001b[0m\u001b[0;34m)\u001b[0m\u001b[0;34m.\u001b[0m\u001b[0mto\u001b[0m\u001b[0;34m(\u001b[0m\u001b[0mself\u001b[0m\u001b[0;34m.\u001b[0m\u001b[0mQ_eval\u001b[0m\u001b[0;34m.\u001b[0m\u001b[0mdevice\u001b[0m\u001b[0;34m)\u001b[0m\u001b[0;34m\u001b[0m\u001b[0;34m\u001b[0m\u001b[0m\n\u001b[0;32m--> 110\u001b[0;31m         \u001b[0mloss\u001b[0m\u001b[0;34m.\u001b[0m\u001b[0mbackward\u001b[0m\u001b[0;34m(\u001b[0m\u001b[0;34m)\u001b[0m\u001b[0;34m\u001b[0m\u001b[0;34m\u001b[0m\u001b[0m\n\u001b[0m\u001b[1;32m    111\u001b[0m         \u001b[0mself\u001b[0m\u001b[0;34m.\u001b[0m\u001b[0mQ_eval\u001b[0m\u001b[0;34m.\u001b[0m\u001b[0moptimizer\u001b[0m\u001b[0;34m.\u001b[0m\u001b[0mstep\u001b[0m\u001b[0;34m(\u001b[0m\u001b[0;34m)\u001b[0m\u001b[0;34m\u001b[0m\u001b[0;34m\u001b[0m\u001b[0m\n\u001b[1;32m    112\u001b[0m \u001b[0;34m\u001b[0m\u001b[0m\n",
            "\u001b[0;32m/usr/local/lib/python3.8/dist-packages/torch/_tensor.py\u001b[0m in \u001b[0;36mbackward\u001b[0;34m(self, gradient, retain_graph, create_graph, inputs)\u001b[0m\n\u001b[1;32m    486\u001b[0m                 \u001b[0minputs\u001b[0m\u001b[0;34m=\u001b[0m\u001b[0minputs\u001b[0m\u001b[0;34m,\u001b[0m\u001b[0;34m\u001b[0m\u001b[0;34m\u001b[0m\u001b[0m\n\u001b[1;32m    487\u001b[0m             )\n\u001b[0;32m--> 488\u001b[0;31m         torch.autograd.backward(\n\u001b[0m\u001b[1;32m    489\u001b[0m             \u001b[0mself\u001b[0m\u001b[0;34m,\u001b[0m \u001b[0mgradient\u001b[0m\u001b[0;34m,\u001b[0m \u001b[0mretain_graph\u001b[0m\u001b[0;34m,\u001b[0m \u001b[0mcreate_graph\u001b[0m\u001b[0;34m,\u001b[0m \u001b[0minputs\u001b[0m\u001b[0;34m=\u001b[0m\u001b[0minputs\u001b[0m\u001b[0;34m\u001b[0m\u001b[0;34m\u001b[0m\u001b[0m\n\u001b[1;32m    490\u001b[0m         )\n",
            "\u001b[0;32m/usr/local/lib/python3.8/dist-packages/torch/autograd/__init__.py\u001b[0m in \u001b[0;36mbackward\u001b[0;34m(tensors, grad_tensors, retain_graph, create_graph, grad_variables, inputs)\u001b[0m\n\u001b[1;32m    195\u001b[0m     \u001b[0;31m# some Python versions print out the first line of a multi-line function\u001b[0m\u001b[0;34m\u001b[0m\u001b[0;34m\u001b[0m\u001b[0;34m\u001b[0m\u001b[0m\n\u001b[1;32m    196\u001b[0m     \u001b[0;31m# calls in the traceback and some print out the last line\u001b[0m\u001b[0;34m\u001b[0m\u001b[0;34m\u001b[0m\u001b[0;34m\u001b[0m\u001b[0m\n\u001b[0;32m--> 197\u001b[0;31m     Variable._execution_engine.run_backward(  # Calls into the C++ engine to run the backward pass\n\u001b[0m\u001b[1;32m    198\u001b[0m         \u001b[0mtensors\u001b[0m\u001b[0;34m,\u001b[0m \u001b[0mgrad_tensors_\u001b[0m\u001b[0;34m,\u001b[0m \u001b[0mretain_graph\u001b[0m\u001b[0;34m,\u001b[0m \u001b[0mcreate_graph\u001b[0m\u001b[0;34m,\u001b[0m \u001b[0minputs\u001b[0m\u001b[0;34m,\u001b[0m\u001b[0;34m\u001b[0m\u001b[0;34m\u001b[0m\u001b[0m\n\u001b[1;32m    199\u001b[0m         allow_unreachable=True, accumulate_grad=True)  # Calls into the C++ engine to run the backward pass\n",
            "\u001b[0;31mKeyboardInterrupt\u001b[0m: "
          ]
        }
      ]
    },
    {
      "cell_type": "markdown",
      "source": [
        "**optimal policies with Dueling Double DQN** "
      ],
      "metadata": {
        "id": "_HDAImTqlSfg"
      }
    },
    {
      "cell_type": "code",
      "source": [
        "import os\n",
        "import numpy as np\n",
        "import torch as T\n",
        "import torch.nn as nn\n",
        "import torch.nn.functional as F\n",
        "import torch.optim as optim\n",
        "\n",
        "class ReplayBuffer():\n",
        "    def __init__(self, max_size, input_shape):\n",
        "        self.mem_size = max_size\n",
        "        self.mem_cntr = 0\n",
        "        self.state_memory = np.zeros((self.mem_size, *input_shape),\n",
        "                                    dtype=np.float32)\n",
        "        self.new_state_memory = np.zeros((self.mem_size, *input_shape),\n",
        "                                        dtype=np.float32)\n",
        "        self.action_memory = np.zeros(self.mem_size, dtype=np.int64)\n",
        "        self.reward_memory = np.zeros(self.mem_size, dtype=np.float32)\n",
        "        self.terminal_memory = np.zeros(self.mem_size, dtype=np.uint8)\n",
        "\n",
        "    def store_transition(self, state, action, reward, state_, done):\n",
        "        index = self.mem_cntr % self.mem_size\n",
        "        self.state_memory[index] = state\n",
        "        self.new_state_memory[index] = state_\n",
        "        self.action_memory[index] = action\n",
        "        self.reward_memory[index] = reward\n",
        "        self.terminal_memory[index] = done\n",
        "        self.mem_cntr += 1\n",
        "\n",
        "    def sample_buffer(self, batch_size):\n",
        "        max_mem = min(self.mem_cntr, self.mem_size)\n",
        "        batch = np.random.choice(max_mem, batch_size, replace=False)\n",
        "\n",
        "        states = self.state_memory[batch]\n",
        "        actions = self.action_memory[batch]\n",
        "        rewards = self.reward_memory[batch]\n",
        "        states_ = self.new_state_memory[batch]\n",
        "        terminal = self.terminal_memory[batch]\n",
        "\n",
        "        return states, actions, rewards, states_, terminal\n",
        "\n",
        "class DuelingDeepQNetwork(nn.Module):\n",
        "    def __init__(self, lr, n_actions, name, input_dims, chkpt_dir):\n",
        "        super(DuelingDeepQNetwork, self).__init__()\n",
        "        self.checkpoint_dir = chkpt_dir\n",
        "        self.checkpoint_file = os.path.join(self.checkpoint_dir, name)\n",
        "\n",
        "        self.fc1 = nn.Linear(*input_dims, 512)\n",
        "        self.V = nn.Linear(512, 1)\n",
        "        self.A = nn.Linear(512, n_actions)\n",
        "\n",
        "        self.optimizer = optim.Adam(self.parameters(), lr=lr)\n",
        "        self.loss = nn.MSELoss()\n",
        "        # \n",
        "        self.device = T.device('cuda:0' if T.cuda.is_available() else 'cpu')\n",
        "        self.to(self.device)\n",
        "\n",
        "    def forward(self, state):\n",
        "        flat1 = F.relu(self.fc1(state))\n",
        "        V = self.V(flat1)\n",
        "        A = self.A(flat1)\n",
        "\n",
        "        return V, A\n",
        "\n",
        "    def save_checkpoint(self):\n",
        "        print('... saving checkpoint ...')\n",
        "        T.save(self.state_dict(), self.checkpoint_file)\n",
        "\n",
        "    def load_checkpoint(self):\n",
        "        print('... loading checkpoint ...')\n",
        "        self.load_state_dict(T.load(self.checkpoint_file))\n",
        "\n",
        "class Dueling_DDQN_Agent():\n",
        "    def __init__(self, gamma, epsilon, lr, n_actions, input_dims,\n",
        "                 mem_size, batch_size, eps_min=0.01, eps_dec=5e-7,\n",
        "                 replace=1000, chkpt_dir='tmp/dueling_ddqn'):\n",
        "        self.gamma = gamma\n",
        "        self.epsilon = epsilon\n",
        "        self.lr = lr\n",
        "        self.n_actions = n_actions\n",
        "        self.input_dims = input_dims\n",
        "        self.batch_size = batch_size\n",
        "        self.eps_min = eps_min\n",
        "        self.eps_dec = eps_dec\n",
        "        self.replace_target_cnt = replace\n",
        "        self.chkpt_dir = chkpt_dir\n",
        "        self.action_space = [i for i in range(self.n_actions)]\n",
        "        self.learn_step_counter = 0\n",
        "\n",
        "        self.memory = ReplayBuffer(mem_size, input_dims)\n",
        "\n",
        "        self.q_eval = DuelingDeepQNetwork(self.lr, self.n_actions,\n",
        "                                   input_dims=self.input_dims,\n",
        "                                   name='lunar_lander_dueling_ddqn_q_eval',\n",
        "                                   chkpt_dir=self.chkpt_dir)\n",
        "\n",
        "        self.q_next = DuelingDeepQNetwork(self.lr, self.n_actions,\n",
        "                                   input_dims=self.input_dims,\n",
        "                                   name='lunar_lander_dueling_ddqn_q_next',\n",
        "                                   chkpt_dir=self.chkpt_dir)\n",
        "\n",
        "    def choose_action(self, observation):\n",
        "        if np.random.random() > self.epsilon:\n",
        "            state = T.tensor([observation],dtype=T.float).to(self.q_eval.device)\n",
        "            _, advantage = self.q_eval.forward(state)\n",
        "            action = T.argmax(advantage).item()\n",
        "        else:\n",
        "            action = np.random.choice(self.action_space)\n",
        "\n",
        "        return action\n",
        "\n",
        "    def store_transition(self, state, action, reward, state_, done):\n",
        "        self.memory.store_transition(state, action, reward, state_, done)\n",
        "\n",
        "    def replace_target_network(self):\n",
        "        if self.learn_step_counter % self.replace_target_cnt == 0:\n",
        "            self.q_next.load_state_dict(self.q_eval.state_dict())\n",
        "\n",
        "    def decrement_epsilon(self):\n",
        "        self.epsilon = self.epsilon - self.eps_dec \\\n",
        "                        if self.epsilon > self.eps_min else self.eps_min\n",
        "\n",
        "    def save_models(self):\n",
        "        self.q_eval.save_checkpoint()\n",
        "        self.q_next.save_checkpoint()\n",
        "\n",
        "    def load_models(self):\n",
        "        self.q_eval.load_checkpoint()\n",
        "        self.q_next.load_checkpoint()\n",
        "\n",
        "    def learn(self):\n",
        "        if self.memory.mem_cntr < self.batch_size:\n",
        "            return\n",
        "\n",
        "        self.q_eval.optimizer.zero_grad()\n",
        "\n",
        "        self.replace_target_network()\n",
        "\n",
        "        state, action, reward, new_state, done = \\\n",
        "                                self.memory.sample_buffer(self.batch_size)\n",
        "\n",
        "        states = T.tensor(state).to(self.q_eval.device)\n",
        "        rewards = T.tensor(reward).to(self.q_eval.device)\n",
        "        dones = T.tensor(done).to(self.q_eval.device)\n",
        "        actions = T.tensor(action).to(self.q_eval.device)\n",
        "        states_ = T.tensor(new_state).to(self.q_eval.device)\n",
        "\n",
        "        indices = np.arange(self.batch_size)\n",
        "\n",
        "        V_s, A_s = self.q_eval.forward(states)\n",
        "        V_s_, A_s_ = self.q_next.forward(states_)\n",
        "\n",
        "        V_s_eval, A_s_eval = self.q_eval.forward(states_)\n",
        "\n",
        "        q_pred = T.add(V_s,\n",
        "                        (A_s - A_s.mean(dim=1, keepdim=True)))[indices, actions]\n",
        "        q_next = T.add(V_s_,\n",
        "                        (A_s_ - A_s_.mean(dim=1, keepdim=True)))\n",
        "\n",
        "        q_eval = T.add(V_s_eval, (A_s_eval - A_s_eval.mean(dim=1,keepdim=True)))\n",
        "\n",
        "        max_actions = T.argmax(q_eval, dim=1)\n",
        "        max_actions[indices] = 0\n",
        "        q_next[dones] = 0.0\n",
        "        q_target = rewards + self.gamma*q_next[indices, max_actions]\n",
        "\n",
        "        loss = self.q_eval.loss(q_target, q_pred).to(self.q_eval.device)\n",
        "        loss.backward()\n",
        "        self.q_eval.optimizer.step()\n",
        "        self.learn_step_counter += 1\n",
        "\n",
        "        self.decrement_epsilon()"
      ],
      "metadata": {
        "id": "U8f7SPwQlRiw"
      },
      "execution_count": 7,
      "outputs": []
    },
    {
      "cell_type": "code",
      "source": [
        "\n",
        "import numpy as np\n",
        "# from Environment import Actor\n",
        "from Rudder import LessonBuffer\n",
        "from Environment import Environment\n",
        "from Rudder import RRLSTM as LSTM\n",
        "import torch\n",
        "import time as Time\n",
        "import random\n",
        "from PolicyUpdater import PolicyUpdater\n",
        "from tqdm import tqdm\n",
        "lb_size = 2048\n",
        "n_lstm = 16\n",
        "max_time = 50\n",
        "policy_lr = 0.5\n",
        "lstm_lr = 1e-2\n",
        "l2_regularization = 1e-6\n",
        "avg_window = 750\n",
        "\n",
        "episode = 0\n",
        "Lesson_buffer_a1 = LessonBuffer(1000, 40, 5)\n",
        "Lesson_buffer_a0 = LessonBuffer(1000, 40, 5)\n",
        "\n",
        "rudder_lstm_a0 = LSTM(state_input_size=5, n_actions= 2, buffer=Lesson_buffer_a0, n_units=n_lstm,\n",
        "                        lstm_lr=lstm_lr, l2_regularization=l2_regularization, return_scaling=10,\n",
        "                        lstm_batch_size=8, continuous_pred_factor=0.5)\n",
        "rudder_lstm_a1 = LSTM(state_input_size=5, n_actions= 2, buffer=Lesson_buffer_a1, n_units=n_lstm,\n",
        "                        lstm_lr=lstm_lr, l2_regularization=l2_regularization, return_scaling=10,\n",
        "                        lstm_batch_size=8, continuous_pred_factor=0.5)\n",
        "rudder_lstm_a0.load_state_dict(torch.load('rudder_lstm_150_wait_0.4.pt'))\n",
        "rudder_lstm_a1.load_state_dict(torch.load('rudder_lstm_150_send_0.4.pt'))\n",
        "\n",
        "\n",
        "Dueling_Double_DQN_Agent = Dueling_DDQN_Agent(gamma=1, epsilon=1.0, lr=3e-4,\n",
        "                  input_dims=[5], n_actions=2, mem_size=100000, eps_min=0.01,\n",
        "                  batch_size=64, eps_dec=1e-3, replace=100)\n",
        "\n",
        "environment = Environment(250,50)\n",
        "environment.CreateStates()\n",
        "policy_updator  = PolicyUpdater(environment= environment, lr = policy_lr)\n",
        "episode = 0\n",
        "for i in tqdm(range(5000)):\n",
        "    episode += 1\n",
        "    environment.reset_paramter()\n",
        "    state, _ = environment.reset_state()\n",
        "    environment.generate_channel_state_list_for_whole_sequence(state[1])\n",
        "    rewards = []\n",
        "    states = [state]\n",
        "    actions = []\n",
        "    dones = []\n",
        "    done = False\n",
        "    name = f'({state[0]}, {state[1]}, {state[2]}, {state[3]}, {state[4]})'\n",
        "\n",
        "    initial_state= state\n",
        "    if initial_state[1] == \"Ch1\":\n",
        "        initial_state[1] = 1\n",
        "    else:\n",
        "        initial_state[1] = 0\n",
        "    initial_state = initial_state.astype(int)\n",
        "\n",
        "    while not done:\n",
        "        action = Dueling_Double_DQN_Agent.choose_action(initial_state)\n",
        "        if environment.state.Ra == 0 and environment.state.U == 0:\n",
        "            action = 0\n",
        "        # if environment.state.Ra == 0 and environment.state.U == 19:\n",
        "        #     action = 1\n",
        "        if environment.state.U > 0:\n",
        "            action = 0\n",
        "        if environment.sendbackaction == True:\n",
        "           action = 1\n",
        "        state, reward, done = environment.step(action)\n",
        "        actions.append(action)\n",
        "        states.append(state)\n",
        "        rewards.append(reward) \n",
        "        dones.append(done)\n",
        "        if done: \n",
        "            res = np.nonzero(rewards)[0]\n",
        "            if len(res) > 0 :\n",
        "              rewards[-1] = rewards[res[0]]\n",
        "              rewards[-1] = rewards[-1]/20\n",
        "              rewards[res[0]] = 0   \n",
        "            for i in states: \n",
        "                if i[1] == \"Ch1\":\n",
        "                    i[1] = 1\n",
        "                else:\n",
        "                    i[1] = 0\n",
        "            states = np.stack(states)\n",
        "            states = states.astype(int)\n",
        "            rewards = np.array(rewards, dtype = np.float32)\n",
        "            actions = np.array(actions)\n",
        "            if actions[0] == 0: \n",
        "                  rewards = rudder_lstm_a0.redistribute_reward(states=np.expand_dims(states, 0),actions=np.expand_dims(actions, 0))[0, :]\n",
        "            if actions[0] == 1: \n",
        "                  rewards = rudder_lstm_a1.redistribute_reward(states=np.expand_dims(states, 0),actions=np.expand_dims(actions, 0))[0, :]\n",
        "            for i in range(40):\n",
        "              Dueling_Double_DQN_Agent.store_transition(states[i], actions[i], rewards[i], states[i+1],\n",
        "                                  dones[i])\n",
        "              Dueling_Double_DQN_Agent.learn()\n",
        "Optimal_Policy_Dict = {}\n",
        "for state in environment.initial_State:\n",
        "  print(state.Name)\n",
        "  State  =  np.array([state.Au, state.Ch, state.BT, state.Ra, state.U])\n",
        "  if State[1] == \"Ch1\":\n",
        "    State[1] = 1\n",
        "  else:\n",
        "    State[1] = 0\n",
        "  State = State.astype(int) \n",
        "  state = T.tensor([State],dtype=T.float).to(Dueling_Double_DQN_Agent.q_eval.device)\n",
        "  _, advantage =  Dueling_Double_DQN_Agent.q_eval.forward(state)\n",
        "  action = T.argmax(advantage).item()\n",
        "  if State[1] == 1:\n",
        "    CH_NAME = \"Ch1\"\n",
        "  else:\n",
        "    CH_NAME = \"Ch2\"\n",
        "  name = f'({State[0]}, {CH_NAME}, {State[2]}, {State[3]}, {State[4]})'\n",
        "  if action == 0:\n",
        "    Optimal_Policy_Dict[name] = \"wait\"\n",
        "  else:\n",
        "    Optimal_Policy_Dict[name] = \"send\"  \n",
        "  print(f'{State} __________________ {advantage}_________________{action}')\n",
        "print(Optimal_Policy_Dict)"
      ],
      "metadata": {
        "id": "ubtzi8mDlrwB",
        "outputId": "af54b412-ce67-4011-b50f-c6c0a1d7dc73",
        "colab": {
          "base_uri": "https://localhost:8080/"
        }
      },
      "execution_count": 8,
      "outputs": [
        {
          "output_type": "stream",
          "name": "stdout",
          "text": [
            "[[0.4, 0.6], [0.5, 0.5]]\n",
            "402108\n"
          ]
        },
        {
          "output_type": "stream",
          "name": "stderr",
          "text": [
            "  0%|          | 0/5000 [00:00<?, ?it/s]<ipython-input-7-1b663948e460>:163: UserWarning: masked_fill_ received a mask with dtype torch.uint8, this behavior is now deprecated,please use a mask with dtype torch.bool instead. (Triggered internally at ../aten/src/ATen/native/TensorAdvancedIndexing.cpp:1646.)\n",
            "  q_next[dones] = 0.0\n",
            "/usr/local/lib/python3.8/dist-packages/torch/autograd/__init__.py:197: UserWarning: masked_fill_ received a mask with dtype torch.uint8, this behavior is now deprecated,please use a mask with dtype torch.bool instead. (Triggered internally at ../aten/src/ATen/native/TensorAdvancedIndexing.cpp:1646.)\n",
            "  Variable._execution_engine.run_backward(  # Calls into the C++ engine to run the backward pass\n",
            "<ipython-input-7-1b663948e460>:103: UserWarning: Creating a tensor from a list of numpy.ndarrays is extremely slow. Please consider converting the list to a single numpy.ndarray with numpy.array() before converting to a tensor. (Triggered internally at ../torch/csrc/utils/tensor_new.cpp:230.)\n",
            "  state = T.tensor([observation],dtype=T.float).to(self.q_eval.device)\n",
            "100%|██████████| 5000/5000 [14:09<00:00,  5.88it/s]\n"
          ]
        },
        {
          "output_type": "stream",
          "name": "stdout",
          "text": [
            "(80, Ch1, 150, 1, 0)\n",
            "[ 80   1 150   1   0] __________________ tensor([[-14.7901,  14.9734]], grad_fn=<AddmmBackward0>)_________________1\n",
            "(80, Ch2, 150, 1, 0)\n",
            "[ 80   0 150   1   0] __________________ tensor([[-16.1313,  16.6219]], grad_fn=<AddmmBackward0>)_________________1\n",
            "(81, Ch1, 150, 1, 0)\n",
            "[ 81   1 150   1   0] __________________ tensor([[-14.3788,  14.6810]], grad_fn=<AddmmBackward0>)_________________1\n",
            "(81, Ch2, 150, 1, 0)\n",
            "[ 81   0 150   1   0] __________________ tensor([[-15.7731,  16.3832]], grad_fn=<AddmmBackward0>)_________________1\n",
            "(82, Ch1, 150, 1, 0)\n",
            "[ 82   1 150   1   0] __________________ tensor([[-14.0971,  14.4678]], grad_fn=<AddmmBackward0>)_________________1\n",
            "(82, Ch2, 150, 1, 0)\n",
            "[ 82   0 150   1   0] __________________ tensor([[-15.6494,  16.3153]], grad_fn=<AddmmBackward0>)_________________1\n",
            "(83, Ch1, 150, 1, 0)\n",
            "[ 83   1 150   1   0] __________________ tensor([[-14.0012,  14.4121]], grad_fn=<AddmmBackward0>)_________________1\n",
            "(83, Ch2, 150, 1, 0)\n",
            "[ 83   0 150   1   0] __________________ tensor([[-15.5544,  16.2621]], grad_fn=<AddmmBackward0>)_________________1\n",
            "(84, Ch1, 150, 1, 0)\n",
            "[ 84   1 150   1   0] __________________ tensor([[-13.9052,  14.3564]], grad_fn=<AddmmBackward0>)_________________1\n",
            "(84, Ch2, 150, 1, 0)\n",
            "[ 84   0 150   1   0] __________________ tensor([[-15.4607,  16.2097]], grad_fn=<AddmmBackward0>)_________________1\n",
            "(85, Ch1, 150, 1, 0)\n",
            "[ 85   1 150   1   0] __________________ tensor([[-13.8093,  14.3007]], grad_fn=<AddmmBackward0>)_________________1\n",
            "(85, Ch2, 150, 1, 0)\n",
            "[ 85   0 150   1   0] __________________ tensor([[-15.3671,  16.1572]], grad_fn=<AddmmBackward0>)_________________1\n",
            "(86, Ch1, 150, 1, 0)\n",
            "[ 86   1 150   1   0] __________________ tensor([[-13.7134,  14.2450]], grad_fn=<AddmmBackward0>)_________________1\n",
            "(86, Ch2, 150, 1, 0)\n",
            "[ 86   0 150   1   0] __________________ tensor([[-15.2734,  16.1048]], grad_fn=<AddmmBackward0>)_________________1\n",
            "(87, Ch1, 150, 1, 0)\n",
            "[ 87   1 150   1   0] __________________ tensor([[-13.6181,  14.1910]], grad_fn=<AddmmBackward0>)_________________1\n",
            "(87, Ch2, 150, 1, 0)\n",
            "[ 87   0 150   1   0] __________________ tensor([[-15.1798,  16.0524]], grad_fn=<AddmmBackward0>)_________________1\n",
            "(88, Ch1, 150, 1, 0)\n",
            "[ 88   1 150   1   0] __________________ tensor([[-13.5238,  14.1395]], grad_fn=<AddmmBackward0>)_________________1\n",
            "(88, Ch2, 150, 1, 0)\n",
            "[ 88   0 150   1   0] __________________ tensor([[-15.0859,  15.9997]], grad_fn=<AddmmBackward0>)_________________1\n",
            "(89, Ch1, 150, 1, 0)\n",
            "[ 89   1 150   1   0] __________________ tensor([[-13.4294,  14.0879]], grad_fn=<AddmmBackward0>)_________________1\n",
            "(89, Ch2, 150, 1, 0)\n",
            "[ 89   0 150   1   0] __________________ tensor([[-14.9913,  15.9466]], grad_fn=<AddmmBackward0>)_________________1\n",
            "(90, Ch1, 150, 1, 0)\n",
            "[ 90   1 150   1   0] __________________ tensor([[-13.3351,  14.0370]], grad_fn=<AddmmBackward0>)_________________1\n",
            "(90, Ch2, 150, 1, 0)\n",
            "[ 90   0 150   1   0] __________________ tensor([[-14.8968,  15.8934]], grad_fn=<AddmmBackward0>)_________________1\n",
            "(91, Ch1, 150, 1, 0)\n",
            "[ 91   1 150   1   0] __________________ tensor([[-13.2421,  13.9889]], grad_fn=<AddmmBackward0>)_________________1\n",
            "(91, Ch2, 150, 1, 0)\n",
            "[ 91   0 150   1   0] __________________ tensor([[-14.8036,  15.8445]], grad_fn=<AddmmBackward0>)_________________1\n",
            "(92, Ch1, 150, 1, 0)\n",
            "[ 92   1 150   1   0] __________________ tensor([[-13.1505,  13.9419]], grad_fn=<AddmmBackward0>)_________________1\n",
            "(92, Ch2, 150, 1, 0)\n",
            "[ 92   0 150   1   0] __________________ tensor([[-14.7111,  15.7977]], grad_fn=<AddmmBackward0>)_________________1\n",
            "(93, Ch1, 150, 1, 0)\n",
            "[ 93   1 150   1   0] __________________ tensor([[-13.0901,  13.9258]], grad_fn=<AddmmBackward0>)_________________1\n",
            "(93, Ch2, 150, 1, 0)\n",
            "[ 93   0 150   1   0] __________________ tensor([[-14.6576,  15.7891]], grad_fn=<AddmmBackward0>)_________________1\n",
            "(94, Ch1, 150, 1, 0)\n",
            "[ 94   1 150   1   0] __________________ tensor([[-13.2073,  14.1097]], grad_fn=<AddmmBackward0>)_________________1\n",
            "(94, Ch2, 150, 1, 0)\n",
            "[ 94   0 150   1   0] __________________ tensor([[-14.7781,  15.9603]], grad_fn=<AddmmBackward0>)_________________1\n",
            "(95, Ch1, 150, 1, 0)\n",
            "[ 95   1 150   1   0] __________________ tensor([[-13.4206,  14.4207]], grad_fn=<AddmmBackward0>)_________________1\n",
            "(95, Ch2, 150, 1, 0)\n",
            "[ 95   0 150   1   0] __________________ tensor([[-14.9820,  16.2593]], grad_fn=<AddmmBackward0>)_________________1\n",
            "(145, Ch1, 150, 1, 0)\n",
            "[145   1 150   1   0] __________________ tensor([[-16.3889,  21.4974]], grad_fn=<AddmmBackward0>)_________________1\n",
            "(145, Ch2, 150, 1, 0)\n",
            "[145   0 150   1   0] __________________ tensor([[-18.2509,  23.4914]], grad_fn=<AddmmBackward0>)_________________1\n",
            "(146, Ch1, 150, 1, 0)\n",
            "[146   1 150   1   0] __________________ tensor([[-16.3645,  21.5503]], grad_fn=<AddmmBackward0>)_________________1\n",
            "(146, Ch2, 150, 1, 0)\n",
            "[146   0 150   1   0] __________________ tensor([[-18.2156,  23.5354]], grad_fn=<AddmmBackward0>)_________________1\n",
            "(147, Ch1, 150, 1, 0)\n",
            "[147   1 150   1   0] __________________ tensor([[-16.3367,  21.6001]], grad_fn=<AddmmBackward0>)_________________1\n",
            "(147, Ch2, 150, 1, 0)\n",
            "[147   0 150   1   0] __________________ tensor([[-18.1786,  23.5764]], grad_fn=<AddmmBackward0>)_________________1\n",
            "(148, Ch1, 150, 1, 0)\n",
            "[148   1 150   1   0] __________________ tensor([[-16.3067,  21.6480]], grad_fn=<AddmmBackward0>)_________________1\n",
            "(148, Ch2, 150, 1, 0)\n",
            "[148   0 150   1   0] __________________ tensor([[-18.1416,  23.6175]], grad_fn=<AddmmBackward0>)_________________1\n",
            "(149, Ch1, 150, 1, 0)\n",
            "[149   1 150   1   0] __________________ tensor([[-16.2768,  21.6959]], grad_fn=<AddmmBackward0>)_________________1\n",
            "(149, Ch2, 150, 1, 0)\n",
            "[149   0 150   1   0] __________________ tensor([[-18.1045,  23.6585]], grad_fn=<AddmmBackward0>)_________________1\n",
            "(150, Ch1, 150, 1, 0)\n",
            "[150   1 150   1   0] __________________ tensor([[-16.2468,  21.7438]], grad_fn=<AddmmBackward0>)_________________1\n",
            "(150, Ch2, 150, 1, 0)\n",
            "[150   0 150   1   0] __________________ tensor([[-18.0675,  23.6995]], grad_fn=<AddmmBackward0>)_________________1\n",
            "(151, Ch1, 150, 1, 0)\n",
            "[151   1 150   1   0] __________________ tensor([[-16.2168,  21.7916]], grad_fn=<AddmmBackward0>)_________________1\n",
            "(151, Ch2, 150, 1, 0)\n",
            "[151   0 150   1   0] __________________ tensor([[-18.0309,  23.7386]], grad_fn=<AddmmBackward0>)_________________1\n",
            "(152, Ch1, 150, 1, 0)\n",
            "[152   1 150   1   0] __________________ tensor([[-16.1869,  21.8395]], grad_fn=<AddmmBackward0>)_________________1\n",
            "(152, Ch2, 150, 1, 0)\n",
            "[152   0 150   1   0] __________________ tensor([[-17.9942,  23.7777]], grad_fn=<AddmmBackward0>)_________________1\n",
            "(153, Ch1, 150, 1, 0)\n",
            "[153   1 150   1   0] __________________ tensor([[-16.1555,  21.8857]], grad_fn=<AddmmBackward0>)_________________1\n",
            "(153, Ch2, 150, 1, 0)\n",
            "[153   0 150   1   0] __________________ tensor([[-17.9576,  23.8167]], grad_fn=<AddmmBackward0>)_________________1\n",
            "(154, Ch1, 150, 1, 0)\n",
            "[154   1 150   1   0] __________________ tensor([[-16.1240,  21.9311]], grad_fn=<AddmmBackward0>)_________________1\n",
            "(154, Ch2, 150, 1, 0)\n",
            "[154   0 150   1   0] __________________ tensor([[-17.9210,  23.8558]], grad_fn=<AddmmBackward0>)_________________1\n",
            "(155, Ch1, 150, 1, 0)\n",
            "[155   1 150   1   0] __________________ tensor([[-16.0929,  21.9752]], grad_fn=<AddmmBackward0>)_________________1\n",
            "(155, Ch2, 150, 1, 0)\n",
            "[155   0 150   1   0] __________________ tensor([[-17.8843,  23.8949]], grad_fn=<AddmmBackward0>)_________________1\n",
            "(156, Ch1, 150, 1, 0)\n",
            "[156   1 150   1   0] __________________ tensor([[-16.0585,  22.0164]], grad_fn=<AddmmBackward0>)_________________1\n",
            "(156, Ch2, 150, 1, 0)\n",
            "[156   0 150   1   0] __________________ tensor([[-17.8477,  23.9339]], grad_fn=<AddmmBackward0>)_________________1\n",
            "(157, Ch1, 150, 1, 0)\n",
            "[157   1 150   1   0] __________________ tensor([[-16.0214,  22.0551]], grad_fn=<AddmmBackward0>)_________________1\n",
            "(157, Ch2, 150, 1, 0)\n",
            "[157   0 150   1   0] __________________ tensor([[-17.8111,  23.9730]], grad_fn=<AddmmBackward0>)_________________1\n",
            "(158, Ch1, 150, 1, 0)\n",
            "[158   1 150   1   0] __________________ tensor([[-15.9843,  22.0938]], grad_fn=<AddmmBackward0>)_________________1\n",
            "(158, Ch2, 150, 1, 0)\n",
            "[158   0 150   1   0] __________________ tensor([[-17.7744,  24.0120]], grad_fn=<AddmmBackward0>)_________________1\n",
            "(159, Ch1, 150, 1, 0)\n",
            "[159   1 150   1   0] __________________ tensor([[-15.9472,  22.1326]], grad_fn=<AddmmBackward0>)_________________1\n",
            "(159, Ch2, 150, 1, 0)\n",
            "[159   0 150   1   0] __________________ tensor([[-17.7378,  24.0511]], grad_fn=<AddmmBackward0>)_________________1\n",
            "(160, Ch1, 150, 1, 0)\n",
            "[160   1 150   1   0] __________________ tensor([[-15.9102,  22.1713]], grad_fn=<AddmmBackward0>)_________________1\n",
            "(160, Ch2, 150, 1, 0)\n",
            "[160   0 150   1   0] __________________ tensor([[-17.7012,  24.0902]], grad_fn=<AddmmBackward0>)_________________1\n",
            "(210, Ch1, 150, 1, 0)\n",
            "[210   1 150   1   0] __________________ tensor([[-14.0527,  24.1124]], grad_fn=<AddmmBackward0>)_________________1\n",
            "(210, Ch2, 150, 1, 0)\n",
            "[210   0 150   1   0] __________________ tensor([[-15.8570,  26.0369]], grad_fn=<AddmmBackward0>)_________________1\n",
            "(211, Ch1, 150, 1, 0)\n",
            "[211   1 150   1   0] __________________ tensor([[-14.0174,  24.1528]], grad_fn=<AddmmBackward0>)_________________1\n",
            "(211, Ch2, 150, 1, 0)\n",
            "[211   0 150   1   0] __________________ tensor([[-15.8197,  26.0756]], grad_fn=<AddmmBackward0>)_________________1\n",
            "(212, Ch1, 150, 1, 0)\n",
            "[212   1 150   1   0] __________________ tensor([[-13.9820,  24.1931]], grad_fn=<AddmmBackward0>)_________________1\n",
            "(212, Ch2, 150, 1, 0)\n",
            "[212   0 150   1   0] __________________ tensor([[-15.7825,  26.1144]], grad_fn=<AddmmBackward0>)_________________1\n",
            "(213, Ch1, 150, 1, 0)\n",
            "[213   1 150   1   0] __________________ tensor([[-13.9467,  24.2334]], grad_fn=<AddmmBackward0>)_________________1\n",
            "(213, Ch2, 150, 1, 0)\n",
            "[213   0 150   1   0] __________________ tensor([[-15.7452,  26.1531]], grad_fn=<AddmmBackward0>)_________________1\n",
            "(214, Ch1, 150, 1, 0)\n",
            "[214   1 150   1   0] __________________ tensor([[-13.9114,  24.2738]], grad_fn=<AddmmBackward0>)_________________1\n",
            "(214, Ch2, 150, 1, 0)\n",
            "[214   0 150   1   0] __________________ tensor([[-15.7079,  26.1918]], grad_fn=<AddmmBackward0>)_________________1\n",
            "(215, Ch1, 150, 1, 0)\n",
            "[215   1 150   1   0] __________________ tensor([[-13.8761,  24.3141]], grad_fn=<AddmmBackward0>)_________________1\n",
            "(215, Ch2, 150, 1, 0)\n",
            "[215   0 150   1   0] __________________ tensor([[-15.6706,  26.2305]], grad_fn=<AddmmBackward0>)_________________1\n",
            "(216, Ch1, 150, 1, 0)\n",
            "[216   1 150   1   0] __________________ tensor([[-13.8407,  24.3545]], grad_fn=<AddmmBackward0>)_________________1\n",
            "(216, Ch2, 150, 1, 0)\n",
            "[216   0 150   1   0] __________________ tensor([[-15.6333,  26.2693]], grad_fn=<AddmmBackward0>)_________________1\n",
            "(217, Ch1, 150, 1, 0)\n",
            "[217   1 150   1   0] __________________ tensor([[-13.8054,  24.3948]], grad_fn=<AddmmBackward0>)_________________1\n",
            "(217, Ch2, 150, 1, 0)\n",
            "[217   0 150   1   0] __________________ tensor([[-15.5960,  26.3080]], grad_fn=<AddmmBackward0>)_________________1\n",
            "(218, Ch1, 150, 1, 0)\n",
            "[218   1 150   1   0] __________________ tensor([[-13.7701,  24.4352]], grad_fn=<AddmmBackward0>)_________________1\n",
            "(218, Ch2, 150, 1, 0)\n",
            "[218   0 150   1   0] __________________ tensor([[-15.5587,  26.3467]], grad_fn=<AddmmBackward0>)_________________1\n",
            "(219, Ch1, 150, 1, 0)\n",
            "[219   1 150   1   0] __________________ tensor([[-13.7352,  24.4762]], grad_fn=<AddmmBackward0>)_________________1\n",
            "(219, Ch2, 150, 1, 0)\n",
            "[219   0 150   1   0] __________________ tensor([[-15.5215,  26.3855]], grad_fn=<AddmmBackward0>)_________________1\n",
            "(220, Ch1, 150, 1, 0)\n",
            "[220   1 150   1   0] __________________ tensor([[-13.7023,  24.5201]], grad_fn=<AddmmBackward0>)_________________1\n",
            "(220, Ch2, 150, 1, 0)\n",
            "[220   0 150   1   0] __________________ tensor([[-15.4842,  26.4242]], grad_fn=<AddmmBackward0>)_________________1\n",
            "(221, Ch1, 150, 1, 0)\n",
            "[221   1 150   1   0] __________________ tensor([[-13.6693,  24.5640]], grad_fn=<AddmmBackward0>)_________________1\n",
            "(221, Ch2, 150, 1, 0)\n",
            "[221   0 150   1   0] __________________ tensor([[-15.4469,  26.4629]], grad_fn=<AddmmBackward0>)_________________1\n",
            "(222, Ch1, 150, 1, 0)\n",
            "[222   1 150   1   0] __________________ tensor([[-13.6363,  24.6078]], grad_fn=<AddmmBackward0>)_________________1\n",
            "(222, Ch2, 150, 1, 0)\n",
            "[222   0 150   1   0] __________________ tensor([[-15.4096,  26.5016]], grad_fn=<AddmmBackward0>)_________________1\n",
            "(223, Ch1, 150, 1, 0)\n",
            "[223   1 150   1   0] __________________ tensor([[-13.6034,  24.6517]], grad_fn=<AddmmBackward0>)_________________1\n",
            "(223, Ch2, 150, 1, 0)\n",
            "[223   0 150   1   0] __________________ tensor([[-15.3723,  26.5404]], grad_fn=<AddmmBackward0>)_________________1\n",
            "(224, Ch1, 150, 1, 0)\n",
            "[224   1 150   1   0] __________________ tensor([[-13.5704,  24.6955]], grad_fn=<AddmmBackward0>)_________________1\n",
            "(224, Ch2, 150, 1, 0)\n",
            "[224   0 150   1   0] __________________ tensor([[-15.3350,  26.5791]], grad_fn=<AddmmBackward0>)_________________1\n",
            "(225, Ch1, 150, 1, 0)\n",
            "[225   1 150   1   0] __________________ tensor([[-13.5374,  24.7394]], grad_fn=<AddmmBackward0>)_________________1\n",
            "(225, Ch2, 150, 1, 0)\n",
            "[225   0 150   1   0] __________________ tensor([[-15.2977,  26.6178]], grad_fn=<AddmmBackward0>)_________________1\n",
            "(275, Ch1, 150, 1, 0)\n",
            "[275   1 150   1   0] __________________ tensor([[-11.9907,  27.0330]], grad_fn=<AddmmBackward0>)_________________1\n",
            "(275, Ch2, 150, 1, 0)\n",
            "[275   0 150   1   0] __________________ tensor([[-13.4777,  28.5931]], grad_fn=<AddmmBackward0>)_________________1\n",
            "(276, Ch1, 150, 1, 0)\n",
            "[276   1 150   1   0] __________________ tensor([[-11.9684,  27.0869]], grad_fn=<AddmmBackward0>)_________________1\n",
            "(276, Ch2, 150, 1, 0)\n",
            "[276   0 150   1   0] __________________ tensor([[-13.4420,  28.6333]], grad_fn=<AddmmBackward0>)_________________1\n",
            "(277, Ch1, 150, 1, 0)\n",
            "[277   1 150   1   0] __________________ tensor([[-11.9461,  27.1408]], grad_fn=<AddmmBackward0>)_________________1\n",
            "(277, Ch2, 150, 1, 0)\n",
            "[277   0 150   1   0] __________________ tensor([[-13.4063,  28.6736]], grad_fn=<AddmmBackward0>)_________________1\n",
            "(278, Ch1, 150, 1, 0)\n",
            "[278   1 150   1   0] __________________ tensor([[-11.9253,  27.1954]], grad_fn=<AddmmBackward0>)_________________1\n",
            "(278, Ch2, 150, 1, 0)\n",
            "[278   0 150   1   0] __________________ tensor([[-13.3707,  28.7138]], grad_fn=<AddmmBackward0>)_________________1\n",
            "(279, Ch1, 150, 1, 0)\n",
            "[279   1 150   1   0] __________________ tensor([[-11.9105,  27.2529]], grad_fn=<AddmmBackward0>)_________________1\n",
            "(279, Ch2, 150, 1, 0)\n",
            "[279   0 150   1   0] __________________ tensor([[-13.3350,  28.7541]], grad_fn=<AddmmBackward0>)_________________1\n",
            "(280, Ch1, 150, 1, 0)\n",
            "[280   1 150   1   0] __________________ tensor([[-11.9164,  27.3291]], grad_fn=<AddmmBackward0>)_________________1\n",
            "(280, Ch2, 150, 1, 0)\n",
            "[280   0 150   1   0] __________________ tensor([[-13.2994,  28.7943]], grad_fn=<AddmmBackward0>)_________________1\n",
            "(281, Ch1, 150, 1, 0)\n",
            "[281   1 150   1   0] __________________ tensor([[-11.9222,  27.4053]], grad_fn=<AddmmBackward0>)_________________1\n",
            "(281, Ch2, 150, 1, 0)\n",
            "[281   0 150   1   0] __________________ tensor([[-13.2637,  28.8346]], grad_fn=<AddmmBackward0>)_________________1\n",
            "(282, Ch1, 150, 1, 0)\n",
            "[282   1 150   1   0] __________________ tensor([[-11.9382,  27.4874]], grad_fn=<AddmmBackward0>)_________________1\n",
            "(282, Ch2, 150, 1, 0)\n",
            "[282   0 150   1   0] __________________ tensor([[-13.2281,  28.8748]], grad_fn=<AddmmBackward0>)_________________1\n",
            "(283, Ch1, 150, 1, 0)\n",
            "[283   1 150   1   0] __________________ tensor([[-11.9574,  27.5714]], grad_fn=<AddmmBackward0>)_________________1\n",
            "(283, Ch2, 150, 1, 0)\n",
            "[283   0 150   1   0] __________________ tensor([[-13.1924,  28.9151]], grad_fn=<AddmmBackward0>)_________________1\n",
            "(284, Ch1, 150, 1, 0)\n",
            "[284   1 150   1   0] __________________ tensor([[-11.9773,  27.6556]], grad_fn=<AddmmBackward0>)_________________1\n",
            "(284, Ch2, 150, 1, 0)\n",
            "[284   0 150   1   0] __________________ tensor([[-13.1568,  28.9553]], grad_fn=<AddmmBackward0>)_________________1\n",
            "(285, Ch1, 150, 1, 0)\n",
            "[285   1 150   1   0] __________________ tensor([[-12.0064,  27.7471]], grad_fn=<AddmmBackward0>)_________________1\n",
            "(285, Ch2, 150, 1, 0)\n",
            "[285   0 150   1   0] __________________ tensor([[-13.1211,  28.9956]], grad_fn=<AddmmBackward0>)_________________1\n",
            "(286, Ch1, 150, 1, 0)\n",
            "[286   1 150   1   0] __________________ tensor([[-12.0501,  27.8501]], grad_fn=<AddmmBackward0>)_________________1\n",
            "(286, Ch2, 150, 1, 0)\n",
            "[286   0 150   1   0] __________________ tensor([[-13.0858,  29.0360]], grad_fn=<AddmmBackward0>)_________________1\n",
            "(287, Ch1, 150, 1, 0)\n",
            "[287   1 150   1   0] __________________ tensor([[-12.0937,  27.9532]], grad_fn=<AddmmBackward0>)_________________1\n",
            "(287, Ch2, 150, 1, 0)\n",
            "[287   0 150   1   0] __________________ tensor([[-13.0512,  29.0766]], grad_fn=<AddmmBackward0>)_________________1\n",
            "(288, Ch1, 150, 1, 0)\n",
            "[288   1 150   1   0] __________________ tensor([[-12.1399,  28.0620]], grad_fn=<AddmmBackward0>)_________________1\n",
            "(288, Ch2, 150, 1, 0)\n",
            "[288   0 150   1   0] __________________ tensor([[-13.0166,  29.1173]], grad_fn=<AddmmBackward0>)_________________1\n",
            "(289, Ch1, 150, 1, 0)\n",
            "[289   1 150   1   0] __________________ tensor([[-12.1880,  28.1749]], grad_fn=<AddmmBackward0>)_________________1\n",
            "(289, Ch2, 150, 1, 0)\n",
            "[289   0 150   1   0] __________________ tensor([[-12.9843,  29.1598]], grad_fn=<AddmmBackward0>)_________________1\n",
            "(290, Ch1, 150, 1, 0)\n",
            "[290   1 150   1   0] __________________ tensor([[-12.2409,  28.2931]], grad_fn=<AddmmBackward0>)_________________1\n",
            "(290, Ch2, 150, 1, 0)\n",
            "[290   0 150   1   0] __________________ tensor([[-13.0589,  29.2979]], grad_fn=<AddmmBackward0>)_________________1\n",
            "(340, Ch1, 150, 1, 0)\n",
            "[340   1 150   1   0] __________________ tensor([[-30.2754,  49.4965]], grad_fn=<AddmmBackward0>)_________________1\n",
            "(340, Ch2, 150, 1, 0)\n",
            "[340   0 150   1   0] __________________ tensor([[-32.8272,  52.2861]], grad_fn=<AddmmBackward0>)_________________1\n",
            "(341, Ch1, 150, 1, 0)\n",
            "[341   1 150   1   0] __________________ tensor([[-30.5463,  49.8159]], grad_fn=<AddmmBackward0>)_________________1\n",
            "(341, Ch2, 150, 1, 0)\n",
            "[341   0 150   1   0] __________________ tensor([[-32.9687,  52.5117]], grad_fn=<AddmmBackward0>)_________________1\n",
            "(342, Ch1, 150, 1, 0)\n",
            "[342   1 150   1   0] __________________ tensor([[-30.7584,  50.0787]], grad_fn=<AddmmBackward0>)_________________1\n",
            "(342, Ch2, 150, 1, 0)\n",
            "[342   0 150   1   0] __________________ tensor([[-32.9874,  52.6030]], grad_fn=<AddmmBackward0>)_________________1\n",
            "(343, Ch1, 150, 1, 0)\n",
            "[343   1 150   1   0] __________________ tensor([[-30.9261,  50.3034]], grad_fn=<AddmmBackward0>)_________________1\n",
            "(343, Ch2, 150, 1, 0)\n",
            "[343   0 150   1   0] __________________ tensor([[-33.0022,  52.6888]], grad_fn=<AddmmBackward0>)_________________1\n",
            "(344, Ch1, 150, 1, 0)\n",
            "[344   1 150   1   0] __________________ tensor([[-31.0308,  50.4741]], grad_fn=<AddmmBackward0>)_________________1\n",
            "(344, Ch2, 150, 1, 0)\n",
            "[344   0 150   1   0] __________________ tensor([[-33.0169,  52.7746]], grad_fn=<AddmmBackward0>)_________________1\n",
            "(345, Ch1, 150, 1, 0)\n",
            "[345   1 150   1   0] __________________ tensor([[-31.0723,  50.5865]], grad_fn=<AddmmBackward0>)_________________1\n",
            "(345, Ch2, 150, 1, 0)\n",
            "[345   0 150   1   0] __________________ tensor([[-33.0317,  52.8604]], grad_fn=<AddmmBackward0>)_________________1\n",
            "(346, Ch1, 150, 1, 0)\n",
            "[346   1 150   1   0] __________________ tensor([[-31.0872,  50.6721]], grad_fn=<AddmmBackward0>)_________________1\n",
            "(346, Ch2, 150, 1, 0)\n",
            "[346   0 150   1   0] __________________ tensor([[-33.0464,  52.9462]], grad_fn=<AddmmBackward0>)_________________1\n",
            "(347, Ch1, 150, 1, 0)\n",
            "[347   1 150   1   0] __________________ tensor([[-31.1020,  50.7577]], grad_fn=<AddmmBackward0>)_________________1\n",
            "(347, Ch2, 150, 1, 0)\n",
            "[347   0 150   1   0] __________________ tensor([[-33.0612,  53.0320]], grad_fn=<AddmmBackward0>)_________________1\n",
            "(348, Ch1, 150, 1, 0)\n",
            "[348   1 150   1   0] __________________ tensor([[-31.1169,  50.8433]], grad_fn=<AddmmBackward0>)_________________1\n",
            "(348, Ch2, 150, 1, 0)\n",
            "[348   0 150   1   0] __________________ tensor([[-33.0759,  53.1178]], grad_fn=<AddmmBackward0>)_________________1\n",
            "(349, Ch1, 150, 1, 0)\n",
            "[349   1 150   1   0] __________________ tensor([[-31.1318,  50.9289]], grad_fn=<AddmmBackward0>)_________________1\n",
            "(349, Ch2, 150, 1, 0)\n",
            "[349   0 150   1   0] __________________ tensor([[-33.0907,  53.2036]], grad_fn=<AddmmBackward0>)_________________1\n",
            "(350, Ch1, 150, 1, 0)\n",
            "[350   1 150   1   0] __________________ tensor([[-31.1466,  51.0145]], grad_fn=<AddmmBackward0>)_________________1\n",
            "(350, Ch2, 150, 1, 0)\n",
            "[350   0 150   1   0] __________________ tensor([[-33.1054,  53.2894]], grad_fn=<AddmmBackward0>)_________________1\n",
            "(351, Ch1, 150, 1, 0)\n",
            "[351   1 150   1   0] __________________ tensor([[-31.1615,  51.1001]], grad_fn=<AddmmBackward0>)_________________1\n",
            "(351, Ch2, 150, 1, 0)\n",
            "[351   0 150   1   0] __________________ tensor([[-33.1202,  53.3752]], grad_fn=<AddmmBackward0>)_________________1\n",
            "(352, Ch1, 150, 1, 0)\n",
            "[352   1 150   1   0] __________________ tensor([[-31.1763,  51.1857]], grad_fn=<AddmmBackward0>)_________________1\n",
            "(352, Ch2, 150, 1, 0)\n",
            "[352   0 150   1   0] __________________ tensor([[-33.1349,  53.4610]], grad_fn=<AddmmBackward0>)_________________1\n",
            "(353, Ch1, 150, 1, 0)\n",
            "[353   1 150   1   0] __________________ tensor([[-31.1912,  51.2713]], grad_fn=<AddmmBackward0>)_________________1\n",
            "(353, Ch2, 150, 1, 0)\n",
            "[353   0 150   1   0] __________________ tensor([[-33.1497,  53.5468]], grad_fn=<AddmmBackward0>)_________________1\n",
            "(354, Ch1, 150, 1, 0)\n",
            "[354   1 150   1   0] __________________ tensor([[-31.2061,  51.3569]], grad_fn=<AddmmBackward0>)_________________1\n",
            "(354, Ch2, 150, 1, 0)\n",
            "[354   0 150   1   0] __________________ tensor([[-33.1644,  53.6326]], grad_fn=<AddmmBackward0>)_________________1\n",
            "(355, Ch1, 150, 1, 0)\n",
            "[355   1 150   1   0] __________________ tensor([[-31.2209,  51.4425]], grad_fn=<AddmmBackward0>)_________________1\n",
            "(355, Ch2, 150, 1, 0)\n",
            "[355   0 150   1   0] __________________ tensor([[-33.1792,  53.7184]], grad_fn=<AddmmBackward0>)_________________1\n",
            "{'(80, Ch1, 150, 1, 0)': 'send', '(80, Ch2, 150, 1, 0)': 'send', '(81, Ch1, 150, 1, 0)': 'send', '(81, Ch2, 150, 1, 0)': 'send', '(82, Ch1, 150, 1, 0)': 'send', '(82, Ch2, 150, 1, 0)': 'send', '(83, Ch1, 150, 1, 0)': 'send', '(83, Ch2, 150, 1, 0)': 'send', '(84, Ch1, 150, 1, 0)': 'send', '(84, Ch2, 150, 1, 0)': 'send', '(85, Ch1, 150, 1, 0)': 'send', '(85, Ch2, 150, 1, 0)': 'send', '(86, Ch1, 150, 1, 0)': 'send', '(86, Ch2, 150, 1, 0)': 'send', '(87, Ch1, 150, 1, 0)': 'send', '(87, Ch2, 150, 1, 0)': 'send', '(88, Ch1, 150, 1, 0)': 'send', '(88, Ch2, 150, 1, 0)': 'send', '(89, Ch1, 150, 1, 0)': 'send', '(89, Ch2, 150, 1, 0)': 'send', '(90, Ch1, 150, 1, 0)': 'send', '(90, Ch2, 150, 1, 0)': 'send', '(91, Ch1, 150, 1, 0)': 'send', '(91, Ch2, 150, 1, 0)': 'send', '(92, Ch1, 150, 1, 0)': 'send', '(92, Ch2, 150, 1, 0)': 'send', '(93, Ch1, 150, 1, 0)': 'send', '(93, Ch2, 150, 1, 0)': 'send', '(94, Ch1, 150, 1, 0)': 'send', '(94, Ch2, 150, 1, 0)': 'send', '(95, Ch1, 150, 1, 0)': 'send', '(95, Ch2, 150, 1, 0)': 'send', '(145, Ch1, 150, 1, 0)': 'send', '(145, Ch2, 150, 1, 0)': 'send', '(146, Ch1, 150, 1, 0)': 'send', '(146, Ch2, 150, 1, 0)': 'send', '(147, Ch1, 150, 1, 0)': 'send', '(147, Ch2, 150, 1, 0)': 'send', '(148, Ch1, 150, 1, 0)': 'send', '(148, Ch2, 150, 1, 0)': 'send', '(149, Ch1, 150, 1, 0)': 'send', '(149, Ch2, 150, 1, 0)': 'send', '(150, Ch1, 150, 1, 0)': 'send', '(150, Ch2, 150, 1, 0)': 'send', '(151, Ch1, 150, 1, 0)': 'send', '(151, Ch2, 150, 1, 0)': 'send', '(152, Ch1, 150, 1, 0)': 'send', '(152, Ch2, 150, 1, 0)': 'send', '(153, Ch1, 150, 1, 0)': 'send', '(153, Ch2, 150, 1, 0)': 'send', '(154, Ch1, 150, 1, 0)': 'send', '(154, Ch2, 150, 1, 0)': 'send', '(155, Ch1, 150, 1, 0)': 'send', '(155, Ch2, 150, 1, 0)': 'send', '(156, Ch1, 150, 1, 0)': 'send', '(156, Ch2, 150, 1, 0)': 'send', '(157, Ch1, 150, 1, 0)': 'send', '(157, Ch2, 150, 1, 0)': 'send', '(158, Ch1, 150, 1, 0)': 'send', '(158, Ch2, 150, 1, 0)': 'send', '(159, Ch1, 150, 1, 0)': 'send', '(159, Ch2, 150, 1, 0)': 'send', '(160, Ch1, 150, 1, 0)': 'send', '(160, Ch2, 150, 1, 0)': 'send', '(210, Ch1, 150, 1, 0)': 'send', '(210, Ch2, 150, 1, 0)': 'send', '(211, Ch1, 150, 1, 0)': 'send', '(211, Ch2, 150, 1, 0)': 'send', '(212, Ch1, 150, 1, 0)': 'send', '(212, Ch2, 150, 1, 0)': 'send', '(213, Ch1, 150, 1, 0)': 'send', '(213, Ch2, 150, 1, 0)': 'send', '(214, Ch1, 150, 1, 0)': 'send', '(214, Ch2, 150, 1, 0)': 'send', '(215, Ch1, 150, 1, 0)': 'send', '(215, Ch2, 150, 1, 0)': 'send', '(216, Ch1, 150, 1, 0)': 'send', '(216, Ch2, 150, 1, 0)': 'send', '(217, Ch1, 150, 1, 0)': 'send', '(217, Ch2, 150, 1, 0)': 'send', '(218, Ch1, 150, 1, 0)': 'send', '(218, Ch2, 150, 1, 0)': 'send', '(219, Ch1, 150, 1, 0)': 'send', '(219, Ch2, 150, 1, 0)': 'send', '(220, Ch1, 150, 1, 0)': 'send', '(220, Ch2, 150, 1, 0)': 'send', '(221, Ch1, 150, 1, 0)': 'send', '(221, Ch2, 150, 1, 0)': 'send', '(222, Ch1, 150, 1, 0)': 'send', '(222, Ch2, 150, 1, 0)': 'send', '(223, Ch1, 150, 1, 0)': 'send', '(223, Ch2, 150, 1, 0)': 'send', '(224, Ch1, 150, 1, 0)': 'send', '(224, Ch2, 150, 1, 0)': 'send', '(225, Ch1, 150, 1, 0)': 'send', '(225, Ch2, 150, 1, 0)': 'send', '(275, Ch1, 150, 1, 0)': 'send', '(275, Ch2, 150, 1, 0)': 'send', '(276, Ch1, 150, 1, 0)': 'send', '(276, Ch2, 150, 1, 0)': 'send', '(277, Ch1, 150, 1, 0)': 'send', '(277, Ch2, 150, 1, 0)': 'send', '(278, Ch1, 150, 1, 0)': 'send', '(278, Ch2, 150, 1, 0)': 'send', '(279, Ch1, 150, 1, 0)': 'send', '(279, Ch2, 150, 1, 0)': 'send', '(280, Ch1, 150, 1, 0)': 'send', '(280, Ch2, 150, 1, 0)': 'send', '(281, Ch1, 150, 1, 0)': 'send', '(281, Ch2, 150, 1, 0)': 'send', '(282, Ch1, 150, 1, 0)': 'send', '(282, Ch2, 150, 1, 0)': 'send', '(283, Ch1, 150, 1, 0)': 'send', '(283, Ch2, 150, 1, 0)': 'send', '(284, Ch1, 150, 1, 0)': 'send', '(284, Ch2, 150, 1, 0)': 'send', '(285, Ch1, 150, 1, 0)': 'send', '(285, Ch2, 150, 1, 0)': 'send', '(286, Ch1, 150, 1, 0)': 'send', '(286, Ch2, 150, 1, 0)': 'send', '(287, Ch1, 150, 1, 0)': 'send', '(287, Ch2, 150, 1, 0)': 'send', '(288, Ch1, 150, 1, 0)': 'send', '(288, Ch2, 150, 1, 0)': 'send', '(289, Ch1, 150, 1, 0)': 'send', '(289, Ch2, 150, 1, 0)': 'send', '(290, Ch1, 150, 1, 0)': 'send', '(290, Ch2, 150, 1, 0)': 'send', '(340, Ch1, 150, 1, 0)': 'send', '(340, Ch2, 150, 1, 0)': 'send', '(341, Ch1, 150, 1, 0)': 'send', '(341, Ch2, 150, 1, 0)': 'send', '(342, Ch1, 150, 1, 0)': 'send', '(342, Ch2, 150, 1, 0)': 'send', '(343, Ch1, 150, 1, 0)': 'send', '(343, Ch2, 150, 1, 0)': 'send', '(344, Ch1, 150, 1, 0)': 'send', '(344, Ch2, 150, 1, 0)': 'send', '(345, Ch1, 150, 1, 0)': 'send', '(345, Ch2, 150, 1, 0)': 'send', '(346, Ch1, 150, 1, 0)': 'send', '(346, Ch2, 150, 1, 0)': 'send', '(347, Ch1, 150, 1, 0)': 'send', '(347, Ch2, 150, 1, 0)': 'send', '(348, Ch1, 150, 1, 0)': 'send', '(348, Ch2, 150, 1, 0)': 'send', '(349, Ch1, 150, 1, 0)': 'send', '(349, Ch2, 150, 1, 0)': 'send', '(350, Ch1, 150, 1, 0)': 'send', '(350, Ch2, 150, 1, 0)': 'send', '(351, Ch1, 150, 1, 0)': 'send', '(351, Ch2, 150, 1, 0)': 'send', '(352, Ch1, 150, 1, 0)': 'send', '(352, Ch2, 150, 1, 0)': 'send', '(353, Ch1, 150, 1, 0)': 'send', '(353, Ch2, 150, 1, 0)': 'send', '(354, Ch1, 150, 1, 0)': 'send', '(354, Ch2, 150, 1, 0)': 'send', '(355, Ch1, 150, 1, 0)': 'send', '(355, Ch2, 150, 1, 0)': 'send'}\n"
          ]
        }
      ]
    },
    {
      "cell_type": "code",
      "source": [
        "\n",
        "\n",
        "\n",
        "import numpy as np\n",
        "from Rudder import LessonBuffer\n",
        "from Environment import Environment\n",
        "from Rudder import RRLSTM as LSTM\n",
        "import torch\n",
        "import time as Time\n",
        "import random\n",
        "from PolicyUpdater import PolicyUpdater\n",
        "\n",
        "lb_size = 2048\n",
        "n_lstm = 16\n",
        "max_time = 50\n",
        "policy_lr = 0.5\n",
        "lstm_lr = 1e-2\n",
        "l2_regularization = 1e-6\n",
        "avg_window = 750\n",
        "\n",
        "Lesson_buffer = LessonBuffer(1000, 25, 5)\n",
        "episode = 0\n",
        "rudder_lstm = LSTM(state_input_size=5, n_actions= 2, buffer=Lesson_buffer, n_units=n_lstm,\n",
        "                        lstm_lr=lstm_lr, l2_regularization=l2_regularization, return_scaling=10,\n",
        "                        lstm_batch_size=8, continuous_pred_factor=0.5)\n",
        "# rudder_lstm.load_state_dict(torch.load('rudder_lstm.pt'))\n",
        "environment = Environment(100,25)\n",
        "environment.CreateStates()\n",
        "policy_updator  = PolicyUpdater(environment= environment, lr = policy_lr)\n",
        "episode = 0\n",
        "for i in range(2050):\n",
        "    episode += 1\n",
        "    environment.reset_paramter()\n",
        "    state = environment.reset_state()\n",
        "    rewards = []\n",
        "    states = [state]\n",
        "    environment.generate_channel_state_list_for_whole_sequence(state[1])\n",
        "    actions = []\n",
        "    done = False\n",
        "    name = f'({state[0]}, {state[1]}, {state[2]}, {state[3]}, {state[4]})'\n",
        "\n",
        "    while not done:\n",
        "        action = 0 if policy_updator.Quality[name,0] > policy_updator.Quality[name,1] else 1\n",
        "        if environment.state.Ra == 0 and environment.state.U == 0:\n",
        "            action = 0\n",
        "        if environment.state.Ra == 0 and environment.state.U == 24:\n",
        "            action = 1\n",
        "        if environment.state.U > 0:\n",
        "            action = 0\n",
        "        state, reward, done = environment.step(action)\n",
        "        actions.append(action)\n",
        "        states.append(state)\n",
        "        rewards.append(reward) \n",
        "        if done: \n",
        "\n",
        "            res = np.nonzero(rewards)[0]\n",
        "            if len(res) > 0 :\n",
        "              rewards[-1] = rewards[res[0]]\n",
        "              rewards[res[0]] = 0   \n",
        "            for i in states: \n",
        "                if i[1] == \"Ch1\":\n",
        "                    i[1] = 1\n",
        "                else:\n",
        "                    i[1] = 0\n",
        "            states = np.stack(states)\n",
        "            states = states.astype(int)\n",
        "            rewards = np.array(rewards, dtype = np.float32)\n",
        "            actions = np.array(actions)\n",
        "            Lesson_buffer.add(states = states, actions = actions, rewards = rewards)\n",
        "            if  episode < 5000 and Lesson_buffer.full_enough() and Lesson_buffer.different_returns_encountered()  :\n",
        "                    if episode % 25 == 0:\n",
        "\n",
        "                        print(episode)\n",
        "                        rudder_lstm.train(episode=episode)\n",
        "                    if episode >= 1800: \n",
        "                        torch.save(rudder_lstm.state_dict(), 'rudder_lstm_120.pt')\n",
        "\n",
        "            rewards = rudder_lstm.redistribute_reward(states=np.expand_dims(states, 0),actions=np.expand_dims(actions, 0))[0, :]\n",
        "            policy_updator.Q_learning(actions= actions , states = states, rewards= rewards)\n",
        "\n",
        "for keys, value in policy_updator.Quality.items():\n",
        "         initial_StateName = []\n",
        "         for i in environment.initial_State:\n",
        "            initial_StateName.append(i.Name) \n",
        "         if keys[0] in initial_StateName: \n",
        "            print('{:15} {:15} {:15}'.format( keys[0] ,  keys[1], value))\n",
        "\n",
        "print(\"******************************************************************\")\n",
        "Optimal_Policy_Dict = {}\n",
        "for keys, value in policy_updator.Quality.items():\n",
        "         initial_StateName = []\n",
        "         for i in environment.initial_State:\n",
        "            initial_StateName.append(i.Name) \n",
        "         if keys[0] in initial_StateName: \n",
        "            if policy_updator.Quality[keys[0],0] > policy_updator.Quality[keys[0],1]:  \n",
        "              Optimal_Policy_Dict[keys[0]] = \"wait\"\n",
        "              print('{:15} {:15} {:15}'.format( keys[0] , \"Wait\" , policy_updator.Quality[keys[0] ,0]))\n",
        "            else:\n",
        "              Optimal_Policy_Dict[keys[0]] = \"send\"\n",
        "              print('{:15} {:15} {:15}'.format( keys[0] , \"Send Back\" , policy_updator.Quality[keys[0] ,1]))\n",
        "print(Optimal_Policy_Dict)"
      ],
      "metadata": {
        "id": "dyXz-aBqze-C"
      },
      "execution_count": null,
      "outputs": []
    },
    {
      "cell_type": "code",
      "source": [
        "!pip install PyQt5\n"
      ],
      "metadata": {
        "colab": {
          "base_uri": "https://localhost:8080/"
        },
        "id": "4sLI2LocA0LL",
        "outputId": "3404f751-5990-4eec-cc5c-ded99dc779f8"
      },
      "execution_count": null,
      "outputs": [
        {
          "output_type": "stream",
          "name": "stdout",
          "text": [
            "Looking in indexes: https://pypi.org/simple, https://us-python.pkg.dev/colab-wheels/public/simple/\n",
            "Collecting PyQt5\n",
            "  Downloading PyQt5-5.15.9-cp37-abi3-manylinux_2_17_x86_64.whl (8.4 MB)\n",
            "\u001b[2K     \u001b[90m━━━━━━━━━━━━━━━━━━━━━━━━━━━━━━━━━━━━━━━━\u001b[0m \u001b[32m8.4/8.4 MB\u001b[0m \u001b[31m31.0 MB/s\u001b[0m eta \u001b[36m0:00:00\u001b[0m\n",
            "\u001b[?25hCollecting PyQt5-sip<13,>=12.11\n",
            "  Downloading PyQt5_sip-12.11.1-cp38-cp38-manylinux_2_5_x86_64.manylinux1_x86_64.whl (361 kB)\n",
            "\u001b[2K     \u001b[90m━━━━━━━━━━━━━━━━━━━━━━━━━━━━━━━━━━━━━━\u001b[0m \u001b[32m361.8/361.8 KB\u001b[0m \u001b[31m31.1 MB/s\u001b[0m eta \u001b[36m0:00:00\u001b[0m\n",
            "\u001b[?25hCollecting PyQt5-Qt5>=5.15.2\n",
            "  Downloading PyQt5_Qt5-5.15.2-py3-none-manylinux2014_x86_64.whl (59.9 MB)\n",
            "\u001b[2K     \u001b[90m━━━━━━━━━━━━━━━━━━━━━━━━━━━━━━━━━━━━━━━━\u001b[0m \u001b[32m59.9/59.9 MB\u001b[0m \u001b[31m10.7 MB/s\u001b[0m eta \u001b[36m0:00:00\u001b[0m\n",
            "\u001b[?25hInstalling collected packages: PyQt5-Qt5, PyQt5-sip, PyQt5\n",
            "Successfully installed PyQt5-5.15.9 PyQt5-Qt5-5.15.2 PyQt5-sip-12.11.1\n"
          ]
        }
      ]
    },
    {
      "cell_type": "code",
      "source": [
        "import json\n",
        " \n",
        "# Opening JSON file\n",
        "with open('Optimal_Policy_Qlearning_0.1_120_150.json') as json_file:\n",
        "    Optimal_Policy_Dict = json.load(json_file)"
      ],
      "metadata": {
        "id": "Myd9LPyN8HCk"
      },
      "execution_count": 4,
      "outputs": []
    },
    {
      "cell_type": "code",
      "source": [
        "import json\n",
        "with open(\"Optimal_Policy_Qlearning_0.1_120.json\", \"w\") as write_file:\n",
        "    json.dump(Optimal_Policy_Dict, write_file, indent=4)"
      ],
      "metadata": {
        "id": "AF3Ut2AjZ9i-"
      },
      "execution_count": null,
      "outputs": []
    },
    {
      "cell_type": "code",
      "source": [
        "import numpy as np\n",
        "# from Environment import Actor\n",
        "from Rudder import LessonBuffer\n",
        "from Environment import Environment\n",
        "from Rudder import RRLSTM as LSTM\n",
        "import torch\n",
        "import time as Time\n",
        "import random\n",
        "from PolicyUpdater import PolicyUpdater\n",
        "from matplotlib import pyplot as plt\n",
        "from StateDto import State\n",
        "\n",
        "\n",
        "lb_size = 2048\n",
        "n_lstm = 16\n",
        "max_time = 50\n",
        "policy_lr = 0.5\n",
        "lstm_lr = 1e-2\n",
        "l2_regularization = 1e-6\n",
        "avg_window = 750\n",
        "UseOptimalPolicy = True\n",
        "episode = 0\n",
        "NUM_EPISODE = 100\n",
        "deadline = 40\n",
        "environment = Environment(250,50)\n",
        "environment.CreateStates()\n",
        "policy_updator  = PolicyUpdater(environment= environment, lr = policy_lr)\n",
        "Total_Reward_List = []\n",
        "Total_Reward_List_Without_Optimal_Policy = []\n",
        "\n",
        "for i in range(NUM_EPISODE):\n",
        "    environment.reset_paramter()\n",
        "    state , fixed_State = environment.reset_state()\n",
        "    first_state = state\n",
        "    print(first_state)\n",
        "    environment.generate_channel_state_list_for_whole_sequence(state[1])\n",
        "    episode += 1\n",
        "    rewards = []\n",
        "    states = [first_state]\n",
        "    Episode_AoI = [first_state[0]]\n",
        "    actions = []\n",
        "    done = False\n",
        "    name = f'({first_state[0]}, {first_state[1]}, {first_state[2]}, {first_state[3]}, {first_state[4]})'\n",
        "\n",
        "    while not done:\n",
        "        action = 1\n",
        "        if environment.state.Ra == 0 and environment.state.U == 0:\n",
        "          action = 0\n",
        "        if environment.state.U > 0:\n",
        "          action = 0\n",
        "          \n",
        "        state, reward, done = environment.step(action)\n",
        "        Episode_AoI.append(state[0])\n",
        "        actions.append(action)\n",
        "        states.append(state)\n",
        "        rewards.append(reward) \n",
        "        if done: \n",
        "          Episode_AoI = [int(i) for i in Episode_AoI]\n",
        "          Total_Reward_List_Without_Optimal_Policy.append(sum(Episode_AoI)/deadline)\n",
        "    rewards = []\n",
        "    states = [first_state]\n",
        "    Episode_AoI = [first_state[0]]\n",
        "    actions = []\n",
        "    done = False\n",
        "    environment.reset_paramter()\n",
        "    environment.state = State(name, int(first_state[0]), (first_state[1]), int(first_state[2]), int(first_state[3]), int(first_state[4]))\n",
        "    while not done:\n",
        "        if UseOptimalPolicy:\n",
        "          action  = 0 if Optimal_Policy_Dict[name] == 'wait' else 1 \n",
        "          # print(Optimal_Policy_Dict[name])\n",
        "        # else:\n",
        "        #   action = 1 \n",
        "        if environment.state.Ra == 0 and environment.state.U == 0:\n",
        "          action = 0\n",
        "        # if environment.state.Ra == 0 and environment.state.U == 24:\n",
        "        #   action = 1\n",
        "        if environment.state.U > 0:\n",
        "          action = 0\n",
        "        if environment.sendbackaction == True:\n",
        "          action = 1\n",
        "        state, reward, done = environment.step(action)\n",
        "\n",
        "        Episode_AoI.append(state[0])\n",
        "        actions.append(action)\n",
        "        states.append(state)\n",
        "        rewards.append(reward) \n",
        "        if done: \n",
        "          Episode_AoI = [int(i) for i in Episode_AoI]\n",
        "          Total_Reward_List.append(sum(Episode_AoI)/deadline)\n",
        "\n",
        "\n",
        "fig, ax = plt.subplots(2,figsize=(12,11))\n",
        "\n",
        "\n",
        "AVerageAoIUsingScheduler = [sum(Total_Reward_List)/NUM_EPISODE for i in range(NUM_EPISODE)]\n",
        "AVerageAoIWithoutScheduler = [sum(Total_Reward_List_Without_Optimal_Policy)/NUM_EPISODE for i in range(NUM_EPISODE)]\n",
        "\n",
        "AoI_Difference_List = [Total_Reward_List_Without_Optimal_Policy[i] - Total_Reward_List[i] for i in range(len(Total_Reward_List_Without_Optimal_Policy)) ]\n",
        "\n",
        "ax[1].plot(AoI_Difference_List, label ='Average AoI Difference', color = \"b\" ,mec = 'b', mfc = 'w', marker='.', markersize = 18, linestyle = \"solid\", linewidth = 3)\n",
        "\n",
        "ax[0].plot(Total_Reward_List, label ='Using AoI Scheduler', color = \"g\" ,mec = 'g', mfc = 'w', marker='.', markersize = 18, linestyle = \"dashed\", linewidth = 3)\n",
        "ax[0].plot(Total_Reward_List_Without_Optimal_Policy, label ='Always sending back' , mec = 'r', mfc = 'w', color = \"r\", marker='.', markersize = 18,  linestyle = \"solid\", linewidth = 3)\n",
        "# for i in range(len(Total_Reward_List)):\n",
        "#     if AoI_Difference_List[i] == 0:\n",
        "#         color = 'black'  # set the marker color to red if the values are equal\n",
        "#         ax[1].plot(i, AoI_Difference_List[i], label ='Send decision', color=color, marker='o', markersize=5)\n",
        "# for i in range(len(Total_Reward_List)):\n",
        "#     if AoI_Difference_List[i] != 0:\n",
        "#         color = 'yellow'  # set the marker color to red if the values are equal\n",
        "#         ax[1].plot(i, AoI_Difference_List[i], label ='Wait decision', color=color, marker='o', markersize=5)\n",
        "\n",
        "\n",
        "# ax.plot(AVerageAoIUsingScheduler, label ='Average AoI of 100 Episodes Using AoI Scheduler', color = \"g\" , markersize = 5, linestyle = \"dashed\", linewidth = 3)\n",
        "# ax.plot(AVerageAoIWithoutScheduler, label ='Average AoI of 100 Episodes without AoI Scheduler' , color = \"r\", markersize = 5,  linestyle = \"dashed\", linewidth = 3)\n",
        "\n",
        "ax[0].legend(fontsize = 20, loc='upper left')\n",
        "ax[1].legend(fontsize = 20, loc='upper left')\n",
        "handles, labels = plt.gca().get_legend_handles_labels()\n",
        "# by_label = dict(zip(labels, handles))\n",
        "# ax[1].legend(by_label.values(), by_label.keys(), loc='upper left')\n",
        "\n",
        "ax[0].grid()\n",
        "ax[1].grid()\n",
        "ax[0].set_ylabel(\"Average AoI\", fontsize = 22.0)\n",
        "ax[0].set_xlim(xmin=0, xmax=100)\n",
        "ax[1].set_xlabel(\"Episode\", fontsize = 22.0)\n",
        "ax[1].set_ylabel(\"Average AoI difference\", fontsize = 22.0)\n",
        "ax[1].set_xlim(xmin=0, xmax=100)\n",
        "ax[0].tick_params(labelsize=15)\n",
        "ax[1].tick_params(labelsize=15)\n",
        "string = \"$P^{CH}_{11}$$ = 0.5, $$P^{CH}_{12}$$ = 0.5, $$P^{CH}_{21}$$ = 0.6, $$P^{CH}_{22}$$ = 0.4$\"\n",
        "fig.suptitle(string, fontweight =\"bold\" , y = 0.95, fontsize = 20) \n",
        "ax[0].set_title('(a)' , fontsize = 19)\n",
        "ax[1].set_title('(b)', fontsize = 19)\n",
        "fig.savefig('SimulationResult_DDDQN_70_125_0.5_0.5.pdf')  \n",
        "\n",
        "print(f\"Average AoI of each episode with AoI scheduler: {sum(Total_Reward_List)/NUM_EPISODE}\")\n",
        "print(f\"Average AoI of each episode when DT always send DT data back at request arrival: {sum(Total_Reward_List_Without_Optimal_Policy)/NUM_EPISODE}\")\n",
        "print(f\"Average AoI diiference: {sum(AoI_Difference_List)/NUM_EPISODE}\")\n",
        "\n",
        "number_of_optimal_actions = 0\n",
        "for i in AoI_Difference_List:\n",
        "  if i > 0 or i < 0:\n",
        "      number_of_optimal_actions += 1 \n",
        "print(f\"Accuracy is {(number_of_optimal_actions/len(AoI_Difference_List))*100}\")\n"
      ],
      "metadata": {
        "id": "Jv-AyVRQx_ZT",
        "outputId": "09d83d85-978a-4a12-d07b-aef12d5ad62a",
        "colab": {
          "base_uri": "https://localhost:8080/",
          "height": 1000
        }
      },
      "execution_count": 7,
      "outputs": [
        {
          "output_type": "stream",
          "name": "stdout",
          "text": [
            "[[0.1, 0.9], [0.2, 0.8]]\n",
            "402108\n",
            "['152' 'Ch2' '150' '1' '0']\n",
            "['151' 'Ch1' '150' '1' '0']\n",
            "['222' 'Ch1' '150' '1' '0']\n",
            "['288' 'Ch2' '150' '1' '0']\n",
            "['92' 'Ch2' '150' '1' '0']\n",
            "['345' 'Ch2' '150' '1' '0']\n",
            "['283' 'Ch2' '150' '1' '0']\n",
            "['218' 'Ch2' '150' '1' '0']\n",
            "['276' 'Ch1' '150' '1' '0']\n",
            "['218' 'Ch2' '150' '1' '0']\n",
            "['221' 'Ch2' '150' '1' '0']\n",
            "['150' 'Ch1' '150' '1' '0']\n",
            "['158' 'Ch1' '150' '1' '0']\n",
            "['147' 'Ch2' '150' '1' '0']\n",
            "['282' 'Ch2' '150' '1' '0']\n",
            "['354' 'Ch2' '150' '1' '0']\n",
            "['276' 'Ch2' '150' '1' '0']\n",
            "['215' 'Ch1' '150' '1' '0']\n",
            "['159' 'Ch2' '150' '1' '0']\n",
            "['218' 'Ch2' '150' '1' '0']\n",
            "['82' 'Ch2' '150' '1' '0']\n",
            "['149' 'Ch2' '150' '1' '0']\n",
            "['353' 'Ch2' '150' '1' '0']\n",
            "['156' 'Ch2' '150' '1' '0']\n",
            "['88' 'Ch2' '150' '1' '0']\n",
            "['214' 'Ch1' '150' '1' '0']\n",
            "['348' 'Ch2' '150' '1' '0']\n",
            "['222' 'Ch1' '150' '1' '0']\n",
            "['276' 'Ch1' '150' '1' '0']\n",
            "['80' 'Ch2' '150' '1' '0']\n",
            "['85' 'Ch1' '150' '1' '0']\n",
            "['355' 'Ch2' '150' '1' '0']\n",
            "['216' 'Ch2' '150' '1' '0']\n",
            "['281' 'Ch1' '150' '1' '0']\n",
            "['151' 'Ch2' '150' '1' '0']\n",
            "['282' 'Ch1' '150' '1' '0']\n",
            "['343' 'Ch1' '150' '1' '0']\n",
            "['154' 'Ch1' '150' '1' '0']\n",
            "['159' 'Ch2' '150' '1' '0']\n",
            "['214' 'Ch1' '150' '1' '0']\n",
            "['275' 'Ch1' '150' '1' '0']\n",
            "['342' 'Ch2' '150' '1' '0']\n",
            "['223' 'Ch2' '150' '1' '0']\n",
            "['220' 'Ch1' '150' '1' '0']\n",
            "['282' 'Ch2' '150' '1' '0']\n",
            "['82' 'Ch1' '150' '1' '0']\n",
            "['85' 'Ch2' '150' '1' '0']\n",
            "['215' 'Ch1' '150' '1' '0']\n",
            "['275' 'Ch1' '150' '1' '0']\n",
            "['157' 'Ch2' '150' '1' '0']\n",
            "['282' 'Ch1' '150' '1' '0']\n",
            "['146' 'Ch2' '150' '1' '0']\n",
            "['344' 'Ch1' '150' '1' '0']\n",
            "['343' 'Ch1' '150' '1' '0']\n",
            "['223' 'Ch1' '150' '1' '0']\n",
            "['219' 'Ch1' '150' '1' '0']\n",
            "['221' 'Ch1' '150' '1' '0']\n",
            "['224' 'Ch2' '150' '1' '0']\n",
            "['160' 'Ch2' '150' '1' '0']\n",
            "['341' 'Ch2' '150' '1' '0']\n",
            "['280' 'Ch2' '150' '1' '0']\n",
            "['151' 'Ch2' '150' '1' '0']\n",
            "['155' 'Ch2' '150' '1' '0']\n",
            "['152' 'Ch1' '150' '1' '0']\n",
            "['81' 'Ch2' '150' '1' '0']\n",
            "['342' 'Ch2' '150' '1' '0']\n",
            "['218' 'Ch2' '150' '1' '0']\n",
            "['222' 'Ch1' '150' '1' '0']\n",
            "['147' 'Ch2' '150' '1' '0']\n",
            "['220' 'Ch1' '150' '1' '0']\n",
            "['289' 'Ch1' '150' '1' '0']\n",
            "['290' 'Ch2' '150' '1' '0']\n",
            "['94' 'Ch1' '150' '1' '0']\n",
            "['222' 'Ch2' '150' '1' '0']\n",
            "['159' 'Ch1' '150' '1' '0']\n",
            "['355' 'Ch2' '150' '1' '0']\n",
            "['152' 'Ch1' '150' '1' '0']\n",
            "['277' 'Ch2' '150' '1' '0']\n",
            "['353' 'Ch1' '150' '1' '0']\n",
            "['87' 'Ch1' '150' '1' '0']\n",
            "['160' 'Ch1' '150' '1' '0']\n",
            "['82' 'Ch2' '150' '1' '0']\n",
            "['349' 'Ch2' '150' '1' '0']\n",
            "['352' 'Ch2' '150' '1' '0']\n",
            "['352' 'Ch2' '150' '1' '0']\n",
            "['221' 'Ch2' '150' '1' '0']\n",
            "['221' 'Ch2' '150' '1' '0']\n",
            "['146' 'Ch1' '150' '1' '0']\n",
            "['276' 'Ch2' '150' '1' '0']\n",
            "['85' 'Ch1' '150' '1' '0']\n",
            "['95' 'Ch1' '150' '1' '0']\n",
            "['156' 'Ch2' '150' '1' '0']\n",
            "['217' 'Ch1' '150' '1' '0']\n",
            "['85' 'Ch1' '150' '1' '0']\n",
            "['351' 'Ch1' '150' '1' '0']\n",
            "['218' 'Ch1' '150' '1' '0']\n",
            "['225' 'Ch2' '150' '1' '0']\n",
            "['343' 'Ch2' '150' '1' '0']\n",
            "['350' 'Ch2' '150' '1' '0']\n",
            "['276' 'Ch2' '150' '1' '0']\n",
            "Average AoI of each episode with AoI scheduler: 109.07449999999997\n",
            "Average AoI of each episode when DT always send DT data back at request arrival: 113.75449999999996\n",
            "Average AoI diiference: 4.68\n",
            "Accuracy is 14.000000000000002\n"
          ]
        },
        {
          "output_type": "display_data",
          "data": {
            "text/plain": [
              "<Figure size 864x792 with 2 Axes>"
            ],
            "image/png": "[encoded data removed]"
          },
          "metadata": {
            "needs_background": "light"
          }
        }
      ]
    },
    {
      "cell_type": "code",
      "source": [],
      "metadata": {
        "id": "JI_2h0OGi3bM"
      },
      "execution_count": null,
      "outputs": []
    },
    {
      "cell_type": "code",
      "source": [
        "!nvcc --version\n"
      ],
      "metadata": {
        "id": "X_LOIlxjuP7-",
        "outputId": "1ae4a7f3-3cc4-41ef-f1d8-3be4eb3af74a",
        "colab": {
          "base_uri": "https://localhost:8080/"
        }
      },
      "execution_count": null,
      "outputs": [
        {
          "output_type": "stream",
          "name": "stdout",
          "text": [
            "nvcc: NVIDIA (R) Cuda compiler driver\n",
            "Copyright (c) 2005-2022 NVIDIA Corporation\n",
            "Built on Tue_Mar__8_18:18:20_PST_2022\n",
            "Cuda compilation tools, release 11.6, V11.6.124\n",
            "Build cuda_11.6.r11.6/compiler.31057947_0\n"
          ]
        }
      ]
    },
    {
      "cell_type": "code",
      "source": [
        "!pip install git+https://github.com/andreinechaev/nvcc4jupyter.git\n"
      ],
      "metadata": {
        "id": "IQMj1B2RuVC-",
        "outputId": "72fee1ef-d4a4-4e22-ac10-0f591c11824f",
        "colab": {
          "base_uri": "https://localhost:8080/"
        }
      },
      "execution_count": null,
      "outputs": [
        {
          "output_type": "stream",
          "name": "stdout",
          "text": [
            "Looking in indexes: https://pypi.org/simple, https://us-python.pkg.dev/colab-wheels/public/simple/\n",
            "Collecting git+https://github.com/andreinechaev/nvcc4jupyter.git\n",
            "  Cloning https://github.com/andreinechaev/nvcc4jupyter.git to /tmp/pip-req-build-6quk9nlc\n",
            "  Running command git clone --filter=blob:none --quiet https://github.com/andreinechaev/nvcc4jupyter.git /tmp/pip-req-build-6quk9nlc\n",
            "  Resolved https://github.com/andreinechaev/nvcc4jupyter.git to commit aac710a35f52bb78ab34d2e52517237941399eff\n",
            "  Preparing metadata (setup.py) ... \u001b[?25l\u001b[?25hdone\n",
            "Building wheels for collected packages: NVCCPlugin\n",
            "  Building wheel for NVCCPlugin (setup.py) ... \u001b[?25l\u001b[?25hdone\n",
            "  Created wheel for NVCCPlugin: filename=NVCCPlugin-0.0.2-py3-none-any.whl size=4304 sha256=18a4bc0ef51d1bb689e4ada74554f25c329c21c2904d8e379fd707cc2bfc02de\n",
            "  Stored in directory: /tmp/pip-ephem-wheel-cache-nlyq_c0t/wheels/f3/08/cc/e2b5b0e1c92df07dbb50a6f024a68ce090f5e7b2316b41756d\n",
            "Successfully built NVCCPlugin\n",
            "Installing collected packages: NVCCPlugin\n",
            "Successfully installed NVCCPlugin-0.0.2\n"
          ]
        }
      ]
    },
    {
      "cell_type": "code",
      "source": [
        "%load_ext nvcc_plugin\n"
      ],
      "metadata": {
        "id": "iH3D0oySuZeG",
        "outputId": "9ab5a0c7-2d8d-4424-bfe1-5343b5d6be47",
        "colab": {
          "base_uri": "https://localhost:8080/"
        }
      },
      "execution_count": null,
      "outputs": [
        {
          "output_type": "stream",
          "name": "stdout",
          "text": [
            "created output directory at /content/src\n",
            "Out bin /content/result.out\n"
          ]
        }
      ]
    }
  ]
}